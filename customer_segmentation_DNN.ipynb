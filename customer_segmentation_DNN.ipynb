{
 "cells": [
  {
   "cell_type": "code",
   "execution_count": 1,
   "metadata": {
    "id": "H_i5zRrQ2rkn"
   },
   "outputs": [],
   "source": [
    "import numpy as np\n",
    "import pandas as pd\n",
    "\n",
    "from tensorflow.keras import Sequential\n",
    "from tensorflow.keras.layers import Dense"
   ]
  },
  {
   "cell_type": "code",
   "execution_count": 2,
   "metadata": {
    "colab": {
     "base_uri": "https://localhost:8080/",
     "height": 206
    },
    "id": "HmLBOkab3o2g",
    "outputId": "72161ff0-c07d-4d23-9a1c-0793deece475"
   },
   "outputs": [
    {
     "data": {
      "text/html": [
       "\n",
       "  <div id=\"df-49ddc5a3-dd4f-4600-8127-993c42f65c5b\">\n",
       "    <div class=\"colab-df-container\">\n",
       "      <div>\n",
       "<style scoped>\n",
       "    .dataframe tbody tr th:only-of-type {\n",
       "        vertical-align: middle;\n",
       "    }\n",
       "\n",
       "    .dataframe tbody tr th {\n",
       "        vertical-align: top;\n",
       "    }\n",
       "\n",
       "    .dataframe thead th {\n",
       "        text-align: right;\n",
       "    }\n",
       "</style>\n",
       "<table border=\"1\" class=\"dataframe\">\n",
       "  <thead>\n",
       "    <tr style=\"text-align: right;\">\n",
       "      <th></th>\n",
       "      <th>ID</th>\n",
       "      <th>Gender</th>\n",
       "      <th>Ever_Married</th>\n",
       "      <th>Age</th>\n",
       "      <th>Graduated</th>\n",
       "      <th>Profession</th>\n",
       "      <th>Work_Experience</th>\n",
       "      <th>Spending_Score</th>\n",
       "      <th>Family_Size</th>\n",
       "      <th>Var_1</th>\n",
       "      <th>Segmentation</th>\n",
       "    </tr>\n",
       "  </thead>\n",
       "  <tbody>\n",
       "    <tr>\n",
       "      <th>0</th>\n",
       "      <td>462809</td>\n",
       "      <td>Male</td>\n",
       "      <td>No</td>\n",
       "      <td>22</td>\n",
       "      <td>No</td>\n",
       "      <td>Healthcare</td>\n",
       "      <td>1.0</td>\n",
       "      <td>Low</td>\n",
       "      <td>4.0</td>\n",
       "      <td>Cat_4</td>\n",
       "      <td>D</td>\n",
       "    </tr>\n",
       "    <tr>\n",
       "      <th>1</th>\n",
       "      <td>462643</td>\n",
       "      <td>Female</td>\n",
       "      <td>Yes</td>\n",
       "      <td>38</td>\n",
       "      <td>Yes</td>\n",
       "      <td>Engineer</td>\n",
       "      <td>NaN</td>\n",
       "      <td>Average</td>\n",
       "      <td>3.0</td>\n",
       "      <td>Cat_4</td>\n",
       "      <td>A</td>\n",
       "    </tr>\n",
       "    <tr>\n",
       "      <th>2</th>\n",
       "      <td>466315</td>\n",
       "      <td>Female</td>\n",
       "      <td>Yes</td>\n",
       "      <td>67</td>\n",
       "      <td>Yes</td>\n",
       "      <td>Engineer</td>\n",
       "      <td>1.0</td>\n",
       "      <td>Low</td>\n",
       "      <td>1.0</td>\n",
       "      <td>Cat_6</td>\n",
       "      <td>B</td>\n",
       "    </tr>\n",
       "    <tr>\n",
       "      <th>3</th>\n",
       "      <td>461735</td>\n",
       "      <td>Male</td>\n",
       "      <td>Yes</td>\n",
       "      <td>67</td>\n",
       "      <td>Yes</td>\n",
       "      <td>Lawyer</td>\n",
       "      <td>0.0</td>\n",
       "      <td>High</td>\n",
       "      <td>2.0</td>\n",
       "      <td>Cat_6</td>\n",
       "      <td>B</td>\n",
       "    </tr>\n",
       "    <tr>\n",
       "      <th>4</th>\n",
       "      <td>462669</td>\n",
       "      <td>Female</td>\n",
       "      <td>Yes</td>\n",
       "      <td>40</td>\n",
       "      <td>Yes</td>\n",
       "      <td>Entertainment</td>\n",
       "      <td>NaN</td>\n",
       "      <td>High</td>\n",
       "      <td>6.0</td>\n",
       "      <td>Cat_6</td>\n",
       "      <td>A</td>\n",
       "    </tr>\n",
       "  </tbody>\n",
       "</table>\n",
       "</div>\n",
       "      <button class=\"colab-df-convert\" onclick=\"convertToInteractive('df-49ddc5a3-dd4f-4600-8127-993c42f65c5b')\"\n",
       "              title=\"Convert this dataframe to an interactive table.\"\n",
       "              style=\"display:none;\">\n",
       "        \n",
       "  <svg xmlns=\"http://www.w3.org/2000/svg\" height=\"24px\"viewBox=\"0 0 24 24\"\n",
       "       width=\"24px\">\n",
       "    <path d=\"M0 0h24v24H0V0z\" fill=\"none\"/>\n",
       "    <path d=\"M18.56 5.44l.94 2.06.94-2.06 2.06-.94-2.06-.94-.94-2.06-.94 2.06-2.06.94zm-11 1L8.5 8.5l.94-2.06 2.06-.94-2.06-.94L8.5 2.5l-.94 2.06-2.06.94zm10 10l.94 2.06.94-2.06 2.06-.94-2.06-.94-.94-2.06-.94 2.06-2.06.94z\"/><path d=\"M17.41 7.96l-1.37-1.37c-.4-.4-.92-.59-1.43-.59-.52 0-1.04.2-1.43.59L10.3 9.45l-7.72 7.72c-.78.78-.78 2.05 0 2.83L4 21.41c.39.39.9.59 1.41.59.51 0 1.02-.2 1.41-.59l7.78-7.78 2.81-2.81c.8-.78.8-2.07 0-2.86zM5.41 20L4 18.59l7.72-7.72 1.47 1.35L5.41 20z\"/>\n",
       "  </svg>\n",
       "      </button>\n",
       "      \n",
       "  <style>\n",
       "    .colab-df-container {\n",
       "      display:flex;\n",
       "      flex-wrap:wrap;\n",
       "      gap: 12px;\n",
       "    }\n",
       "\n",
       "    .colab-df-convert {\n",
       "      background-color: #E8F0FE;\n",
       "      border: none;\n",
       "      border-radius: 50%;\n",
       "      cursor: pointer;\n",
       "      display: none;\n",
       "      fill: #1967D2;\n",
       "      height: 32px;\n",
       "      padding: 0 0 0 0;\n",
       "      width: 32px;\n",
       "    }\n",
       "\n",
       "    .colab-df-convert:hover {\n",
       "      background-color: #E2EBFA;\n",
       "      box-shadow: 0px 1px 2px rgba(60, 64, 67, 0.3), 0px 1px 3px 1px rgba(60, 64, 67, 0.15);\n",
       "      fill: #174EA6;\n",
       "    }\n",
       "\n",
       "    [theme=dark] .colab-df-convert {\n",
       "      background-color: #3B4455;\n",
       "      fill: #D2E3FC;\n",
       "    }\n",
       "\n",
       "    [theme=dark] .colab-df-convert:hover {\n",
       "      background-color: #434B5C;\n",
       "      box-shadow: 0px 1px 3px 1px rgba(0, 0, 0, 0.15);\n",
       "      filter: drop-shadow(0px 1px 2px rgba(0, 0, 0, 0.3));\n",
       "      fill: #FFFFFF;\n",
       "    }\n",
       "  </style>\n",
       "\n",
       "      <script>\n",
       "        const buttonEl =\n",
       "          document.querySelector('#df-49ddc5a3-dd4f-4600-8127-993c42f65c5b button.colab-df-convert');\n",
       "        buttonEl.style.display =\n",
       "          google.colab.kernel.accessAllowed ? 'block' : 'none';\n",
       "\n",
       "        async function convertToInteractive(key) {\n",
       "          const element = document.querySelector('#df-49ddc5a3-dd4f-4600-8127-993c42f65c5b');\n",
       "          const dataTable =\n",
       "            await google.colab.kernel.invokeFunction('convertToInteractive',\n",
       "                                                     [key], {});\n",
       "          if (!dataTable) return;\n",
       "\n",
       "          const docLinkHtml = 'Like what you see? Visit the ' +\n",
       "            '<a target=\"_blank\" href=https://colab.research.google.com/notebooks/data_table.ipynb>data table notebook</a>'\n",
       "            + ' to learn more about interactive tables.';\n",
       "          element.innerHTML = '';\n",
       "          dataTable['output_type'] = 'display_data';\n",
       "          await google.colab.output.renderOutput(dataTable, element);\n",
       "          const docLink = document.createElement('div');\n",
       "          docLink.innerHTML = docLinkHtml;\n",
       "          element.appendChild(docLink);\n",
       "        }\n",
       "      </script>\n",
       "    </div>\n",
       "  </div>\n",
       "  "
      ],
      "text/plain": [
       "       ID  Gender Ever_Married  Age Graduated     Profession  Work_Experience  \\\n",
       "0  462809    Male           No   22        No     Healthcare              1.0   \n",
       "1  462643  Female          Yes   38       Yes       Engineer              NaN   \n",
       "2  466315  Female          Yes   67       Yes       Engineer              1.0   \n",
       "3  461735    Male          Yes   67       Yes         Lawyer              0.0   \n",
       "4  462669  Female          Yes   40       Yes  Entertainment              NaN   \n",
       "\n",
       "  Spending_Score  Family_Size  Var_1 Segmentation  \n",
       "0            Low          4.0  Cat_4            D  \n",
       "1        Average          3.0  Cat_4            A  \n",
       "2            Low          1.0  Cat_6            B  \n",
       "3           High          2.0  Cat_6            B  \n",
       "4           High          6.0  Cat_6            A  "
      ]
     },
     "execution_count": 2,
     "metadata": {},
     "output_type": "execute_result"
    }
   ],
   "source": [
    "df = pd.read_csv('train.csv')\n",
    "df.head()"
   ]
  },
  {
   "cell_type": "code",
   "execution_count": 3,
   "metadata": {
    "colab": {
     "base_uri": "https://localhost:8080/",
     "height": 0
    },
    "id": "hcxx5l9Q5qL4",
    "outputId": "8142ef3e-3f34-458d-f594-fda7a5d57b32"
   },
   "outputs": [
    {
     "name": "stdout",
     "output_type": "stream",
     "text": [
      "<class 'pandas.core.frame.DataFrame'>\n",
      "RangeIndex: 8068 entries, 0 to 8067\n",
      "Data columns (total 11 columns):\n",
      " #   Column           Non-Null Count  Dtype  \n",
      "---  ------           --------------  -----  \n",
      " 0   ID               8068 non-null   int64  \n",
      " 1   Gender           8068 non-null   object \n",
      " 2   Ever_Married     7928 non-null   object \n",
      " 3   Age              8068 non-null   int64  \n",
      " 4   Graduated        7990 non-null   object \n",
      " 5   Profession       7944 non-null   object \n",
      " 6   Work_Experience  7239 non-null   float64\n",
      " 7   Spending_Score   8068 non-null   object \n",
      " 8   Family_Size      7733 non-null   float64\n",
      " 9   Var_1            7992 non-null   object \n",
      " 10  Segmentation     8068 non-null   object \n",
      "dtypes: float64(2), int64(2), object(7)\n",
      "memory usage: 693.5+ KB\n"
     ]
    }
   ],
   "source": [
    "df.info()"
   ]
  },
  {
   "cell_type": "code",
   "execution_count": 4,
   "metadata": {
    "id": "bOhx5VP8N-gh"
   },
   "outputs": [],
   "source": [
    "df.drop('Segmentation', axis=1, inplace=True) # Not in test data"
   ]
  },
  {
   "cell_type": "code",
   "execution_count": 5,
   "metadata": {
    "colab": {
     "base_uri": "https://localhost:8080/",
     "height": 0
    },
    "id": "D9VEEInGNGh8",
    "outputId": "f11cc635-7117-443f-d9b7-6ff470a59d07"
   },
   "outputs": [
    {
     "data": {
      "text/plain": [
       "ID                   0\n",
       "Gender               0\n",
       "Ever_Married       140\n",
       "Age                  0\n",
       "Graduated           78\n",
       "Profession         124\n",
       "Work_Experience    829\n",
       "Spending_Score       0\n",
       "Family_Size        335\n",
       "Var_1               76\n",
       "dtype: int64"
      ]
     },
     "execution_count": 5,
     "metadata": {},
     "output_type": "execute_result"
    }
   ],
   "source": [
    "df.isna().sum()"
   ]
  },
  {
   "cell_type": "code",
   "execution_count": 6,
   "metadata": {
    "id": "WwczlslPUVI4"
   },
   "outputs": [],
   "source": [
    "df['Ever_Married'].fillna(df['Ever_Married'].mode()[0], inplace=True)\n",
    "df['Graduated'].fillna(df['Graduated'].mode()[0], inplace=True)\n",
    "df['Profession'].fillna(df['Profession'].mode()[0], inplace=True)\n",
    "df['Work_Experience'].fillna(df['Work_Experience'].mode()[0], inplace=True)\n",
    "df['Family_Size'].fillna(df['Family_Size'].mode()[0], inplace=True)"
   ]
  },
  {
   "cell_type": "code",
   "execution_count": 7,
   "metadata": {
    "id": "uKi4AwcgNLxy"
   },
   "outputs": [],
   "source": [
    "# dropping the rows with missing target value\n",
    "df = df[~df.Var_1.isna()]"
   ]
  },
  {
   "cell_type": "code",
   "execution_count": 8,
   "metadata": {
    "colab": {
     "base_uri": "https://localhost:8080/",
     "height": 0
    },
    "id": "ie1HG1cqA5Hr",
    "outputId": "a36e7784-7ead-495c-9860-cef19e7209d8"
   },
   "outputs": [
    {
     "data": {
      "text/plain": [
       "Cat_6    0.655405\n",
       "Cat_4    0.136261\n",
       "Cat_3    0.102853\n",
       "Cat_2    0.052803\n",
       "Cat_7    0.025400\n",
       "Cat_1    0.016642\n",
       "Cat_5    0.010636\n",
       "Name: Var_1, dtype: float64"
      ]
     },
     "execution_count": 8,
     "metadata": {},
     "output_type": "execute_result"
    }
   ],
   "source": [
    "df.Var_1.value_counts()/df.shape[0]"
   ]
  },
  {
   "cell_type": "code",
   "execution_count": 9,
   "metadata": {
    "colab": {
     "base_uri": "https://localhost:8080/",
     "height": 0
    },
    "id": "SbtjVDIuCka0",
    "outputId": "9bcfc585-1f85-466c-bef9-18ece93403f4"
   },
   "outputs": [
    {
     "data": {
      "text/plain": [
       "Cat_6    0.655405\n",
       "Other    0.208333\n",
       "Cat_4    0.136261\n",
       "Name: Var_1, dtype: float64"
      ]
     },
     "execution_count": 9,
     "metadata": {},
     "output_type": "execute_result"
    }
   ],
   "source": [
    "# using only 3 classes\n",
    "df.Var_1 = df.Var_1.map({'Cat_6': 'Cat_6', 'Cat_4': 'Cat_4', 'Cat_3': 'Other', 'Cat_2': 'Other', 'Cat_7': 'Other', 'Cat_1': 'Other', 'Cat_5': 'Other'})\n",
    "df.Var_1.value_counts()/df.shape[0]\n"
   ]
  },
  {
   "attachments": {},
   "cell_type": "markdown",
   "metadata": {
    "id": "jkpUwIjg402C"
   },
   "source": [
    "##### Shuffling of the data"
   ]
  },
  {
   "cell_type": "code",
   "execution_count": 10,
   "metadata": {
    "colab": {
     "base_uri": "https://localhost:8080/",
     "height": 206
    },
    "id": "JRQYeN7t3zRf",
    "outputId": "ae31e8b4-604f-4139-bff1-a0aeb8b42286"
   },
   "outputs": [
    {
     "data": {
      "text/html": [
       "\n",
       "  <div id=\"df-de3629ac-d969-47ba-8647-14104825dba4\">\n",
       "    <div class=\"colab-df-container\">\n",
       "      <div>\n",
       "<style scoped>\n",
       "    .dataframe tbody tr th:only-of-type {\n",
       "        vertical-align: middle;\n",
       "    }\n",
       "\n",
       "    .dataframe tbody tr th {\n",
       "        vertical-align: top;\n",
       "    }\n",
       "\n",
       "    .dataframe thead th {\n",
       "        text-align: right;\n",
       "    }\n",
       "</style>\n",
       "<table border=\"1\" class=\"dataframe\">\n",
       "  <thead>\n",
       "    <tr style=\"text-align: right;\">\n",
       "      <th></th>\n",
       "      <th>ID</th>\n",
       "      <th>Gender</th>\n",
       "      <th>Ever_Married</th>\n",
       "      <th>Age</th>\n",
       "      <th>Graduated</th>\n",
       "      <th>Profession</th>\n",
       "      <th>Work_Experience</th>\n",
       "      <th>Spending_Score</th>\n",
       "      <th>Family_Size</th>\n",
       "      <th>Var_1</th>\n",
       "    </tr>\n",
       "  </thead>\n",
       "  <tbody>\n",
       "    <tr>\n",
       "      <th>0</th>\n",
       "      <td>466551</td>\n",
       "      <td>Male</td>\n",
       "      <td>Yes</td>\n",
       "      <td>36</td>\n",
       "      <td>Yes</td>\n",
       "      <td>Artist</td>\n",
       "      <td>9.0</td>\n",
       "      <td>Average</td>\n",
       "      <td>2.0</td>\n",
       "      <td>Cat_6</td>\n",
       "    </tr>\n",
       "    <tr>\n",
       "      <th>1</th>\n",
       "      <td>467548</td>\n",
       "      <td>Male</td>\n",
       "      <td>Yes</td>\n",
       "      <td>48</td>\n",
       "      <td>Yes</td>\n",
       "      <td>Artist</td>\n",
       "      <td>0.0</td>\n",
       "      <td>High</td>\n",
       "      <td>2.0</td>\n",
       "      <td>Cat_6</td>\n",
       "    </tr>\n",
       "    <tr>\n",
       "      <th>2</th>\n",
       "      <td>460412</td>\n",
       "      <td>Female</td>\n",
       "      <td>No</td>\n",
       "      <td>31</td>\n",
       "      <td>No</td>\n",
       "      <td>Healthcare</td>\n",
       "      <td>0.0</td>\n",
       "      <td>Low</td>\n",
       "      <td>5.0</td>\n",
       "      <td>Other</td>\n",
       "    </tr>\n",
       "    <tr>\n",
       "      <th>3</th>\n",
       "      <td>460663</td>\n",
       "      <td>Female</td>\n",
       "      <td>No</td>\n",
       "      <td>33</td>\n",
       "      <td>No</td>\n",
       "      <td>Homemaker</td>\n",
       "      <td>9.0</td>\n",
       "      <td>Low</td>\n",
       "      <td>1.0</td>\n",
       "      <td>Cat_6</td>\n",
       "    </tr>\n",
       "    <tr>\n",
       "      <th>4</th>\n",
       "      <td>464301</td>\n",
       "      <td>Female</td>\n",
       "      <td>Yes</td>\n",
       "      <td>51</td>\n",
       "      <td>Yes</td>\n",
       "      <td>Doctor</td>\n",
       "      <td>0.0</td>\n",
       "      <td>Average</td>\n",
       "      <td>3.0</td>\n",
       "      <td>Cat_6</td>\n",
       "    </tr>\n",
       "  </tbody>\n",
       "</table>\n",
       "</div>\n",
       "      <button class=\"colab-df-convert\" onclick=\"convertToInteractive('df-de3629ac-d969-47ba-8647-14104825dba4')\"\n",
       "              title=\"Convert this dataframe to an interactive table.\"\n",
       "              style=\"display:none;\">\n",
       "        \n",
       "  <svg xmlns=\"http://www.w3.org/2000/svg\" height=\"24px\"viewBox=\"0 0 24 24\"\n",
       "       width=\"24px\">\n",
       "    <path d=\"M0 0h24v24H0V0z\" fill=\"none\"/>\n",
       "    <path d=\"M18.56 5.44l.94 2.06.94-2.06 2.06-.94-2.06-.94-.94-2.06-.94 2.06-2.06.94zm-11 1L8.5 8.5l.94-2.06 2.06-.94-2.06-.94L8.5 2.5l-.94 2.06-2.06.94zm10 10l.94 2.06.94-2.06 2.06-.94-2.06-.94-.94-2.06-.94 2.06-2.06.94z\"/><path d=\"M17.41 7.96l-1.37-1.37c-.4-.4-.92-.59-1.43-.59-.52 0-1.04.2-1.43.59L10.3 9.45l-7.72 7.72c-.78.78-.78 2.05 0 2.83L4 21.41c.39.39.9.59 1.41.59.51 0 1.02-.2 1.41-.59l7.78-7.78 2.81-2.81c.8-.78.8-2.07 0-2.86zM5.41 20L4 18.59l7.72-7.72 1.47 1.35L5.41 20z\"/>\n",
       "  </svg>\n",
       "      </button>\n",
       "      \n",
       "  <style>\n",
       "    .colab-df-container {\n",
       "      display:flex;\n",
       "      flex-wrap:wrap;\n",
       "      gap: 12px;\n",
       "    }\n",
       "\n",
       "    .colab-df-convert {\n",
       "      background-color: #E8F0FE;\n",
       "      border: none;\n",
       "      border-radius: 50%;\n",
       "      cursor: pointer;\n",
       "      display: none;\n",
       "      fill: #1967D2;\n",
       "      height: 32px;\n",
       "      padding: 0 0 0 0;\n",
       "      width: 32px;\n",
       "    }\n",
       "\n",
       "    .colab-df-convert:hover {\n",
       "      background-color: #E2EBFA;\n",
       "      box-shadow: 0px 1px 2px rgba(60, 64, 67, 0.3), 0px 1px 3px 1px rgba(60, 64, 67, 0.15);\n",
       "      fill: #174EA6;\n",
       "    }\n",
       "\n",
       "    [theme=dark] .colab-df-convert {\n",
       "      background-color: #3B4455;\n",
       "      fill: #D2E3FC;\n",
       "    }\n",
       "\n",
       "    [theme=dark] .colab-df-convert:hover {\n",
       "      background-color: #434B5C;\n",
       "      box-shadow: 0px 1px 3px 1px rgba(0, 0, 0, 0.15);\n",
       "      filter: drop-shadow(0px 1px 2px rgba(0, 0, 0, 0.3));\n",
       "      fill: #FFFFFF;\n",
       "    }\n",
       "  </style>\n",
       "\n",
       "      <script>\n",
       "        const buttonEl =\n",
       "          document.querySelector('#df-de3629ac-d969-47ba-8647-14104825dba4 button.colab-df-convert');\n",
       "        buttonEl.style.display =\n",
       "          google.colab.kernel.accessAllowed ? 'block' : 'none';\n",
       "\n",
       "        async function convertToInteractive(key) {\n",
       "          const element = document.querySelector('#df-de3629ac-d969-47ba-8647-14104825dba4');\n",
       "          const dataTable =\n",
       "            await google.colab.kernel.invokeFunction('convertToInteractive',\n",
       "                                                     [key], {});\n",
       "          if (!dataTable) return;\n",
       "\n",
       "          const docLinkHtml = 'Like what you see? Visit the ' +\n",
       "            '<a target=\"_blank\" href=https://colab.research.google.com/notebooks/data_table.ipynb>data table notebook</a>'\n",
       "            + ' to learn more about interactive tables.';\n",
       "          element.innerHTML = '';\n",
       "          dataTable['output_type'] = 'display_data';\n",
       "          await google.colab.output.renderOutput(dataTable, element);\n",
       "          const docLink = document.createElement('div');\n",
       "          docLink.innerHTML = docLinkHtml;\n",
       "          element.appendChild(docLink);\n",
       "        }\n",
       "      </script>\n",
       "    </div>\n",
       "  </div>\n",
       "  "
      ],
      "text/plain": [
       "       ID  Gender Ever_Married  Age Graduated  Profession  Work_Experience  \\\n",
       "0  466551    Male          Yes   36       Yes      Artist              9.0   \n",
       "1  467548    Male          Yes   48       Yes      Artist              0.0   \n",
       "2  460412  Female           No   31        No  Healthcare              0.0   \n",
       "3  460663  Female           No   33        No   Homemaker              9.0   \n",
       "4  464301  Female          Yes   51       Yes      Doctor              0.0   \n",
       "\n",
       "  Spending_Score  Family_Size  Var_1  \n",
       "0        Average          2.0  Cat_6  \n",
       "1           High          2.0  Cat_6  \n",
       "2            Low          5.0  Other  \n",
       "3            Low          1.0  Cat_6  \n",
       "4        Average          3.0  Cat_6  "
      ]
     },
     "execution_count": 10,
     "metadata": {},
     "output_type": "execute_result"
    }
   ],
   "source": [
    "df = df.sample(frac=1, random_state=17).reset_index(drop=True)\n",
    "df.head()"
   ]
  },
  {
   "cell_type": "code",
   "execution_count": 11,
   "metadata": {
    "id": "w9QwCcY25Hq3"
   },
   "outputs": [],
   "source": [
    "# creating validation set\n",
    "\n",
    "from sklearn.model_selection import train_test_split\n",
    "\n",
    "X = pd.get_dummies(df.drop(['ID', 'Var_1'], axis=1), drop_first=True)\n",
    "y = df['Var_1']\n",
    "\n",
    "y = y.map({'Cat_6': 2, 'Other': 0, 'Cat_4': 1})\n",
    "\n",
    "X_train, X_val, y_train, y_val = train_test_split(X, y, test_size=0.2, random_state=17)"
   ]
  },
  {
   "attachments": {},
   "cell_type": "markdown",
   "metadata": {
    "id": "hACkVsIb6hOP"
   },
   "source": [
    "#### Designing and training a NN"
   ]
  },
  {
   "cell_type": "code",
   "execution_count": 12,
   "metadata": {
    "id": "o5nFxW5dhNj1"
   },
   "outputs": [],
   "source": [
    "from keras.optimizers import Adam\n",
    "from keras.callbacks import EarlyStopping, ModelCheckpoint, Callback\n",
    "from keras.wrappers.scikit_learn import KerasClassifier\n",
    "from sklearn.model_selection import KFold\n",
    "from sklearn.model_selection import cross_val_score\n",
    "from sklearn.metrics import make_scorer, accuracy_score, f1_score, mean_squared_error\n",
    "score_acc = make_scorer(accuracy_score)"
   ]
  },
  {
   "cell_type": "code",
   "execution_count": 14,
   "metadata": {
    "id": "WnML2Qt74-0a"
   },
   "outputs": [],
   "source": [
    "import tensorflow as tf"
   ]
  },
  {
   "cell_type": "code",
   "execution_count": 15,
   "metadata": {
    "id": "msJWsTNs37eV"
   },
   "outputs": [],
   "source": [
    "import keras.backend as K\n",
    "\n",
    "def f1_metric(y_true, y_pred): # weighted f1-score defined as custom metric for EarlyStopping monitoring\n",
    "  \n",
    "    def recall(y_true, y_pred):\n",
    "        recalls = []\n",
    "        for i in range(3):\n",
    "          y_true_i = y_true[y_true==i]\n",
    "          y_pred_i = y_pred[y_true==i]\n",
    "          true_positives = K.sum(y_true_i[y_true_i==K.round(y_pred_i)])\n",
    "          possible_positives = K.sum(y_true_i)\n",
    "          recalls.append(true_positives.numpy() / (possible_positives.numpy() + K.epsilon()))\n",
    "        return recalls\n",
    "        \n",
    "    def precision(y_true, y_pred):\n",
    "        precisions = []\n",
    "        for i in range(3):\n",
    "          y_true_i = y_true[y_true==i]\n",
    "          y_pred_i = y_pred[y_true==i]\n",
    "          true_positives = K.sum(y_true_i[y_true_i==K.round(y_pred_i)])\n",
    "          predicted_positives = K.sum(K.round(y_pred_i))\n",
    "          precisions.append(true_positives.numpy() / (predicted_positives.numpy() + K.epsilon()))\n",
    "        return(precisions)\n",
    "\n",
    "    \n",
    "    precisions = precision(y_true, y_pred)\n",
    "    recalls = recall(y_true, y_pred)\n",
    "    f1s = []\n",
    "    for i in range(3):\n",
    "      f1s.append((2 * precisions[i] * recalls[i]) /(precisions[i] + recalls[i] + K.epsilon()) * len(y_true[y_true==i])/len(y_true)) # weighted F1 score\n",
    "\n",
    "    return sum(f1s)"
   ]
  },
  {
   "cell_type": "code",
   "execution_count": 17,
   "metadata": {
    "colab": {
     "base_uri": "https://localhost:8080/",
     "height": 0
    },
    "id": "6JsgXHGjrUcK",
    "outputId": "f4210877-9472-402b-850e-ef4f101022b0"
   },
   "outputs": [
    {
     "name": "stdout",
     "output_type": "stream",
     "text": [
      "Epoch 1/20\n",
      " 1/32 [..............................] - ETA: 2s - loss: 2.9256 - accuracy: 0.6500 - f1_metric: 0.7879"
     ]
    },
    {
     "name": "stderr",
     "output_type": "stream",
     "text": [
      "<ipython-input-17-556339c31167>:26: DeprecationWarning: KerasClassifier is deprecated, use Sci-Keras (https://github.com/adriangb/scikeras) instead. See https://www.adriangb.com/scikeras/stable/migration.html for help migrating.\n",
      "  nn = KerasClassifier(build_fn=nn_cl_fun, verbose=1)\n"
     ]
    },
    {
     "name": "stdout",
     "output_type": "stream",
     "text": [
      "32/32 [==============================] - 2s 72ms/step - loss: 1.1069 - accuracy: 0.5992 - f1_metric: 0.6434 - val_loss: 0.8594 - val_accuracy: 0.6760 - val_f1_metric: 0.7482\n",
      "Epoch 2/20\n",
      "32/32 [==============================] - 2s 69ms/step - loss: 0.8689 - accuracy: 0.6502 - f1_metric: 0.7352 - val_loss: 0.8301 - val_accuracy: 0.6754 - val_f1_metric: 0.7424\n",
      "Epoch 3/20\n",
      "32/32 [==============================] - 2s 78ms/step - loss: 0.8550 - accuracy: 0.6504 - f1_metric: 0.7248 - val_loss: 0.8250 - val_accuracy: 0.6748 - val_f1_metric: 0.7360\n",
      "Epoch 4/20\n",
      "32/32 [==============================] - 2s 69ms/step - loss: 0.8476 - accuracy: 0.6499 - f1_metric: 0.7262 - val_loss: 0.8248 - val_accuracy: 0.6735 - val_f1_metric: 0.7194\n",
      "Epoch 5/20\n",
      "32/32 [==============================] - 2s 69ms/step - loss: 0.8445 - accuracy: 0.6463 - f1_metric: 0.7222 - val_loss: 0.8165 - val_accuracy: 0.6685 - val_f1_metric: 0.7270\n",
      "Epoch 6/20\n",
      "32/32 [==============================] - 2s 70ms/step - loss: 0.8396 - accuracy: 0.6481 - f1_metric: 0.7303 - val_loss: 0.8102 - val_accuracy: 0.6704 - val_f1_metric: 0.7456\n",
      "Epoch 6: early stopping\n",
      "50/50 [==============================] - 0s 3ms/step\n",
      "50/50 [==============================] - 0s 3ms/step\n",
      "neurons: (12, 7) || activation: relu || learning_rate: 0.01 || batch_size: 200 || epochs: 20 || metrics: (0.6704190118824265, 0.790215331515431)\n",
      "Epoch 1/40\n",
      " 1/32 [..............................] - ETA: 2s - loss: 7.9853 - accuracy: 0.6650 - f1_metric: 0.7988"
     ]
    },
    {
     "name": "stderr",
     "output_type": "stream",
     "text": [
      "<ipython-input-17-556339c31167>:26: DeprecationWarning: KerasClassifier is deprecated, use Sci-Keras (https://github.com/adriangb/scikeras) instead. See https://www.adriangb.com/scikeras/stable/migration.html for help migrating.\n",
      "  nn = KerasClassifier(build_fn=nn_cl_fun, verbose=1)\n"
     ]
    },
    {
     "name": "stdout",
     "output_type": "stream",
     "text": [
      "32/32 [==============================] - 2s 72ms/step - loss: 1.8648 - accuracy: 0.5603 - f1_metric: 0.6466 - val_loss: 0.8458 - val_accuracy: 0.6604 - val_f1_metric: 0.7273\n",
      "Epoch 2/40\n",
      "32/32 [==============================] - 2s 70ms/step - loss: 0.8599 - accuracy: 0.6448 - f1_metric: 0.7071 - val_loss: 0.8158 - val_accuracy: 0.6760 - val_f1_metric: 0.7301\n",
      "Epoch 3/40\n",
      "32/32 [==============================] - 2s 71ms/step - loss: 0.8349 - accuracy: 0.6521 - f1_metric: 0.7413 - val_loss: 0.8034 - val_accuracy: 0.6754 - val_f1_metric: 0.7542\n",
      "Epoch 4/40\n",
      "32/32 [==============================] - 2s 69ms/step - loss: 0.8314 - accuracy: 0.6531 - f1_metric: 0.7369 - val_loss: 0.8131 - val_accuracy: 0.6729 - val_f1_metric: 0.7219\n",
      "Epoch 5/40\n",
      "32/32 [==============================] - 2s 78ms/step - loss: 0.8342 - accuracy: 0.6559 - f1_metric: 0.7254 - val_loss: 0.8036 - val_accuracy: 0.6729 - val_f1_metric: 0.7361\n",
      "Epoch 6/40\n",
      "32/32 [==============================] - 2s 69ms/step - loss: 0.8279 - accuracy: 0.6529 - f1_metric: 0.7284 - val_loss: 0.8030 - val_accuracy: 0.6754 - val_f1_metric: 0.7678\n",
      "Epoch 7/40\n",
      "32/32 [==============================] - 2s 70ms/step - loss: 0.8349 - accuracy: 0.6542 - f1_metric: 0.7310 - val_loss: 0.8077 - val_accuracy: 0.6748 - val_f1_metric: 0.7386\n",
      "Epoch 8/40\n",
      "32/32 [==============================] - 5s 149ms/step - loss: 0.8422 - accuracy: 0.6487 - f1_metric: 0.7202 - val_loss: 0.8083 - val_accuracy: 0.6723 - val_f1_metric: 0.7638\n",
      "Epoch 9/40\n",
      "32/32 [==============================] - 6s 186ms/step - loss: 0.8310 - accuracy: 0.6542 - f1_metric: 0.7225 - val_loss: 0.8007 - val_accuracy: 0.6717 - val_f1_metric: 0.7367\n",
      "Epoch 10/40\n",
      "32/32 [==============================] - 4s 116ms/step - loss: 0.8335 - accuracy: 0.6521 - f1_metric: 0.7220 - val_loss: 0.8141 - val_accuracy: 0.6723 - val_f1_metric: 0.7054\n",
      "Epoch 11/40\n",
      "32/32 [==============================] - 2s 78ms/step - loss: 0.8283 - accuracy: 0.6545 - f1_metric: 0.7288 - val_loss: 0.8105 - val_accuracy: 0.6723 - val_f1_metric: 0.7174\n",
      "Epoch 11: early stopping\n",
      "50/50 [==============================] - 0s 3ms/step\n",
      "50/50 [==============================] - 0s 3ms/step\n",
      "neurons: (12, 7) || activation: relu || learning_rate: 0.01 || batch_size: 200 || epochs: 40 || metrics: (0.6722951844903065, 0.7738763756580583)\n",
      "Epoch 1/20\n",
      " 1/16 [>.............................] - ETA: 1s - loss: 5.3792 - accuracy: 0.1600 - f1_metric: 0.2759"
     ]
    },
    {
     "name": "stderr",
     "output_type": "stream",
     "text": [
      "<ipython-input-17-556339c31167>:26: DeprecationWarning: KerasClassifier is deprecated, use Sci-Keras (https://github.com/adriangb/scikeras) instead. See https://www.adriangb.com/scikeras/stable/migration.html for help migrating.\n",
      "  nn = KerasClassifier(build_fn=nn_cl_fun, verbose=1)\n"
     ]
    },
    {
     "name": "stdout",
     "output_type": "stream",
     "text": [
      "16/16 [==============================] - 1s 77ms/step - loss: 1.9108 - accuracy: 0.3150 - f1_metric: 0.1580 - val_loss: 1.0270 - val_accuracy: 0.6767 - val_f1_metric: 0.0000e+00\n",
      "Epoch 2/20\n",
      "16/16 [==============================] - 1s 80ms/step - loss: 0.9890 - accuracy: 0.6509 - f1_metric: 0.1860 - val_loss: 0.8735 - val_accuracy: 0.6748 - val_f1_metric: 0.8050\n",
      "Epoch 3/20\n",
      "16/16 [==============================] - 1s 71ms/step - loss: 0.8838 - accuracy: 0.6506 - f1_metric: 0.7732 - val_loss: 0.8420 - val_accuracy: 0.6748 - val_f1_metric: 0.7854\n",
      "Epoch 4/20\n",
      "16/16 [==============================] - 1s 71ms/step - loss: 0.8568 - accuracy: 0.6506 - f1_metric: 0.7791 - val_loss: 0.8155 - val_accuracy: 0.6748 - val_f1_metric: 0.7992\n",
      "Epoch 5/20\n",
      "16/16 [==============================] - 1s 80ms/step - loss: 0.8493 - accuracy: 0.6506 - f1_metric: 0.7793 - val_loss: 0.8152 - val_accuracy: 0.6748 - val_f1_metric: 0.7896\n",
      "Epoch 6/20\n",
      "16/16 [==============================] - 1s 78ms/step - loss: 0.8439 - accuracy: 0.6506 - f1_metric: 0.7662 - val_loss: 0.8097 - val_accuracy: 0.6748 - val_f1_metric: 0.7807\n",
      "Epoch 7/20\n",
      "16/16 [==============================] - 1s 78ms/step - loss: 0.8397 - accuracy: 0.6507 - f1_metric: 0.7573 - val_loss: 0.8069 - val_accuracy: 0.6748 - val_f1_metric: 0.7812\n",
      "Epoch 7: early stopping\n",
      "50/50 [==============================] - 0s 3ms/step\n",
      "50/50 [==============================] - 0s 2ms/step\n",
      "neurons: (12, 7) || activation: relu || learning_rate: 0.01 || batch_size: 400 || epochs: 20 || metrics: (0.6747967479674797, 0.8058252427184466)\n",
      "Epoch 1/40\n",
      " 1/16 [>.............................] - ETA: 1s - loss: 2.2368 - accuracy: 0.4350 - f1_metric: 0.6063"
     ]
    },
    {
     "name": "stderr",
     "output_type": "stream",
     "text": [
      "<ipython-input-17-556339c31167>:26: DeprecationWarning: KerasClassifier is deprecated, use Sci-Keras (https://github.com/adriangb/scikeras) instead. See https://www.adriangb.com/scikeras/stable/migration.html for help migrating.\n",
      "  nn = KerasClassifier(build_fn=nn_cl_fun, verbose=1)\n"
     ]
    },
    {
     "name": "stdout",
     "output_type": "stream",
     "text": [
      "16/16 [==============================] - 1s 81ms/step - loss: 1.1986 - accuracy: 0.5708 - f1_metric: 0.6853 - val_loss: 0.8701 - val_accuracy: 0.6404 - val_f1_metric: 0.7296\n",
      "Epoch 2/40\n",
      "16/16 [==============================] - 1s 71ms/step - loss: 0.8765 - accuracy: 0.6463 - f1_metric: 0.7172 - val_loss: 0.8296 - val_accuracy: 0.6735 - val_f1_metric: 0.7558\n",
      "Epoch 3/40\n",
      "16/16 [==============================] - 1s 79ms/step - loss: 0.8476 - accuracy: 0.6496 - f1_metric: 0.7287 - val_loss: 0.8176 - val_accuracy: 0.6742 - val_f1_metric: 0.7286\n",
      "Epoch 4/40\n",
      "16/16 [==============================] - 1s 72ms/step - loss: 0.8365 - accuracy: 0.6507 - f1_metric: 0.7338 - val_loss: 0.8072 - val_accuracy: 0.6760 - val_f1_metric: 0.7424\n",
      "Epoch 5/40\n",
      "16/16 [==============================] - 1s 71ms/step - loss: 0.8336 - accuracy: 0.6513 - f1_metric: 0.7289 - val_loss: 0.8034 - val_accuracy: 0.6773 - val_f1_metric: 0.7550\n",
      "Epoch 6/40\n",
      "16/16 [==============================] - 1s 71ms/step - loss: 0.8301 - accuracy: 0.6537 - f1_metric: 0.7333 - val_loss: 0.8229 - val_accuracy: 0.6742 - val_f1_metric: 0.6964\n",
      "Epoch 7/40\n",
      "16/16 [==============================] - 1s 79ms/step - loss: 0.8291 - accuracy: 0.6535 - f1_metric: 0.7191 - val_loss: 0.8076 - val_accuracy: 0.6767 - val_f1_metric: 0.7182\n",
      "Epoch 7: early stopping\n",
      "50/50 [==============================] - 0s 3ms/step\n",
      "50/50 [==============================] - 0s 3ms/step\n",
      "neurons: (12, 7) || activation: relu || learning_rate: 0.01 || batch_size: 400 || epochs: 40 || metrics: (0.6766729205753595, 0.7832754623721013)\n",
      "Epoch 1/20\n",
      " 1/32 [..............................] - ETA: 2s - loss: 6.9835 - accuracy: 0.1650 - f1_metric: 0.2833"
     ]
    },
    {
     "name": "stderr",
     "output_type": "stream",
     "text": [
      "<ipython-input-17-556339c31167>:26: DeprecationWarning: KerasClassifier is deprecated, use Sci-Keras (https://github.com/adriangb/scikeras) instead. See https://www.adriangb.com/scikeras/stable/migration.html for help migrating.\n",
      "  nn = KerasClassifier(build_fn=nn_cl_fun, verbose=1)\n"
     ]
    },
    {
     "name": "stdout",
     "output_type": "stream",
     "text": [
      "32/32 [==============================] - 2s 71ms/step - loss: 4.6173 - accuracy: 0.5641 - f1_metric: 0.6196 - val_loss: 0.9935 - val_accuracy: 0.2020 - val_f1_metric: 0.0000e+00\n",
      "Epoch 2/20\n",
      "32/32 [==============================] - 2s 78ms/step - loss: 0.9072 - accuracy: 0.6208 - f1_metric: 0.7147 - val_loss: 0.8516 - val_accuracy: 0.6748 - val_f1_metric: 0.8054\n",
      "Epoch 3/20\n",
      "32/32 [==============================] - 2s 71ms/step - loss: 0.8873 - accuracy: 0.6506 - f1_metric: 0.7879 - val_loss: 0.8522 - val_accuracy: 0.6748 - val_f1_metric: 0.8054\n",
      "Epoch 4/20\n",
      "32/32 [==============================] - 2s 78ms/step - loss: 0.8859 - accuracy: 0.6506 - f1_metric: 0.7880 - val_loss: 0.8490 - val_accuracy: 0.6748 - val_f1_metric: 0.8054\n",
      "Epoch 5/20\n",
      "32/32 [==============================] - 2s 77ms/step - loss: 0.8895 - accuracy: 0.6506 - f1_metric: 0.7879 - val_loss: 0.8490 - val_accuracy: 0.6748 - val_f1_metric: 0.8054\n",
      "Epoch 6/20\n",
      "32/32 [==============================] - 2s 77ms/step - loss: 0.8933 - accuracy: 0.6506 - f1_metric: 0.7880 - val_loss: 0.8469 - val_accuracy: 0.6748 - val_f1_metric: 0.8054\n",
      "Epoch 7/20\n",
      "32/32 [==============================] - 2s 77ms/step - loss: 0.8957 - accuracy: 0.6506 - f1_metric: 0.7877 - val_loss: 0.8599 - val_accuracy: 0.6748 - val_f1_metric: 0.8054\n",
      "Epoch 7: early stopping\n",
      "50/50 [==============================] - 0s 4ms/step\n",
      "50/50 [==============================] - 0s 3ms/step\n",
      "neurons: (12, 7) || activation: relu || learning_rate: 1 || batch_size: 200 || epochs: 20 || metrics: (0.6747967479674797, 0.8058252427184466)\n",
      "Epoch 1/40\n",
      " 1/32 [..............................] - ETA: 2s - loss: 2.3382 - accuracy: 0.2100 - f1_metric: 0.3402"
     ]
    },
    {
     "name": "stderr",
     "output_type": "stream",
     "text": [
      "<ipython-input-17-556339c31167>:26: DeprecationWarning: KerasClassifier is deprecated, use Sci-Keras (https://github.com/adriangb/scikeras) instead. See https://www.adriangb.com/scikeras/stable/migration.html for help migrating.\n",
      "  nn = KerasClassifier(build_fn=nn_cl_fun, verbose=1)\n"
     ]
    },
    {
     "name": "stdout",
     "output_type": "stream",
     "text": [
      "32/32 [==============================] - 2s 70ms/step - loss: 2.9752 - accuracy: 0.6079 - f1_metric: 0.7106 - val_loss: 0.8779 - val_accuracy: 0.6748 - val_f1_metric: 0.8054\n",
      "Epoch 2/40\n",
      "32/32 [==============================] - 2s 69ms/step - loss: 0.8932 - accuracy: 0.6506 - f1_metric: 0.7877 - val_loss: 0.8485 - val_accuracy: 0.6748 - val_f1_metric: 0.8054\n",
      "Epoch 3/40\n",
      "32/32 [==============================] - 2s 70ms/step - loss: 0.8900 - accuracy: 0.6506 - f1_metric: 0.7879 - val_loss: 0.8574 - val_accuracy: 0.6748 - val_f1_metric: 0.8054\n",
      "Epoch 4/40\n",
      "32/32 [==============================] - 2s 70ms/step - loss: 0.8930 - accuracy: 0.6506 - f1_metric: 0.7622 - val_loss: 0.8624 - val_accuracy: 0.6748 - val_f1_metric: 0.8054\n",
      "Epoch 5/40\n",
      "32/32 [==============================] - 2s 77ms/step - loss: 0.8893 - accuracy: 0.6506 - f1_metric: 0.7879 - val_loss: 0.8505 - val_accuracy: 0.6748 - val_f1_metric: 0.8054\n",
      "Epoch 6/40\n",
      "32/32 [==============================] - 2s 70ms/step - loss: 0.8933 - accuracy: 0.6506 - f1_metric: 0.7878 - val_loss: 0.8765 - val_accuracy: 0.6748 - val_f1_metric: 0.8054\n",
      "Epoch 6: early stopping\n",
      "50/50 [==============================] - 0s 3ms/step\n",
      "50/50 [==============================] - 0s 3ms/step\n",
      "neurons: (12, 7) || activation: relu || learning_rate: 1 || batch_size: 200 || epochs: 40 || metrics: (0.6747967479674797, 0.8058252427184466)\n",
      "Epoch 1/20\n",
      " 1/16 [>.............................] - ETA: 1s - loss: 1.5738 - accuracy: 0.2700 - f1_metric: 0.4000"
     ]
    },
    {
     "name": "stderr",
     "output_type": "stream",
     "text": [
      "<ipython-input-17-556339c31167>:26: DeprecationWarning: KerasClassifier is deprecated, use Sci-Keras (https://github.com/adriangb/scikeras) instead. See https://www.adriangb.com/scikeras/stable/migration.html for help migrating.\n",
      "  nn = KerasClassifier(build_fn=nn_cl_fun, verbose=1)\n"
     ]
    },
    {
     "name": "stdout",
     "output_type": "stream",
     "text": [
      "16/16 [==============================] - 1s 75ms/step - loss: 30.7192 - accuracy: 0.5949 - f1_metric: 0.7310 - val_loss: 0.8709 - val_accuracy: 0.6748 - val_f1_metric: 0.8054\n",
      "Epoch 2/20\n",
      "16/16 [==============================] - 1s 80ms/step - loss: 0.9035 - accuracy: 0.6506 - f1_metric: 0.7880 - val_loss: 0.8624 - val_accuracy: 0.6748 - val_f1_metric: 0.8054\n",
      "Epoch 3/20\n",
      "16/16 [==============================] - 1s 72ms/step - loss: 0.8910 - accuracy: 0.6506 - f1_metric: 0.7881 - val_loss: 0.8508 - val_accuracy: 0.6748 - val_f1_metric: 0.8054\n",
      "Epoch 4/20\n",
      "16/16 [==============================] - 1s 72ms/step - loss: 0.8855 - accuracy: 0.6506 - f1_metric: 0.7881 - val_loss: 0.8483 - val_accuracy: 0.6748 - val_f1_metric: 0.8054\n",
      "Epoch 5/20\n",
      "16/16 [==============================] - 1s 73ms/step - loss: 0.8853 - accuracy: 0.6506 - f1_metric: 0.7880 - val_loss: 0.8476 - val_accuracy: 0.6748 - val_f1_metric: 0.8054\n",
      "Epoch 6/20\n",
      "16/16 [==============================] - 1s 78ms/step - loss: 0.8831 - accuracy: 0.6506 - f1_metric: 0.7881 - val_loss: 0.8501 - val_accuracy: 0.6748 - val_f1_metric: 0.8054\n",
      "Epoch 6: early stopping\n",
      "50/50 [==============================] - 0s 3ms/step\n",
      "50/50 [==============================] - 0s 3ms/step\n",
      "neurons: (12, 7) || activation: relu || learning_rate: 1 || batch_size: 400 || epochs: 20 || metrics: (0.6747967479674797, 0.8058252427184466)\n",
      "Epoch 1/40\n",
      " 1/16 [>.............................] - ETA: 1s - loss: 1.5935 - accuracy: 0.5625 - f1_metric: 0.7200"
     ]
    },
    {
     "name": "stderr",
     "output_type": "stream",
     "text": [
      "<ipython-input-17-556339c31167>:26: DeprecationWarning: KerasClassifier is deprecated, use Sci-Keras (https://github.com/adriangb/scikeras) instead. See https://www.adriangb.com/scikeras/stable/migration.html for help migrating.\n",
      "  nn = KerasClassifier(build_fn=nn_cl_fun, verbose=1)\n"
     ]
    },
    {
     "name": "stdout",
     "output_type": "stream",
     "text": [
      "16/16 [==============================] - 1s 75ms/step - loss: 34.2139 - accuracy: 0.4969 - f1_metric: 0.5530 - val_loss: 0.9720 - val_accuracy: 0.6748 - val_f1_metric: 0.8054\n",
      "Epoch 2/40\n",
      "16/16 [==============================] - 1s 72ms/step - loss: 0.9382 - accuracy: 0.6506 - f1_metric: 0.5901 - val_loss: 0.8582 - val_accuracy: 0.6748 - val_f1_metric: 0.8054\n",
      "Epoch 3/40\n",
      "16/16 [==============================] - 1s 69ms/step - loss: 0.8967 - accuracy: 0.6506 - f1_metric: 0.7881 - val_loss: 0.8468 - val_accuracy: 0.6748 - val_f1_metric: 0.8054\n",
      "Epoch 4/40\n",
      "16/16 [==============================] - 1s 71ms/step - loss: 0.8836 - accuracy: 0.6506 - f1_metric: 0.7881 - val_loss: 0.8513 - val_accuracy: 0.6748 - val_f1_metric: 0.8054\n",
      "Epoch 5/40\n",
      "16/16 [==============================] - 1s 71ms/step - loss: 0.8854 - accuracy: 0.6506 - f1_metric: 0.7879 - val_loss: 0.8484 - val_accuracy: 0.6748 - val_f1_metric: 0.8054\n",
      "Epoch 6/40\n",
      "16/16 [==============================] - 1s 72ms/step - loss: 0.8871 - accuracy: 0.6506 - f1_metric: 0.7882 - val_loss: 0.8471 - val_accuracy: 0.6748 - val_f1_metric: 0.8054\n",
      "Epoch 6: early stopping\n",
      "50/50 [==============================] - 0s 3ms/step\n",
      "50/50 [==============================] - 0s 3ms/step\n",
      "neurons: (12, 7) || activation: relu || learning_rate: 1 || batch_size: 400 || epochs: 40 || metrics: (0.6747967479674797, 0.8058252427184466)\n",
      "Epoch 1/20\n",
      " 1/32 [..............................] - ETA: 2s - loss: 1.3481 - accuracy: 0.2000 - f1_metric: 0.3333"
     ]
    },
    {
     "name": "stderr",
     "output_type": "stream",
     "text": [
      "<ipython-input-17-556339c31167>:26: DeprecationWarning: KerasClassifier is deprecated, use Sci-Keras (https://github.com/adriangb/scikeras) instead. See https://www.adriangb.com/scikeras/stable/migration.html for help migrating.\n",
      "  nn = KerasClassifier(build_fn=nn_cl_fun, verbose=1)\n"
     ]
    },
    {
     "name": "stdout",
     "output_type": "stream",
     "text": [
      "32/32 [==============================] - 3s 79ms/step - loss: 0.9646 - accuracy: 0.5331 - f1_metric: 0.5900 - val_loss: 0.8442 - val_accuracy: 0.6748 - val_f1_metric: 0.8054\n",
      "Epoch 2/20\n",
      "32/32 [==============================] - 2s 78ms/step - loss: 0.8650 - accuracy: 0.6506 - f1_metric: 0.7879 - val_loss: 0.8257 - val_accuracy: 0.6748 - val_f1_metric: 0.8054\n",
      "Epoch 3/20\n",
      "32/32 [==============================] - 2s 70ms/step - loss: 0.8486 - accuracy: 0.6506 - f1_metric: 0.7813 - val_loss: 0.8170 - val_accuracy: 0.6748 - val_f1_metric: 0.7796\n",
      "Epoch 4/20\n",
      "32/32 [==============================] - 2s 78ms/step - loss: 0.8416 - accuracy: 0.6506 - f1_metric: 0.7351 - val_loss: 0.8125 - val_accuracy: 0.6748 - val_f1_metric: 0.7391\n",
      "Epoch 5/20\n",
      "32/32 [==============================] - 3s 79ms/step - loss: 0.8367 - accuracy: 0.6506 - f1_metric: 0.7257 - val_loss: 0.8085 - val_accuracy: 0.6748 - val_f1_metric: 0.7324\n",
      "Epoch 6/20\n",
      "32/32 [==============================] - 2s 70ms/step - loss: 0.8337 - accuracy: 0.6506 - f1_metric: 0.7178 - val_loss: 0.8092 - val_accuracy: 0.6748 - val_f1_metric: 0.7147\n",
      "Epoch 6: early stopping\n",
      "50/50 [==============================] - 0s 3ms/step\n",
      "50/50 [==============================] - 0s 3ms/step\n",
      "neurons: (12, 7) || activation: sigmoid || learning_rate: 0.01 || batch_size: 200 || epochs: 20 || metrics: (0.6747967479674797, 0.8058252427184466)\n",
      "Epoch 1/40\n",
      " 1/32 [..............................] - ETA: 2s - loss: 1.0501 - accuracy: 0.6200 - f1_metric: 0.0000e+00"
     ]
    },
    {
     "name": "stderr",
     "output_type": "stream",
     "text": [
      "<ipython-input-17-556339c31167>:26: DeprecationWarning: KerasClassifier is deprecated, use Sci-Keras (https://github.com/adriangb/scikeras) instead. See https://www.adriangb.com/scikeras/stable/migration.html for help migrating.\n",
      "  nn = KerasClassifier(build_fn=nn_cl_fun, verbose=1)\n"
     ]
    },
    {
     "name": "stdout",
     "output_type": "stream",
     "text": [
      "32/32 [==============================] - 2s 71ms/step - loss: 0.9032 - accuracy: 0.6495 - f1_metric: 0.6884 - val_loss: 0.8474 - val_accuracy: 0.6748 - val_f1_metric: 0.8054\n",
      "Epoch 2/40\n",
      "32/32 [==============================] - 2s 70ms/step - loss: 0.8761 - accuracy: 0.6506 - f1_metric: 0.7879 - val_loss: 0.8370 - val_accuracy: 0.6748 - val_f1_metric: 0.8054\n",
      "Epoch 3/40\n",
      "32/32 [==============================] - 2s 78ms/step - loss: 0.8597 - accuracy: 0.6506 - f1_metric: 0.7759 - val_loss: 0.8229 - val_accuracy: 0.6748 - val_f1_metric: 0.7991\n",
      "Epoch 4/40\n",
      "32/32 [==============================] - 2s 78ms/step - loss: 0.8477 - accuracy: 0.6506 - f1_metric: 0.7408 - val_loss: 0.8279 - val_accuracy: 0.6748 - val_f1_metric: 0.7062\n",
      "Epoch 5/40\n",
      "32/32 [==============================] - 2s 77ms/step - loss: 0.8374 - accuracy: 0.6506 - f1_metric: 0.7328 - val_loss: 0.8127 - val_accuracy: 0.6748 - val_f1_metric: 0.7313\n",
      "Epoch 6/40\n",
      "32/32 [==============================] - 2s 70ms/step - loss: 0.8343 - accuracy: 0.6506 - f1_metric: 0.7222 - val_loss: 0.8058 - val_accuracy: 0.6748 - val_f1_metric: 0.7460\n",
      "Epoch 6: early stopping\n",
      "50/50 [==============================] - 0s 3ms/step\n",
      "50/50 [==============================] - 0s 3ms/step\n",
      "neurons: (12, 7) || activation: sigmoid || learning_rate: 0.01 || batch_size: 200 || epochs: 40 || metrics: (0.6747967479674797, 0.8058252427184466)\n",
      "Epoch 1/20\n",
      " 1/16 [>.............................] - ETA: 1s - loss: 1.1633 - accuracy: 0.2100 - f1_metric: 0.0000e+00"
     ]
    },
    {
     "name": "stderr",
     "output_type": "stream",
     "text": [
      "<ipython-input-17-556339c31167>:26: DeprecationWarning: KerasClassifier is deprecated, use Sci-Keras (https://github.com/adriangb/scikeras) instead. See https://www.adriangb.com/scikeras/stable/migration.html for help migrating.\n",
      "  nn = KerasClassifier(build_fn=nn_cl_fun, verbose=1)\n"
     ]
    },
    {
     "name": "stdout",
     "output_type": "stream",
     "text": [
      "16/16 [==============================] - 1s 76ms/step - loss: 0.9555 - accuracy: 0.5705 - f1_metric: 0.4436 - val_loss: 0.8516 - val_accuracy: 0.6748 - val_f1_metric: 0.8054\n",
      "Epoch 2/20\n",
      "16/16 [==============================] - 1s 80ms/step - loss: 0.8895 - accuracy: 0.6506 - f1_metric: 0.7881 - val_loss: 0.8476 - val_accuracy: 0.6748 - val_f1_metric: 0.8054\n",
      "Epoch 3/20\n",
      "16/16 [==============================] - 1s 94ms/step - loss: 0.8813 - accuracy: 0.6506 - f1_metric: 0.7882 - val_loss: 0.8490 - val_accuracy: 0.6748 - val_f1_metric: 0.8054\n",
      "Epoch 4/20\n",
      "16/16 [==============================] - 2s 103ms/step - loss: 0.8728 - accuracy: 0.6506 - f1_metric: 0.7880 - val_loss: 0.8374 - val_accuracy: 0.6748 - val_f1_metric: 0.8054\n",
      "Epoch 5/20\n",
      "16/16 [==============================] - 1s 79ms/step - loss: 0.8609 - accuracy: 0.6506 - f1_metric: 0.7881 - val_loss: 0.8281 - val_accuracy: 0.6748 - val_f1_metric: 0.8050\n",
      "Epoch 6/20\n",
      "16/16 [==============================] - 1s 71ms/step - loss: 0.8481 - accuracy: 0.6506 - f1_metric: 0.7578 - val_loss: 0.8207 - val_accuracy: 0.6748 - val_f1_metric: 0.7835\n",
      "Epoch 6: early stopping\n",
      "50/50 [==============================] - 0s 3ms/step\n",
      "50/50 [==============================] - 0s 3ms/step\n",
      "neurons: (12, 7) || activation: sigmoid || learning_rate: 0.01 || batch_size: 400 || epochs: 20 || metrics: (0.6747967479674797, 0.8058252427184466)\n",
      "Epoch 1/40\n",
      " 1/16 [>.............................] - ETA: 1s - loss: 2.2442 - accuracy: 0.1225 - f1_metric: 0.2183"
     ]
    },
    {
     "name": "stderr",
     "output_type": "stream",
     "text": [
      "<ipython-input-17-556339c31167>:26: DeprecationWarning: KerasClassifier is deprecated, use Sci-Keras (https://github.com/adriangb/scikeras) instead. See https://www.adriangb.com/scikeras/stable/migration.html for help migrating.\n",
      "  nn = KerasClassifier(build_fn=nn_cl_fun, verbose=1)\n"
     ]
    },
    {
     "name": "stdout",
     "output_type": "stream",
     "text": [
      "16/16 [==============================] - 1s 83ms/step - loss: 1.3592 - accuracy: 0.3272 - f1_metric: 0.2442 - val_loss: 0.8733 - val_accuracy: 0.6748 - val_f1_metric: 0.8054\n",
      "Epoch 2/40\n",
      "16/16 [==============================] - 1s 73ms/step - loss: 0.8895 - accuracy: 0.6506 - f1_metric: 0.7877 - val_loss: 0.8467 - val_accuracy: 0.6748 - val_f1_metric: 0.8054\n",
      "Epoch 3/40\n",
      "16/16 [==============================] - 1s 79ms/step - loss: 0.8838 - accuracy: 0.6506 - f1_metric: 0.7881 - val_loss: 0.8471 - val_accuracy: 0.6748 - val_f1_metric: 0.8054\n",
      "Epoch 4/40\n",
      "16/16 [==============================] - 1s 79ms/step - loss: 0.8810 - accuracy: 0.6506 - f1_metric: 0.7881 - val_loss: 0.8442 - val_accuracy: 0.6748 - val_f1_metric: 0.8054\n",
      "Epoch 5/40\n",
      "16/16 [==============================] - 1s 79ms/step - loss: 0.8788 - accuracy: 0.6506 - f1_metric: 0.7882 - val_loss: 0.8436 - val_accuracy: 0.6748 - val_f1_metric: 0.8054\n",
      "Epoch 6/40\n",
      "16/16 [==============================] - 1s 72ms/step - loss: 0.8768 - accuracy: 0.6506 - f1_metric: 0.7880 - val_loss: 0.8425 - val_accuracy: 0.6748 - val_f1_metric: 0.8054\n",
      "Epoch 6: early stopping\n",
      "50/50 [==============================] - 0s 3ms/step\n",
      "50/50 [==============================] - 0s 3ms/step\n",
      "neurons: (12, 7) || activation: sigmoid || learning_rate: 0.01 || batch_size: 400 || epochs: 40 || metrics: (0.6747967479674797, 0.8058252427184466)\n",
      "Epoch 1/20\n",
      " 1/32 [..............................] - ETA: 2s - loss: 1.2171 - accuracy: 0.2300 - f1_metric: 0.0000e+00"
     ]
    },
    {
     "name": "stderr",
     "output_type": "stream",
     "text": [
      "<ipython-input-17-556339c31167>:26: DeprecationWarning: KerasClassifier is deprecated, use Sci-Keras (https://github.com/adriangb/scikeras) instead. See https://www.adriangb.com/scikeras/stable/migration.html for help migrating.\n",
      "  nn = KerasClassifier(build_fn=nn_cl_fun, verbose=1)\n"
     ]
    },
    {
     "name": "stdout",
     "output_type": "stream",
     "text": [
      "32/32 [==============================] - 3s 98ms/step - loss: 1.3831 - accuracy: 0.5342 - f1_metric: 0.6158 - val_loss: 0.8520 - val_accuracy: 0.6748 - val_f1_metric: 0.8054\n",
      "Epoch 2/20\n",
      "32/32 [==============================] - 2s 79ms/step - loss: 0.9090 - accuracy: 0.6506 - f1_metric: 0.7625 - val_loss: 0.8500 - val_accuracy: 0.6748 - val_f1_metric: 0.8054\n",
      "Epoch 3/20\n",
      "32/32 [==============================] - 2s 71ms/step - loss: 0.8951 - accuracy: 0.6506 - f1_metric: 0.7879 - val_loss: 0.8481 - val_accuracy: 0.6748 - val_f1_metric: 0.8054\n",
      "Epoch 4/20\n",
      "32/32 [==============================] - 2s 71ms/step - loss: 0.8971 - accuracy: 0.6506 - f1_metric: 0.7876 - val_loss: 0.8695 - val_accuracy: 0.6748 - val_f1_metric: 0.8054\n",
      "Epoch 5/20\n",
      "32/32 [==============================] - 2s 71ms/step - loss: 0.9002 - accuracy: 0.6506 - f1_metric: 0.7631 - val_loss: 0.8478 - val_accuracy: 0.6748 - val_f1_metric: 0.8054\n",
      "Epoch 6/20\n",
      "32/32 [==============================] - 2s 71ms/step - loss: 0.9144 - accuracy: 0.6506 - f1_metric: 0.7392 - val_loss: 0.8527 - val_accuracy: 0.6748 - val_f1_metric: 0.8054\n",
      "Epoch 6: early stopping\n",
      "50/50 [==============================] - 0s 3ms/step\n",
      "50/50 [==============================] - 0s 3ms/step\n",
      "neurons: (12, 7) || activation: sigmoid || learning_rate: 1 || batch_size: 200 || epochs: 20 || metrics: (0.6747967479674797, 0.8058252427184466)\n",
      "Epoch 1/40\n",
      " 1/32 [..............................] - ETA: 2s - loss: 0.9902 - accuracy: 0.6300 - f1_metric: 0.0000e+00"
     ]
    },
    {
     "name": "stderr",
     "output_type": "stream",
     "text": [
      "<ipython-input-17-556339c31167>:26: DeprecationWarning: KerasClassifier is deprecated, use Sci-Keras (https://github.com/adriangb/scikeras) instead. See https://www.adriangb.com/scikeras/stable/migration.html for help migrating.\n",
      "  nn = KerasClassifier(build_fn=nn_cl_fun, verbose=1)\n"
     ]
    },
    {
     "name": "stdout",
     "output_type": "stream",
     "text": [
      "32/32 [==============================] - 2s 72ms/step - loss: 1.0732 - accuracy: 0.6204 - f1_metric: 0.6485 - val_loss: 0.8542 - val_accuracy: 0.6748 - val_f1_metric: 0.8054\n",
      "Epoch 2/40\n",
      "32/32 [==============================] - 2s 78ms/step - loss: 0.8914 - accuracy: 0.6506 - f1_metric: 0.7877 - val_loss: 0.8499 - val_accuracy: 0.6748 - val_f1_metric: 0.8054\n",
      "Epoch 3/40\n",
      "32/32 [==============================] - 2s 79ms/step - loss: 0.8861 - accuracy: 0.6506 - f1_metric: 0.7877 - val_loss: 0.8481 - val_accuracy: 0.6748 - val_f1_metric: 0.8054\n",
      "Epoch 4/40\n",
      "32/32 [==============================] - 2s 69ms/step - loss: 0.8962 - accuracy: 0.6506 - f1_metric: 0.7877 - val_loss: 0.8653 - val_accuracy: 0.6748 - val_f1_metric: 0.8054\n",
      "Epoch 5/40\n",
      "32/32 [==============================] - 2s 78ms/step - loss: 0.8912 - accuracy: 0.6506 - f1_metric: 0.7878 - val_loss: 0.8504 - val_accuracy: 0.6748 - val_f1_metric: 0.8054\n",
      "Epoch 6/40\n",
      "32/32 [==============================] - 2s 78ms/step - loss: 0.8923 - accuracy: 0.6506 - f1_metric: 0.7879 - val_loss: 0.8691 - val_accuracy: 0.6748 - val_f1_metric: 0.8054\n",
      "Epoch 6: early stopping\n",
      "50/50 [==============================] - 0s 3ms/step\n",
      "50/50 [==============================] - 0s 3ms/step\n",
      "neurons: (12, 7) || activation: sigmoid || learning_rate: 1 || batch_size: 200 || epochs: 40 || metrics: (0.6747967479674797, 0.8058252427184466)\n",
      "Epoch 1/20\n",
      " 1/16 [>.............................] - ETA: 1s - loss: 1.2094 - accuracy: 0.1325 - f1_metric: 0.0000e+00"
     ]
    },
    {
     "name": "stderr",
     "output_type": "stream",
     "text": [
      "<ipython-input-17-556339c31167>:26: DeprecationWarning: KerasClassifier is deprecated, use Sci-Keras (https://github.com/adriangb/scikeras) instead. See https://www.adriangb.com/scikeras/stable/migration.html for help migrating.\n",
      "  nn = KerasClassifier(build_fn=nn_cl_fun, verbose=1)\n"
     ]
    },
    {
     "name": "stdout",
     "output_type": "stream",
     "text": [
      "16/16 [==============================] - 1s 74ms/step - loss: 1.3395 - accuracy: 0.5636 - f1_metric: 0.5149 - val_loss: 0.8737 - val_accuracy: 0.6748 - val_f1_metric: 0.8054\n",
      "Epoch 2/20\n",
      "16/16 [==============================] - 1s 72ms/step - loss: 0.9063 - accuracy: 0.6506 - f1_metric: 0.7880 - val_loss: 0.8555 - val_accuracy: 0.6748 - val_f1_metric: 0.8054\n",
      "Epoch 3/20\n",
      "16/16 [==============================] - 1s 72ms/step - loss: 0.8922 - accuracy: 0.6506 - f1_metric: 0.7882 - val_loss: 0.8467 - val_accuracy: 0.6748 - val_f1_metric: 0.8054\n",
      "Epoch 4/20\n",
      "16/16 [==============================] - 1s 79ms/step - loss: 0.8871 - accuracy: 0.6506 - f1_metric: 0.7879 - val_loss: 0.8501 - val_accuracy: 0.6748 - val_f1_metric: 0.8054\n",
      "Epoch 5/20\n",
      "16/16 [==============================] - 1s 80ms/step - loss: 0.8932 - accuracy: 0.6506 - f1_metric: 0.7880 - val_loss: 0.8541 - val_accuracy: 0.6748 - val_f1_metric: 0.8054\n",
      "Epoch 6/20\n",
      "16/16 [==============================] - 1s 81ms/step - loss: 0.8864 - accuracy: 0.6506 - f1_metric: 0.7880 - val_loss: 0.8481 - val_accuracy: 0.6748 - val_f1_metric: 0.8054\n",
      "Epoch 6: early stopping\n",
      "50/50 [==============================] - 0s 3ms/step\n",
      "50/50 [==============================] - 0s 3ms/step\n",
      "neurons: (12, 7) || activation: sigmoid || learning_rate: 1 || batch_size: 400 || epochs: 20 || metrics: (0.6747967479674797, 0.8058252427184466)\n",
      "Epoch 1/40\n",
      " 1/16 [>.............................] - ETA: 1s - loss: 1.5347 - accuracy: 0.1450 - f1_metric: 0.2533"
     ]
    },
    {
     "name": "stderr",
     "output_type": "stream",
     "text": [
      "<ipython-input-17-556339c31167>:26: DeprecationWarning: KerasClassifier is deprecated, use Sci-Keras (https://github.com/adriangb/scikeras) instead. See https://www.adriangb.com/scikeras/stable/migration.html for help migrating.\n",
      "  nn = KerasClassifier(build_fn=nn_cl_fun, verbose=1)\n"
     ]
    },
    {
     "name": "stdout",
     "output_type": "stream",
     "text": [
      "16/16 [==============================] - 1s 74ms/step - loss: 1.3078 - accuracy: 0.5631 - f1_metric: 0.6989 - val_loss: 0.8663 - val_accuracy: 0.6748 - val_f1_metric: 0.8054\n",
      "Epoch 2/40\n",
      "16/16 [==============================] - 1s 73ms/step - loss: 0.9132 - accuracy: 0.6506 - f1_metric: 0.7881 - val_loss: 0.8803 - val_accuracy: 0.6748 - val_f1_metric: 0.8054\n",
      "Epoch 3/40\n",
      "16/16 [==============================] - 1s 71ms/step - loss: 0.8909 - accuracy: 0.6506 - f1_metric: 0.7882 - val_loss: 0.8586 - val_accuracy: 0.6748 - val_f1_metric: 0.8054\n",
      "Epoch 4/40\n",
      "16/16 [==============================] - 1s 80ms/step - loss: 0.8869 - accuracy: 0.6506 - f1_metric: 0.7881 - val_loss: 0.8568 - val_accuracy: 0.6748 - val_f1_metric: 0.8054\n",
      "Epoch 5/40\n",
      "16/16 [==============================] - 1s 72ms/step - loss: 0.8832 - accuracy: 0.6506 - f1_metric: 0.7882 - val_loss: 0.8516 - val_accuracy: 0.6748 - val_f1_metric: 0.8054\n",
      "Epoch 6/40\n",
      "16/16 [==============================] - 1s 70ms/step - loss: 0.8847 - accuracy: 0.6506 - f1_metric: 0.7881 - val_loss: 0.8577 - val_accuracy: 0.6748 - val_f1_metric: 0.8054\n",
      "Epoch 6: early stopping\n",
      "50/50 [==============================] - 0s 3ms/step\n",
      "50/50 [==============================] - 0s 3ms/step\n",
      "neurons: (12, 7) || activation: sigmoid || learning_rate: 1 || batch_size: 400 || epochs: 40 || metrics: (0.6747967479674797, 0.8058252427184466)\n",
      "Epoch 1/20\n",
      " 1/32 [..............................] - ETA: 2s - loss: 15.9275 - accuracy: 0.1600 - f1_metric: 0.2759"
     ]
    },
    {
     "name": "stderr",
     "output_type": "stream",
     "text": [
      "<ipython-input-17-556339c31167>:26: DeprecationWarning: KerasClassifier is deprecated, use Sci-Keras (https://github.com/adriangb/scikeras) instead. See https://www.adriangb.com/scikeras/stable/migration.html for help migrating.\n",
      "  nn = KerasClassifier(build_fn=nn_cl_fun, verbose=1)\n"
     ]
    },
    {
     "name": "stdout",
     "output_type": "stream",
     "text": [
      "32/32 [==============================] - 2s 73ms/step - loss: 2.8349 - accuracy: 0.3901 - f1_metric: 0.1401 - val_loss: 0.9378 - val_accuracy: 0.6748 - val_f1_metric: 0.4036\n",
      "Epoch 2/20\n",
      "32/32 [==============================] - 3s 79ms/step - loss: 0.9166 - accuracy: 0.6506 - f1_metric: 0.6238 - val_loss: 0.8606 - val_accuracy: 0.6748 - val_f1_metric: 0.7226\n",
      "Epoch 3/20\n",
      "32/32 [==============================] - 2s 77ms/step - loss: 0.8788 - accuracy: 0.6506 - f1_metric: 0.7754 - val_loss: 0.8329 - val_accuracy: 0.6748 - val_f1_metric: 0.8054\n",
      "Epoch 4/20\n",
      "32/32 [==============================] - 2s 69ms/step - loss: 0.8612 - accuracy: 0.6506 - f1_metric: 0.7878 - val_loss: 0.8248 - val_accuracy: 0.6748 - val_f1_metric: 0.8054\n",
      "Epoch 5/20\n",
      "32/32 [==============================] - 2s 71ms/step - loss: 0.8521 - accuracy: 0.6506 - f1_metric: 0.7878 - val_loss: 0.8167 - val_accuracy: 0.6748 - val_f1_metric: 0.8054\n",
      "Epoch 6/20\n",
      "32/32 [==============================] - 2s 78ms/step - loss: 0.8489 - accuracy: 0.6506 - f1_metric: 0.7879 - val_loss: 0.8126 - val_accuracy: 0.6748 - val_f1_metric: 0.8054\n",
      "Epoch 7/20\n",
      "32/32 [==============================] - 2s 70ms/step - loss: 0.8450 - accuracy: 0.6506 - f1_metric: 0.7879 - val_loss: 0.8108 - val_accuracy: 0.6748 - val_f1_metric: 0.8054\n",
      "Epoch 8/20\n",
      "32/32 [==============================] - 2s 78ms/step - loss: 0.8422 - accuracy: 0.6506 - f1_metric: 0.7878 - val_loss: 0.8072 - val_accuracy: 0.6748 - val_f1_metric: 0.8054\n",
      "Epoch 8: early stopping\n",
      "50/50 [==============================] - 0s 3ms/step\n",
      "50/50 [==============================] - 0s 3ms/step\n",
      "neurons: (15, 10) || activation: relu || learning_rate: 0.01 || batch_size: 200 || epochs: 20 || metrics: (0.6747967479674797, 0.8058252427184466)\n",
      "Epoch 1/40\n",
      " 1/32 [..............................] - ETA: 2s - loss: 9.4822 - accuracy: 0.1350 - f1_metric: 0.2379"
     ]
    },
    {
     "name": "stderr",
     "output_type": "stream",
     "text": [
      "<ipython-input-17-556339c31167>:26: DeprecationWarning: KerasClassifier is deprecated, use Sci-Keras (https://github.com/adriangb/scikeras) instead. See https://www.adriangb.com/scikeras/stable/migration.html for help migrating.\n",
      "  nn = KerasClassifier(build_fn=nn_cl_fun, verbose=1)\n"
     ]
    },
    {
     "name": "stdout",
     "output_type": "stream",
     "text": [
      "32/32 [==============================] - 2s 71ms/step - loss: 1.7893 - accuracy: 0.5361 - f1_metric: 0.6371 - val_loss: 0.8764 - val_accuracy: 0.6417 - val_f1_metric: 0.7464\n",
      "Epoch 2/40\n",
      "32/32 [==============================] - 2s 79ms/step - loss: 0.8608 - accuracy: 0.6510 - f1_metric: 0.7484 - val_loss: 0.8241 - val_accuracy: 0.6760 - val_f1_metric: 0.7880\n",
      "Epoch 3/40\n",
      "32/32 [==============================] - 2s 70ms/step - loss: 0.8524 - accuracy: 0.6501 - f1_metric: 0.7446 - val_loss: 0.8199 - val_accuracy: 0.6735 - val_f1_metric: 0.7674\n",
      "Epoch 4/40\n",
      "32/32 [==============================] - 2s 70ms/step - loss: 0.8440 - accuracy: 0.6499 - f1_metric: 0.7369 - val_loss: 0.8318 - val_accuracy: 0.6742 - val_f1_metric: 0.7833\n",
      "Epoch 5/40\n",
      "32/32 [==============================] - 2s 69ms/step - loss: 0.8399 - accuracy: 0.6498 - f1_metric: 0.7380 - val_loss: 0.8216 - val_accuracy: 0.6710 - val_f1_metric: 0.7441\n",
      "Epoch 6/40\n",
      "32/32 [==============================] - 2s 78ms/step - loss: 0.8421 - accuracy: 0.6517 - f1_metric: 0.7330 - val_loss: 0.8106 - val_accuracy: 0.6742 - val_f1_metric: 0.7618\n",
      "Epoch 7/40\n",
      "32/32 [==============================] - 2s 70ms/step - loss: 0.8345 - accuracy: 0.6551 - f1_metric: 0.7319 - val_loss: 0.8206 - val_accuracy: 0.6767 - val_f1_metric: 0.7503\n",
      "Epoch 7: early stopping\n",
      "50/50 [==============================] - 0s 3ms/step\n",
      "50/50 [==============================] - 0s 3ms/step\n",
      "neurons: (15, 10) || activation: relu || learning_rate: 0.01 || batch_size: 200 || epochs: 40 || metrics: (0.6766729205753595, 0.786354432182231)\n",
      "Epoch 1/20\n",
      " 1/16 [>.............................] - ETA: 1s - loss: 4.7515 - accuracy: 0.1825 - f1_metric: 0.3087"
     ]
    },
    {
     "name": "stderr",
     "output_type": "stream",
     "text": [
      "<ipython-input-17-556339c31167>:26: DeprecationWarning: KerasClassifier is deprecated, use Sci-Keras (https://github.com/adriangb/scikeras) instead. See https://www.adriangb.com/scikeras/stable/migration.html for help migrating.\n",
      "  nn = KerasClassifier(build_fn=nn_cl_fun, verbose=1)\n"
     ]
    },
    {
     "name": "stdout",
     "output_type": "stream",
     "text": [
      "16/16 [==============================] - 1s 75ms/step - loss: 1.6124 - accuracy: 0.5842 - f1_metric: 0.7044 - val_loss: 1.0002 - val_accuracy: 0.4809 - val_f1_metric: 0.4467\n",
      "Epoch 2/20\n",
      "16/16 [==============================] - 1s 79ms/step - loss: 0.9174 - accuracy: 0.6025 - f1_metric: 0.6185 - val_loss: 0.8434 - val_accuracy: 0.6754 - val_f1_metric: 0.7997\n",
      "Epoch 3/20\n",
      "16/16 [==============================] - 1s 80ms/step - loss: 0.8662 - accuracy: 0.6510 - f1_metric: 0.7696 - val_loss: 0.8254 - val_accuracy: 0.6760 - val_f1_metric: 0.7707\n",
      "Epoch 4/20\n",
      "16/16 [==============================] - 1s 80ms/step - loss: 0.8542 - accuracy: 0.6517 - f1_metric: 0.7396 - val_loss: 0.8191 - val_accuracy: 0.6748 - val_f1_metric: 0.7823\n",
      "Epoch 5/20\n",
      "16/16 [==============================] - 1s 80ms/step - loss: 0.8495 - accuracy: 0.6518 - f1_metric: 0.7658 - val_loss: 0.8158 - val_accuracy: 0.6754 - val_f1_metric: 0.7888\n",
      "Epoch 6/20\n",
      "16/16 [==============================] - 1s 71ms/step - loss: 0.8455 - accuracy: 0.6523 - f1_metric: 0.7681 - val_loss: 0.8158 - val_accuracy: 0.6760 - val_f1_metric: 0.7801\n",
      "Epoch 7/20\n",
      "16/16 [==============================] - 1s 72ms/step - loss: 0.8427 - accuracy: 0.6523 - f1_metric: 0.7638 - val_loss: 0.8120 - val_accuracy: 0.6754 - val_f1_metric: 0.7852\n",
      "Epoch 7: early stopping\n",
      "50/50 [==============================] - 0s 3ms/step\n",
      "50/50 [==============================] - 0s 3ms/step\n",
      "neurons: (15, 10) || activation: relu || learning_rate: 0.01 || batch_size: 400 || epochs: 20 || metrics: (0.6754221388367729, 0.8030379132419914)\n",
      "Epoch 1/40\n",
      " 1/16 [>.............................] - ETA: 1s - loss: 1.3459 - accuracy: 0.2600 - f1_metric: 0.2418"
     ]
    },
    {
     "name": "stderr",
     "output_type": "stream",
     "text": [
      "<ipython-input-17-556339c31167>:26: DeprecationWarning: KerasClassifier is deprecated, use Sci-Keras (https://github.com/adriangb/scikeras) instead. See https://www.adriangb.com/scikeras/stable/migration.html for help migrating.\n",
      "  nn = KerasClassifier(build_fn=nn_cl_fun, verbose=1)\n"
     ]
    },
    {
     "name": "stdout",
     "output_type": "stream",
     "text": [
      "16/16 [==============================] - 1s 81ms/step - loss: 0.9750 - accuracy: 0.6116 - f1_metric: 0.6849 - val_loss: 0.8443 - val_accuracy: 0.6748 - val_f1_metric: 0.8054\n",
      "Epoch 2/40\n",
      "16/16 [==============================] - 1s 79ms/step - loss: 0.8693 - accuracy: 0.6506 - f1_metric: 0.7408 - val_loss: 0.8261 - val_accuracy: 0.6748 - val_f1_metric: 0.7708\n",
      "Epoch 3/40\n",
      "16/16 [==============================] - 1s 73ms/step - loss: 0.8572 - accuracy: 0.6506 - f1_metric: 0.7383 - val_loss: 0.8290 - val_accuracy: 0.6748 - val_f1_metric: 0.7260\n",
      "Epoch 4/40\n",
      "16/16 [==============================] - 1s 79ms/step - loss: 0.8529 - accuracy: 0.6506 - f1_metric: 0.7350 - val_loss: 0.8207 - val_accuracy: 0.6748 - val_f1_metric: 0.7567\n",
      "Epoch 5/40\n",
      "16/16 [==============================] - 1s 78ms/step - loss: 0.8509 - accuracy: 0.6506 - f1_metric: 0.7326 - val_loss: 0.8205 - val_accuracy: 0.6748 - val_f1_metric: 0.7389\n",
      "Epoch 6/40\n",
      "16/16 [==============================] - 1s 72ms/step - loss: 0.8452 - accuracy: 0.6506 - f1_metric: 0.7362 - val_loss: 0.8160 - val_accuracy: 0.6748 - val_f1_metric: 0.7585\n",
      "Epoch 6: early stopping\n",
      "50/50 [==============================] - 0s 3ms/step\n",
      "50/50 [==============================] - 0s 3ms/step\n",
      "neurons: (15, 10) || activation: relu || learning_rate: 0.01 || batch_size: 400 || epochs: 40 || metrics: (0.6747967479674797, 0.8058252427184466)\n",
      "Epoch 1/20\n",
      " 1/32 [..............................] - ETA: 2s - loss: 3.0345 - accuracy: 0.1150 - f1_metric: 0.2063"
     ]
    },
    {
     "name": "stderr",
     "output_type": "stream",
     "text": [
      "<ipython-input-17-556339c31167>:26: DeprecationWarning: KerasClassifier is deprecated, use Sci-Keras (https://github.com/adriangb/scikeras) instead. See https://www.adriangb.com/scikeras/stable/migration.html for help migrating.\n",
      "  nn = KerasClassifier(build_fn=nn_cl_fun, verbose=1)\n"
     ]
    },
    {
     "name": "stdout",
     "output_type": "stream",
     "text": [
      "32/32 [==============================] - 3s 79ms/step - loss: 11.8410 - accuracy: 0.6172 - f1_metric: 0.6559 - val_loss: 0.8619 - val_accuracy: 0.6748 - val_f1_metric: 0.8054\n",
      "Epoch 2/20\n",
      "32/32 [==============================] - 2s 78ms/step - loss: 0.8845 - accuracy: 0.6506 - f1_metric: 0.7877 - val_loss: 0.8465 - val_accuracy: 0.6748 - val_f1_metric: 0.8054\n",
      "Epoch 3/20\n",
      "32/32 [==============================] - 2s 70ms/step - loss: 0.8898 - accuracy: 0.6506 - f1_metric: 0.7875 - val_loss: 0.8650 - val_accuracy: 0.6748 - val_f1_metric: 0.8054\n",
      "Epoch 4/20\n",
      "32/32 [==============================] - 2s 79ms/step - loss: 0.8888 - accuracy: 0.6506 - f1_metric: 0.7877 - val_loss: 0.8498 - val_accuracy: 0.6748 - val_f1_metric: 0.8054\n",
      "Epoch 5/20\n",
      "32/32 [==============================] - 3s 79ms/step - loss: 0.8881 - accuracy: 0.6506 - f1_metric: 0.7878 - val_loss: 0.8506 - val_accuracy: 0.6748 - val_f1_metric: 0.8054\n",
      "Epoch 6/20\n",
      "32/32 [==============================] - 2s 78ms/step - loss: 0.8905 - accuracy: 0.6506 - f1_metric: 0.7878 - val_loss: 0.8533 - val_accuracy: 0.6748 - val_f1_metric: 0.8054\n",
      "Epoch 6: early stopping\n",
      "50/50 [==============================] - 0s 3ms/step\n",
      "50/50 [==============================] - 0s 3ms/step\n",
      "neurons: (15, 10) || activation: relu || learning_rate: 1 || batch_size: 200 || epochs: 20 || metrics: (0.6747967479674797, 0.8058252427184466)\n",
      "Epoch 1/40\n",
      " 1/32 [..............................] - ETA: 2s - loss: 5.8197 - accuracy: 0.7200 - f1_metric: 0.8372"
     ]
    },
    {
     "name": "stderr",
     "output_type": "stream",
     "text": [
      "<ipython-input-17-556339c31167>:26: DeprecationWarning: KerasClassifier is deprecated, use Sci-Keras (https://github.com/adriangb/scikeras) instead. See https://www.adriangb.com/scikeras/stable/migration.html for help migrating.\n",
      "  nn = KerasClassifier(build_fn=nn_cl_fun, verbose=1)\n"
     ]
    },
    {
     "name": "stdout",
     "output_type": "stream",
     "text": [
      "32/32 [==============================] - 2s 71ms/step - loss: 29.1194 - accuracy: 0.5007 - f1_metric: 0.5462 - val_loss: 0.9257 - val_accuracy: 0.6748 - val_f1_metric: 0.8054\n",
      "Epoch 2/40\n",
      "32/32 [==============================] - 2s 70ms/step - loss: 0.9093 - accuracy: 0.6506 - f1_metric: 0.7878 - val_loss: 0.8504 - val_accuracy: 0.6748 - val_f1_metric: 0.8054\n",
      "Epoch 3/40\n",
      "32/32 [==============================] - 2s 78ms/step - loss: 0.8860 - accuracy: 0.6506 - f1_metric: 0.7875 - val_loss: 0.8627 - val_accuracy: 0.6748 - val_f1_metric: 0.8054\n",
      "Epoch 4/40\n",
      "32/32 [==============================] - 3s 80ms/step - loss: 0.8880 - accuracy: 0.6506 - f1_metric: 0.7879 - val_loss: 0.8528 - val_accuracy: 0.6748 - val_f1_metric: 0.8054\n",
      "Epoch 5/40\n",
      "32/32 [==============================] - 2s 70ms/step - loss: 0.8891 - accuracy: 0.6506 - f1_metric: 0.7877 - val_loss: 0.8487 - val_accuracy: 0.6748 - val_f1_metric: 0.8054\n",
      "Epoch 6/40\n",
      "32/32 [==============================] - 2s 79ms/step - loss: 0.8884 - accuracy: 0.6506 - f1_metric: 0.7878 - val_loss: 0.8543 - val_accuracy: 0.6748 - val_f1_metric: 0.8054\n",
      "Epoch 6: early stopping\n",
      "50/50 [==============================] - 0s 3ms/step\n",
      "50/50 [==============================] - 0s 3ms/step\n",
      "neurons: (15, 10) || activation: relu || learning_rate: 1 || batch_size: 200 || epochs: 40 || metrics: (0.6747967479674797, 0.8058252427184466)\n",
      "Epoch 1/20\n",
      " 1/16 [>.............................] - ETA: 1s - loss: 22.4793 - accuracy: 0.2075 - f1_metric: 0.3437"
     ]
    },
    {
     "name": "stderr",
     "output_type": "stream",
     "text": [
      "<ipython-input-17-556339c31167>:26: DeprecationWarning: KerasClassifier is deprecated, use Sci-Keras (https://github.com/adriangb/scikeras) instead. See https://www.adriangb.com/scikeras/stable/migration.html for help migrating.\n",
      "  nn = KerasClassifier(build_fn=nn_cl_fun, verbose=1)\n"
     ]
    },
    {
     "name": "stdout",
     "output_type": "stream",
     "text": [
      "16/16 [==============================] - 1s 83ms/step - loss: 10.7127 - accuracy: 0.5296 - f1_metric: 0.6012 - val_loss: 0.9727 - val_accuracy: 0.6748 - val_f1_metric: 0.8054\n",
      "Epoch 2/20\n",
      "16/16 [==============================] - 1s 70ms/step - loss: 0.9402 - accuracy: 0.6506 - f1_metric: 0.6909 - val_loss: 0.8751 - val_accuracy: 0.6748 - val_f1_metric: 0.8054\n",
      "Epoch 3/20\n",
      "16/16 [==============================] - 1s 72ms/step - loss: 0.8926 - accuracy: 0.6506 - f1_metric: 0.7881 - val_loss: 0.8543 - val_accuracy: 0.6748 - val_f1_metric: 0.8054\n",
      "Epoch 4/20\n",
      "16/16 [==============================] - 1s 80ms/step - loss: 0.8882 - accuracy: 0.6506 - f1_metric: 0.7879 - val_loss: 0.8532 - val_accuracy: 0.6748 - val_f1_metric: 0.8054\n",
      "Epoch 5/20\n",
      "16/16 [==============================] - 1s 80ms/step - loss: 0.8838 - accuracy: 0.6506 - f1_metric: 0.7881 - val_loss: 0.8606 - val_accuracy: 0.6748 - val_f1_metric: 0.8054\n",
      "Epoch 6/20\n",
      "16/16 [==============================] - 1s 73ms/step - loss: 0.8921 - accuracy: 0.6506 - f1_metric: 0.7881 - val_loss: 0.8591 - val_accuracy: 0.6748 - val_f1_metric: 0.8054\n",
      "Epoch 6: early stopping\n",
      "50/50 [==============================] - 0s 3ms/step\n",
      "50/50 [==============================] - 0s 3ms/step\n",
      "neurons: (15, 10) || activation: relu || learning_rate: 1 || batch_size: 400 || epochs: 20 || metrics: (0.6747967479674797, 0.8058252427184466)\n",
      "Epoch 1/40\n",
      " 1/16 [>.............................] - ETA: 1s - loss: 6.1231 - accuracy: 0.1850 - f1_metric: 0.3122"
     ]
    },
    {
     "name": "stderr",
     "output_type": "stream",
     "text": [
      "<ipython-input-17-556339c31167>:26: DeprecationWarning: KerasClassifier is deprecated, use Sci-Keras (https://github.com/adriangb/scikeras) instead. See https://www.adriangb.com/scikeras/stable/migration.html for help migrating.\n",
      "  nn = KerasClassifier(build_fn=nn_cl_fun, verbose=1)\n"
     ]
    },
    {
     "name": "stdout",
     "output_type": "stream",
     "text": [
      "16/16 [==============================] - 1s 83ms/step - loss: 13.6937 - accuracy: 0.5309 - f1_metric: 0.6639 - val_loss: 0.9959 - val_accuracy: 0.6748 - val_f1_metric: 0.8054\n",
      "Epoch 2/40\n",
      "16/16 [==============================] - 1s 80ms/step - loss: 1.0253 - accuracy: 0.5137 - f1_metric: 0.5368 - val_loss: 0.9303 - val_accuracy: 0.6748 - val_f1_metric: 0.8054\n",
      "Epoch 3/40\n",
      "16/16 [==============================] - 1s 90ms/step - loss: 0.9164 - accuracy: 0.6506 - f1_metric: 0.6399 - val_loss: 0.8658 - val_accuracy: 0.6748 - val_f1_metric: 0.8054\n",
      "Epoch 4/40\n",
      "16/16 [==============================] - 2s 101ms/step - loss: 0.8887 - accuracy: 0.6506 - f1_metric: 0.7882 - val_loss: 0.8476 - val_accuracy: 0.6748 - val_f1_metric: 0.8054\n",
      "Epoch 5/40\n",
      "16/16 [==============================] - 1s 72ms/step - loss: 0.8836 - accuracy: 0.6506 - f1_metric: 0.7881 - val_loss: 0.8480 - val_accuracy: 0.6748 - val_f1_metric: 0.8054\n",
      "Epoch 6/40\n",
      "16/16 [==============================] - 1s 80ms/step - loss: 0.8876 - accuracy: 0.6506 - f1_metric: 0.7880 - val_loss: 0.8562 - val_accuracy: 0.6748 - val_f1_metric: 0.8054\n",
      "Epoch 6: early stopping\n",
      "50/50 [==============================] - 0s 3ms/step\n",
      "50/50 [==============================] - 0s 3ms/step\n",
      "neurons: (15, 10) || activation: relu || learning_rate: 1 || batch_size: 400 || epochs: 40 || metrics: (0.6747967479674797, 0.8058252427184466)\n",
      "Epoch 1/20\n",
      " 1/32 [..............................] - ETA: 2s - loss: 0.9760 - accuracy: 0.7250 - f1_metric: 0.0000e+00"
     ]
    },
    {
     "name": "stderr",
     "output_type": "stream",
     "text": [
      "<ipython-input-17-556339c31167>:26: DeprecationWarning: KerasClassifier is deprecated, use Sci-Keras (https://github.com/adriangb/scikeras) instead. See https://www.adriangb.com/scikeras/stable/migration.html for help migrating.\n",
      "  nn = KerasClassifier(build_fn=nn_cl_fun, verbose=1)\n"
     ]
    },
    {
     "name": "stdout",
     "output_type": "stream",
     "text": [
      "32/32 [==============================] - 2s 71ms/step - loss: 0.8947 - accuracy: 0.6506 - f1_metric: 0.7380 - val_loss: 0.8454 - val_accuracy: 0.6748 - val_f1_metric: 0.7853\n",
      "Epoch 2/20\n",
      "32/32 [==============================] - 3s 79ms/step - loss: 0.8600 - accuracy: 0.6506 - f1_metric: 0.7650 - val_loss: 0.8246 - val_accuracy: 0.6748 - val_f1_metric: 0.7539\n",
      "Epoch 3/20\n",
      "32/32 [==============================] - 2s 69ms/step - loss: 0.8462 - accuracy: 0.6506 - f1_metric: 0.7358 - val_loss: 0.8264 - val_accuracy: 0.6754 - val_f1_metric: 0.6974\n",
      "Epoch 4/20\n",
      "32/32 [==============================] - 3s 79ms/step - loss: 0.8393 - accuracy: 0.6506 - f1_metric: 0.7171 - val_loss: 0.8086 - val_accuracy: 0.6748 - val_f1_metric: 0.7460\n",
      "Epoch 5/20\n",
      "32/32 [==============================] - 2s 78ms/step - loss: 0.8328 - accuracy: 0.6498 - f1_metric: 0.7203 - val_loss: 0.8050 - val_accuracy: 0.6748 - val_f1_metric: 0.7582\n",
      "Epoch 6/20\n",
      "32/32 [==============================] - 2s 71ms/step - loss: 0.8332 - accuracy: 0.6506 - f1_metric: 0.7286 - val_loss: 0.8163 - val_accuracy: 0.6760 - val_f1_metric: 0.6861\n",
      "Epoch 6: early stopping\n",
      "50/50 [==============================] - 0s 3ms/step\n",
      "50/50 [==============================] - 0s 3ms/step\n",
      "neurons: (15, 10) || activation: sigmoid || learning_rate: 0.01 || batch_size: 200 || epochs: 20 || metrics: (0.6760475297060663, 0.7979081638543017)\n",
      "Epoch 1/40\n",
      " 1/32 [..............................] - ETA: 2s - loss: 1.0306 - accuracy: 0.7350 - f1_metric: 0.8473"
     ]
    },
    {
     "name": "stderr",
     "output_type": "stream",
     "text": [
      "<ipython-input-17-556339c31167>:26: DeprecationWarning: KerasClassifier is deprecated, use Sci-Keras (https://github.com/adriangb/scikeras) instead. See https://www.adriangb.com/scikeras/stable/migration.html for help migrating.\n",
      "  nn = KerasClassifier(build_fn=nn_cl_fun, verbose=1)\n"
     ]
    },
    {
     "name": "stdout",
     "output_type": "stream",
     "text": [
      "32/32 [==============================] - 2s 71ms/step - loss: 0.9225 - accuracy: 0.6506 - f1_metric: 0.7878 - val_loss: 0.8410 - val_accuracy: 0.6748 - val_f1_metric: 0.8054\n",
      "Epoch 2/40\n",
      "32/32 [==============================] - 2s 71ms/step - loss: 0.8641 - accuracy: 0.6506 - f1_metric: 0.7879 - val_loss: 0.8278 - val_accuracy: 0.6748 - val_f1_metric: 0.8040\n",
      "Epoch 3/40\n",
      "32/32 [==============================] - 2s 79ms/step - loss: 0.8469 - accuracy: 0.6506 - f1_metric: 0.7607 - val_loss: 0.8185 - val_accuracy: 0.6748 - val_f1_metric: 0.7391\n",
      "Epoch 4/40\n",
      "32/32 [==============================] - 2s 79ms/step - loss: 0.8393 - accuracy: 0.6506 - f1_metric: 0.7313 - val_loss: 0.8124 - val_accuracy: 0.6748 - val_f1_metric: 0.7176\n",
      "Epoch 5/40\n",
      "32/32 [==============================] - 2s 70ms/step - loss: 0.8384 - accuracy: 0.6506 - f1_metric: 0.7119 - val_loss: 0.8140 - val_accuracy: 0.6748 - val_f1_metric: 0.7082\n",
      "Epoch 6/40\n",
      "32/32 [==============================] - 2s 71ms/step - loss: 0.8320 - accuracy: 0.6506 - f1_metric: 0.7236 - val_loss: 0.8044 - val_accuracy: 0.6748 - val_f1_metric: 0.7270\n",
      "Epoch 6: early stopping\n",
      "50/50 [==============================] - 0s 3ms/step\n",
      "50/50 [==============================] - 0s 3ms/step\n",
      "neurons: (15, 10) || activation: sigmoid || learning_rate: 0.01 || batch_size: 200 || epochs: 40 || metrics: (0.6747967479674797, 0.8058252427184466)\n",
      "Epoch 1/20\n",
      " 1/16 [>.............................] - ETA: 1s - loss: 1.6431 - accuracy: 0.1550 - f1_metric: 0.0000e+00"
     ]
    },
    {
     "name": "stderr",
     "output_type": "stream",
     "text": [
      "<ipython-input-17-556339c31167>:26: DeprecationWarning: KerasClassifier is deprecated, use Sci-Keras (https://github.com/adriangb/scikeras) instead. See https://www.adriangb.com/scikeras/stable/migration.html for help migrating.\n",
      "  nn = KerasClassifier(build_fn=nn_cl_fun, verbose=1)\n"
     ]
    },
    {
     "name": "stdout",
     "output_type": "stream",
     "text": [
      "16/16 [==============================] - 1s 74ms/step - loss: 1.1239 - accuracy: 0.4231 - f1_metric: 0.2996 - val_loss: 0.8706 - val_accuracy: 0.6748 - val_f1_metric: 0.8054\n",
      "Epoch 2/20\n",
      "16/16 [==============================] - 1s 72ms/step - loss: 0.8889 - accuracy: 0.6506 - f1_metric: 0.7881 - val_loss: 0.8465 - val_accuracy: 0.6748 - val_f1_metric: 0.8054\n",
      "Epoch 3/20\n",
      "16/16 [==============================] - 1s 80ms/step - loss: 0.8837 - accuracy: 0.6506 - f1_metric: 0.7880 - val_loss: 0.8464 - val_accuracy: 0.6748 - val_f1_metric: 0.8054\n",
      "Epoch 4/20\n",
      "16/16 [==============================] - 1s 81ms/step - loss: 0.8809 - accuracy: 0.6506 - f1_metric: 0.7881 - val_loss: 0.8465 - val_accuracy: 0.6748 - val_f1_metric: 0.8054\n",
      "Epoch 5/20\n",
      "16/16 [==============================] - 1s 79ms/step - loss: 0.8793 - accuracy: 0.6506 - f1_metric: 0.7882 - val_loss: 0.8448 - val_accuracy: 0.6748 - val_f1_metric: 0.8054\n",
      "Epoch 6/20\n",
      "16/16 [==============================] - 1s 72ms/step - loss: 0.8773 - accuracy: 0.6506 - f1_metric: 0.7881 - val_loss: 0.8429 - val_accuracy: 0.6748 - val_f1_metric: 0.8054\n",
      "Epoch 6: early stopping\n",
      "50/50 [==============================] - 0s 2ms/step\n",
      "50/50 [==============================] - 0s 3ms/step\n",
      "neurons: (15, 10) || activation: sigmoid || learning_rate: 0.01 || batch_size: 400 || epochs: 20 || metrics: (0.6747967479674797, 0.8058252427184466)\n",
      "Epoch 1/40\n",
      " 1/16 [>.............................] - ETA: 1s - loss: 0.9934 - accuracy: 0.6400 - f1_metric: 0.0000e+00"
     ]
    },
    {
     "name": "stderr",
     "output_type": "stream",
     "text": [
      "<ipython-input-17-556339c31167>:26: DeprecationWarning: KerasClassifier is deprecated, use Sci-Keras (https://github.com/adriangb/scikeras) instead. See https://www.adriangb.com/scikeras/stable/migration.html for help migrating.\n",
      "  nn = KerasClassifier(build_fn=nn_cl_fun, verbose=1)\n"
     ]
    },
    {
     "name": "stdout",
     "output_type": "stream",
     "text": [
      "16/16 [==============================] - 1s 83ms/step - loss: 0.8976 - accuracy: 0.6506 - f1_metric: 0.6894 - val_loss: 0.8425 - val_accuracy: 0.6748 - val_f1_metric: 0.8054\n",
      "Epoch 2/40\n",
      "16/16 [==============================] - 1s 74ms/step - loss: 0.8752 - accuracy: 0.6506 - f1_metric: 0.7878 - val_loss: 0.8319 - val_accuracy: 0.6748 - val_f1_metric: 0.8050\n",
      "Epoch 3/40\n",
      "16/16 [==============================] - 1s 80ms/step - loss: 0.8584 - accuracy: 0.6506 - f1_metric: 0.7748 - val_loss: 0.8244 - val_accuracy: 0.6748 - val_f1_metric: 0.7646\n",
      "Epoch 4/40\n",
      "16/16 [==============================] - 1s 81ms/step - loss: 0.8480 - accuracy: 0.6506 - f1_metric: 0.7427 - val_loss: 0.8159 - val_accuracy: 0.6748 - val_f1_metric: 0.7561\n",
      "Epoch 5/40\n",
      "16/16 [==============================] - 1s 71ms/step - loss: 0.8399 - accuracy: 0.6507 - f1_metric: 0.7232 - val_loss: 0.8126 - val_accuracy: 0.6748 - val_f1_metric: 0.7453\n",
      "Epoch 6/40\n",
      "16/16 [==============================] - 1s 79ms/step - loss: 0.8368 - accuracy: 0.6506 - f1_metric: 0.7380 - val_loss: 0.8154 - val_accuracy: 0.6748 - val_f1_metric: 0.7145\n",
      "Epoch 6: early stopping\n",
      "50/50 [==============================] - 0s 3ms/step\n",
      "50/50 [==============================] - 0s 3ms/step\n",
      "neurons: (15, 10) || activation: sigmoid || learning_rate: 0.01 || batch_size: 400 || epochs: 40 || metrics: (0.6747967479674797, 0.8058252427184466)\n",
      "Epoch 1/20\n",
      " 1/32 [..............................] - ETA: 2s - loss: 1.1532 - accuracy: 0.1900 - f1_metric: 0.0000e+00"
     ]
    },
    {
     "name": "stderr",
     "output_type": "stream",
     "text": [
      "<ipython-input-17-556339c31167>:26: DeprecationWarning: KerasClassifier is deprecated, use Sci-Keras (https://github.com/adriangb/scikeras) instead. See https://www.adriangb.com/scikeras/stable/migration.html for help migrating.\n",
      "  nn = KerasClassifier(build_fn=nn_cl_fun, verbose=1)\n"
     ]
    },
    {
     "name": "stdout",
     "output_type": "stream",
     "text": [
      "32/32 [==============================] - 3s 80ms/step - loss: 1.6634 - accuracy: 0.4940 - f1_metric: 0.5865 - val_loss: 0.9010 - val_accuracy: 0.6748 - val_f1_metric: 0.8054\n",
      "Epoch 2/20\n",
      "32/32 [==============================] - 2s 70ms/step - loss: 0.9357 - accuracy: 0.6204 - f1_metric: 0.6418 - val_loss: 0.8743 - val_accuracy: 0.6748 - val_f1_metric: 0.8054\n",
      "Epoch 3/20\n",
      "32/32 [==============================] - 2s 70ms/step - loss: 0.8992 - accuracy: 0.6506 - f1_metric: 0.7628 - val_loss: 0.8493 - val_accuracy: 0.6748 - val_f1_metric: 0.8054\n",
      "Epoch 4/20\n",
      "32/32 [==============================] - 3s 79ms/step - loss: 0.8907 - accuracy: 0.6506 - f1_metric: 0.7880 - val_loss: 0.8469 - val_accuracy: 0.6748 - val_f1_metric: 0.8054\n",
      "Epoch 5/20\n",
      "32/32 [==============================] - 2s 78ms/step - loss: 0.8919 - accuracy: 0.6506 - f1_metric: 0.7880 - val_loss: 0.8567 - val_accuracy: 0.6748 - val_f1_metric: 0.8054\n",
      "Epoch 6/20\n",
      "32/32 [==============================] - 2s 71ms/step - loss: 0.8988 - accuracy: 0.6506 - f1_metric: 0.7879 - val_loss: 0.8493 - val_accuracy: 0.6748 - val_f1_metric: 0.8054\n",
      "Epoch 6: early stopping\n",
      "50/50 [==============================] - 0s 3ms/step\n",
      "50/50 [==============================] - 0s 3ms/step\n",
      "neurons: (15, 10) || activation: sigmoid || learning_rate: 1 || batch_size: 200 || epochs: 20 || metrics: (0.6747967479674797, 0.8058252427184466)\n",
      "Epoch 1/40\n",
      " 1/32 [..............................] - ETA: 2s - loss: 0.9648 - accuracy: 0.6100 - f1_metric: 0.0000e+00"
     ]
    },
    {
     "name": "stderr",
     "output_type": "stream",
     "text": [
      "<ipython-input-17-556339c31167>:26: DeprecationWarning: KerasClassifier is deprecated, use Sci-Keras (https://github.com/adriangb/scikeras) instead. See https://www.adriangb.com/scikeras/stable/migration.html for help migrating.\n",
      "  nn = KerasClassifier(build_fn=nn_cl_fun, verbose=1)\n"
     ]
    },
    {
     "name": "stdout",
     "output_type": "stream",
     "text": [
      "32/32 [==============================] - 2s 71ms/step - loss: 1.4593 - accuracy: 0.5594 - f1_metric: 0.5743 - val_loss: 0.8960 - val_accuracy: 0.6748 - val_f1_metric: 0.8054\n",
      "Epoch 2/40\n",
      "32/32 [==============================] - 2s 78ms/step - loss: 0.9019 - accuracy: 0.6506 - f1_metric: 0.7879 - val_loss: 0.8524 - val_accuracy: 0.6748 - val_f1_metric: 0.8054\n",
      "Epoch 3/40\n",
      "32/32 [==============================] - 2s 78ms/step - loss: 0.8990 - accuracy: 0.6506 - f1_metric: 0.7622 - val_loss: 0.8502 - val_accuracy: 0.6748 - val_f1_metric: 0.8054\n",
      "Epoch 4/40\n",
      "32/32 [==============================] - 2s 69ms/step - loss: 0.8991 - accuracy: 0.6506 - f1_metric: 0.7880 - val_loss: 0.8656 - val_accuracy: 0.6748 - val_f1_metric: 0.8054\n",
      "Epoch 5/40\n",
      "32/32 [==============================] - 2s 70ms/step - loss: 0.9246 - accuracy: 0.6506 - f1_metric: 0.6645 - val_loss: 0.8493 - val_accuracy: 0.6748 - val_f1_metric: 0.8054\n",
      "Epoch 6/40\n",
      "32/32 [==============================] - 2s 79ms/step - loss: 0.9131 - accuracy: 0.6506 - f1_metric: 0.7392 - val_loss: 0.8590 - val_accuracy: 0.6748 - val_f1_metric: 0.8054\n",
      "Epoch 6: early stopping\n",
      "50/50 [==============================] - 0s 3ms/step\n",
      "50/50 [==============================] - 0s 3ms/step\n",
      "neurons: (15, 10) || activation: sigmoid || learning_rate: 1 || batch_size: 200 || epochs: 40 || metrics: (0.6747967479674797, 0.8058252427184466)\n",
      "Epoch 1/20\n",
      " 1/16 [>.............................] - ETA: 1s - loss: 0.8466 - accuracy: 0.6750 - f1_metric: 0.8060"
     ]
    },
    {
     "name": "stderr",
     "output_type": "stream",
     "text": [
      "<ipython-input-17-556339c31167>:26: DeprecationWarning: KerasClassifier is deprecated, use Sci-Keras (https://github.com/adriangb/scikeras) instead. See https://www.adriangb.com/scikeras/stable/migration.html for help migrating.\n",
      "  nn = KerasClassifier(build_fn=nn_cl_fun, verbose=1)\n"
     ]
    },
    {
     "name": "stdout",
     "output_type": "stream",
     "text": [
      "16/16 [==============================] - 1s 75ms/step - loss: 2.4512 - accuracy: 0.5081 - f1_metric: 0.6410 - val_loss: 1.4356 - val_accuracy: 0.6748 - val_f1_metric: 0.8054\n",
      "Epoch 2/20\n",
      "16/16 [==============================] - 1s 71ms/step - loss: 1.2127 - accuracy: 0.5830 - f1_metric: 0.6680 - val_loss: 1.1010 - val_accuracy: 0.1232 - val_f1_metric: 0.0000e+00\n",
      "Epoch 3/20\n",
      "16/16 [==============================] - 1s 72ms/step - loss: 0.9806 - accuracy: 0.5870 - f1_metric: 0.6897 - val_loss: 0.9078 - val_accuracy: 0.6748 - val_f1_metric: 0.8054\n",
      "Epoch 4/20\n",
      "16/16 [==============================] - 1s 72ms/step - loss: 0.9197 - accuracy: 0.6506 - f1_metric: 0.7881 - val_loss: 0.8489 - val_accuracy: 0.6748 - val_f1_metric: 0.8054\n",
      "Epoch 5/20\n",
      "16/16 [==============================] - 1s 72ms/step - loss: 0.9041 - accuracy: 0.6506 - f1_metric: 0.7880 - val_loss: 0.8895 - val_accuracy: 0.6748 - val_f1_metric: 0.8054\n",
      "Epoch 6/20\n",
      "16/16 [==============================] - 1s 80ms/step - loss: 0.9155 - accuracy: 0.6506 - f1_metric: 0.6904 - val_loss: 0.8619 - val_accuracy: 0.6748 - val_f1_metric: 0.8054\n",
      "Epoch 6: early stopping\n",
      "50/50 [==============================] - 0s 3ms/step\n",
      "50/50 [==============================] - 0s 3ms/step\n",
      "neurons: (15, 10) || activation: sigmoid || learning_rate: 1 || batch_size: 400 || epochs: 20 || metrics: (0.6747967479674797, 0.8058252427184466)\n",
      "Epoch 1/40\n",
      " 1/16 [>.............................] - ETA: 1s - loss: 1.0081 - accuracy: 0.6100 - f1_metric: 0.0000e+00"
     ]
    },
    {
     "name": "stderr",
     "output_type": "stream",
     "text": [
      "<ipython-input-17-556339c31167>:26: DeprecationWarning: KerasClassifier is deprecated, use Sci-Keras (https://github.com/adriangb/scikeras) instead. See https://www.adriangb.com/scikeras/stable/migration.html for help migrating.\n",
      "  nn = KerasClassifier(build_fn=nn_cl_fun, verbose=1)\n"
     ]
    },
    {
     "name": "stdout",
     "output_type": "stream",
     "text": [
      "16/16 [==============================] - 1s 76ms/step - loss: 1.3646 - accuracy: 0.5827 - f1_metric: 0.6699 - val_loss: 0.8669 - val_accuracy: 0.6748 - val_f1_metric: 0.8054\n",
      "Epoch 2/40\n",
      "16/16 [==============================] - 1s 73ms/step - loss: 0.8883 - accuracy: 0.6506 - f1_metric: 0.7882 - val_loss: 0.8473 - val_accuracy: 0.6748 - val_f1_metric: 0.8054\n",
      "Epoch 3/40\n",
      "16/16 [==============================] - 1s 72ms/step - loss: 0.8845 - accuracy: 0.6506 - f1_metric: 0.7881 - val_loss: 0.8491 - val_accuracy: 0.6748 - val_f1_metric: 0.8054\n",
      "Epoch 4/40\n",
      "16/16 [==============================] - 1s 71ms/step - loss: 0.8874 - accuracy: 0.6506 - f1_metric: 0.7879 - val_loss: 0.8581 - val_accuracy: 0.6748 - val_f1_metric: 0.8054\n",
      "Epoch 5/40\n",
      "16/16 [==============================] - 1s 80ms/step - loss: 0.8861 - accuracy: 0.6506 - f1_metric: 0.7881 - val_loss: 0.8528 - val_accuracy: 0.6748 - val_f1_metric: 0.8054\n",
      "Epoch 6/40\n",
      "16/16 [==============================] - 1s 72ms/step - loss: 0.8872 - accuracy: 0.6506 - f1_metric: 0.7881 - val_loss: 0.8468 - val_accuracy: 0.6748 - val_f1_metric: 0.8054\n",
      "Epoch 6: early stopping\n",
      "50/50 [==============================] - 0s 3ms/step\n",
      "50/50 [==============================] - 0s 3ms/step\n",
      "neurons: (15, 10) || activation: sigmoid || learning_rate: 1 || batch_size: 400 || epochs: 40 || metrics: (0.6747967479674797, 0.8058252427184466)\n"
     ]
    }
   ],
   "source": [
    "params_nn ={\n",
    "    'neurons': ((12, 7), (15, 10)),\n",
    "    'activation': ('relu', 'sigmoid'), #, 'softmax', 'exponential'),\n",
    "    'learning_rate':(0.01, 1),\n",
    "    'batch_size':(200, 400),\n",
    "    'epochs':(20, 40)\n",
    "}\n",
    "\n",
    "score_map = {}\n",
    "for neurons in params_nn['neurons']:\n",
    "    for activation in params_nn['activation']:\n",
    "        for learning_rate in params_nn['learning_rate']:\n",
    "            for batch_size in params_nn['batch_size']:\n",
    "                for epochs in params_nn['epochs']:\n",
    "                    neurons1 = neurons[0]\n",
    "                    neurons2 = neurons[1]\n",
    "                    def nn_cl_fun():\n",
    "                        opt = Adam(learning_rate = learning_rate)\n",
    "                        nn = Sequential()\n",
    "                        nn.add(Dense(neurons1, input_shape=(16, ), activation=activation))\n",
    "                        nn.add(Dense(neurons2, activation=activation))\n",
    "                        nn.add(Dense(3, activation='softmax'))\n",
    "                        nn.compile(loss='categorical_crossentropy', optimizer=opt, metrics=['accuracy', f1_metric], run_eagerly=True)\n",
    "                        return nn\n",
    "                    es = EarlyStopping(monitor='val_f1_metric', mode='max', verbose=1, patience=5)\n",
    "                    nn = KerasClassifier(build_fn=nn_cl_fun, verbose=1)\n",
    "                    # kfold = KFold(n_splits=2, shuffle=True, random_state=17)\n",
    "                    # score = cross_val_score(nn, X_train, y_train, scoring=score_acc, cv=kfold, fit_params={'callbacks':[es]}, error_score='raise').mean()\n",
    "                    history = nn.fit(X_train, y_train, verbose=1, epochs=epochs, batch_size=batch_size, validation_data=(X_val, pd.get_dummies(y_val)), callbacks=[es])\n",
    "                    val_acc = accuracy_score(nn.predict(X_val), y_val)\n",
    "                    val_f1 = f1_score(nn.predict(X_val), y_val, average='weighted')\n",
    "                    score_map[f\"neurons: {neurons} || activation: {activation} || learning_rate: {learning_rate} || batch_size: {batch_size} || epochs: {epochs}\"] = (val_acc, val_f1)\n",
    "                    print(f\"neurons: {neurons} || activation: {activation} || learning_rate: {learning_rate} || batch_size: {batch_size} || epochs: {epochs} || metrics: {(val_acc, val_f1)}\")"
   ]
  },
  {
   "cell_type": "code",
   "execution_count": 18,
   "metadata": {
    "colab": {
     "base_uri": "https://localhost:8080/",
     "height": 0
    },
    "id": "LwgmTn23koOt",
    "outputId": "c2bd7401-e9b6-42d0-ccbe-02b3a8bafa7e"
   },
   "outputs": [
    {
     "data": {
      "text/plain": [
       "[('neurons: (15, 10) || activation: sigmoid || learning_rate: 0.01 || batch_size: 400 || epochs: 40',\n",
       "  (0.6747967479674797, 0.8058252427184466)),\n",
       " ('neurons: (15, 10) || activation: sigmoid || learning_rate: 1 || batch_size: 200 || epochs: 20',\n",
       "  (0.6747967479674797, 0.8058252427184466)),\n",
       " ('neurons: (15, 10) || activation: sigmoid || learning_rate: 1 || batch_size: 200 || epochs: 40',\n",
       "  (0.6747967479674797, 0.8058252427184466)),\n",
       " ('neurons: (15, 10) || activation: sigmoid || learning_rate: 1 || batch_size: 400 || epochs: 20',\n",
       "  (0.6747967479674797, 0.8058252427184466)),\n",
       " ('neurons: (15, 10) || activation: sigmoid || learning_rate: 1 || batch_size: 400 || epochs: 40',\n",
       "  (0.6747967479674797, 0.8058252427184466))]"
      ]
     },
     "execution_count": 18,
     "metadata": {},
     "output_type": "execute_result"
    }
   ],
   "source": [
    "sorted(score_map.items(), key=lambda item: item[1][-1])[-5:] # top performing architectures (based on validation f1-score)"
   ]
  },
  {
   "cell_type": "markdown",
   "metadata": {
    "id": "isgY2LzSJiNy"
   },
   "source": [
    "**Best Hyperparameters**\n",
    "\n",
    "* Hidden layer 1: #nodes = 15\n",
    "* Hidden layer 2: #nodes = 10\n",
    "* Activation functions for the hidden layers: sigmoid\n",
    "* Learning rate: 1\n",
    "* Batch size: 400\n",
    "* Num. of epochs: 40 with early stopping at epoch 7.\n"
   ]
  },
  {
   "cell_type": "markdown",
   "metadata": {
    "id": "Y8AJRTjQgl0W"
   },
   "source": [
    "Since this was the last model trained on the above cell, we can go head with the predictions with the model nn."
   ]
  },
  {
   "attachments": {},
   "cell_type": "markdown",
   "metadata": {
    "id": "mvqhtg9oMfTF"
   },
   "source": [
    "#### Reporting the performance on Test data "
   ]
  },
  {
   "cell_type": "code",
   "execution_count": 19,
   "metadata": {
    "colab": {
     "base_uri": "https://localhost:8080/",
     "height": 206
    },
    "id": "IpmPPUj4LmGF",
    "outputId": "fc1634de-5513-4610-c6bc-630de4350b02"
   },
   "outputs": [
    {
     "data": {
      "text/html": [
       "\n",
       "  <div id=\"df-6548d39c-5770-4796-a14d-1336fe401fcb\">\n",
       "    <div class=\"colab-df-container\">\n",
       "      <div>\n",
       "<style scoped>\n",
       "    .dataframe tbody tr th:only-of-type {\n",
       "        vertical-align: middle;\n",
       "    }\n",
       "\n",
       "    .dataframe tbody tr th {\n",
       "        vertical-align: top;\n",
       "    }\n",
       "\n",
       "    .dataframe thead th {\n",
       "        text-align: right;\n",
       "    }\n",
       "</style>\n",
       "<table border=\"1\" class=\"dataframe\">\n",
       "  <thead>\n",
       "    <tr style=\"text-align: right;\">\n",
       "      <th></th>\n",
       "      <th>ID</th>\n",
       "      <th>Gender</th>\n",
       "      <th>Ever_Married</th>\n",
       "      <th>Age</th>\n",
       "      <th>Graduated</th>\n",
       "      <th>Profession</th>\n",
       "      <th>Work_Experience</th>\n",
       "      <th>Spending_Score</th>\n",
       "      <th>Family_Size</th>\n",
       "      <th>Var_1</th>\n",
       "    </tr>\n",
       "  </thead>\n",
       "  <tbody>\n",
       "    <tr>\n",
       "      <th>0</th>\n",
       "      <td>458989</td>\n",
       "      <td>Female</td>\n",
       "      <td>Yes</td>\n",
       "      <td>36</td>\n",
       "      <td>Yes</td>\n",
       "      <td>Engineer</td>\n",
       "      <td>0.0</td>\n",
       "      <td>Low</td>\n",
       "      <td>1.0</td>\n",
       "      <td>Cat_6</td>\n",
       "    </tr>\n",
       "    <tr>\n",
       "      <th>1</th>\n",
       "      <td>458994</td>\n",
       "      <td>Male</td>\n",
       "      <td>Yes</td>\n",
       "      <td>37</td>\n",
       "      <td>Yes</td>\n",
       "      <td>Healthcare</td>\n",
       "      <td>8.0</td>\n",
       "      <td>Average</td>\n",
       "      <td>4.0</td>\n",
       "      <td>Cat_6</td>\n",
       "    </tr>\n",
       "    <tr>\n",
       "      <th>2</th>\n",
       "      <td>458996</td>\n",
       "      <td>Female</td>\n",
       "      <td>Yes</td>\n",
       "      <td>69</td>\n",
       "      <td>No</td>\n",
       "      <td>NaN</td>\n",
       "      <td>0.0</td>\n",
       "      <td>Low</td>\n",
       "      <td>1.0</td>\n",
       "      <td>Cat_6</td>\n",
       "    </tr>\n",
       "    <tr>\n",
       "      <th>3</th>\n",
       "      <td>459000</td>\n",
       "      <td>Male</td>\n",
       "      <td>Yes</td>\n",
       "      <td>59</td>\n",
       "      <td>No</td>\n",
       "      <td>Executive</td>\n",
       "      <td>11.0</td>\n",
       "      <td>High</td>\n",
       "      <td>2.0</td>\n",
       "      <td>Cat_6</td>\n",
       "    </tr>\n",
       "    <tr>\n",
       "      <th>4</th>\n",
       "      <td>459001</td>\n",
       "      <td>Female</td>\n",
       "      <td>No</td>\n",
       "      <td>19</td>\n",
       "      <td>No</td>\n",
       "      <td>Marketing</td>\n",
       "      <td>NaN</td>\n",
       "      <td>Low</td>\n",
       "      <td>4.0</td>\n",
       "      <td>Cat_6</td>\n",
       "    </tr>\n",
       "  </tbody>\n",
       "</table>\n",
       "</div>\n",
       "      <button class=\"colab-df-convert\" onclick=\"convertToInteractive('df-6548d39c-5770-4796-a14d-1336fe401fcb')\"\n",
       "              title=\"Convert this dataframe to an interactive table.\"\n",
       "              style=\"display:none;\">\n",
       "        \n",
       "  <svg xmlns=\"http://www.w3.org/2000/svg\" height=\"24px\"viewBox=\"0 0 24 24\"\n",
       "       width=\"24px\">\n",
       "    <path d=\"M0 0h24v24H0V0z\" fill=\"none\"/>\n",
       "    <path d=\"M18.56 5.44l.94 2.06.94-2.06 2.06-.94-2.06-.94-.94-2.06-.94 2.06-2.06.94zm-11 1L8.5 8.5l.94-2.06 2.06-.94-2.06-.94L8.5 2.5l-.94 2.06-2.06.94zm10 10l.94 2.06.94-2.06 2.06-.94-2.06-.94-.94-2.06-.94 2.06-2.06.94z\"/><path d=\"M17.41 7.96l-1.37-1.37c-.4-.4-.92-.59-1.43-.59-.52 0-1.04.2-1.43.59L10.3 9.45l-7.72 7.72c-.78.78-.78 2.05 0 2.83L4 21.41c.39.39.9.59 1.41.59.51 0 1.02-.2 1.41-.59l7.78-7.78 2.81-2.81c.8-.78.8-2.07 0-2.86zM5.41 20L4 18.59l7.72-7.72 1.47 1.35L5.41 20z\"/>\n",
       "  </svg>\n",
       "      </button>\n",
       "      \n",
       "  <style>\n",
       "    .colab-df-container {\n",
       "      display:flex;\n",
       "      flex-wrap:wrap;\n",
       "      gap: 12px;\n",
       "    }\n",
       "\n",
       "    .colab-df-convert {\n",
       "      background-color: #E8F0FE;\n",
       "      border: none;\n",
       "      border-radius: 50%;\n",
       "      cursor: pointer;\n",
       "      display: none;\n",
       "      fill: #1967D2;\n",
       "      height: 32px;\n",
       "      padding: 0 0 0 0;\n",
       "      width: 32px;\n",
       "    }\n",
       "\n",
       "    .colab-df-convert:hover {\n",
       "      background-color: #E2EBFA;\n",
       "      box-shadow: 0px 1px 2px rgba(60, 64, 67, 0.3), 0px 1px 3px 1px rgba(60, 64, 67, 0.15);\n",
       "      fill: #174EA6;\n",
       "    }\n",
       "\n",
       "    [theme=dark] .colab-df-convert {\n",
       "      background-color: #3B4455;\n",
       "      fill: #D2E3FC;\n",
       "    }\n",
       "\n",
       "    [theme=dark] .colab-df-convert:hover {\n",
       "      background-color: #434B5C;\n",
       "      box-shadow: 0px 1px 3px 1px rgba(0, 0, 0, 0.15);\n",
       "      filter: drop-shadow(0px 1px 2px rgba(0, 0, 0, 0.3));\n",
       "      fill: #FFFFFF;\n",
       "    }\n",
       "  </style>\n",
       "\n",
       "      <script>\n",
       "        const buttonEl =\n",
       "          document.querySelector('#df-6548d39c-5770-4796-a14d-1336fe401fcb button.colab-df-convert');\n",
       "        buttonEl.style.display =\n",
       "          google.colab.kernel.accessAllowed ? 'block' : 'none';\n",
       "\n",
       "        async function convertToInteractive(key) {\n",
       "          const element = document.querySelector('#df-6548d39c-5770-4796-a14d-1336fe401fcb');\n",
       "          const dataTable =\n",
       "            await google.colab.kernel.invokeFunction('convertToInteractive',\n",
       "                                                     [key], {});\n",
       "          if (!dataTable) return;\n",
       "\n",
       "          const docLinkHtml = 'Like what you see? Visit the ' +\n",
       "            '<a target=\"_blank\" href=https://colab.research.google.com/notebooks/data_table.ipynb>data table notebook</a>'\n",
       "            + ' to learn more about interactive tables.';\n",
       "          element.innerHTML = '';\n",
       "          dataTable['output_type'] = 'display_data';\n",
       "          await google.colab.output.renderOutput(dataTable, element);\n",
       "          const docLink = document.createElement('div');\n",
       "          docLink.innerHTML = docLinkHtml;\n",
       "          element.appendChild(docLink);\n",
       "        }\n",
       "      </script>\n",
       "    </div>\n",
       "  </div>\n",
       "  "
      ],
      "text/plain": [
       "       ID  Gender Ever_Married  Age Graduated  Profession  Work_Experience  \\\n",
       "0  458989  Female          Yes   36       Yes    Engineer              0.0   \n",
       "1  458994    Male          Yes   37       Yes  Healthcare              8.0   \n",
       "2  458996  Female          Yes   69        No         NaN              0.0   \n",
       "3  459000    Male          Yes   59        No   Executive             11.0   \n",
       "4  459001  Female           No   19        No   Marketing              NaN   \n",
       "\n",
       "  Spending_Score  Family_Size  Var_1  \n",
       "0            Low          1.0  Cat_6  \n",
       "1        Average          4.0  Cat_6  \n",
       "2            Low          1.0  Cat_6  \n",
       "3           High          2.0  Cat_6  \n",
       "4            Low          4.0  Cat_6  "
      ]
     },
     "execution_count": 19,
     "metadata": {},
     "output_type": "execute_result"
    }
   ],
   "source": [
    "test = pd.read_csv('test.csv')\n",
    "test.head()"
   ]
  },
  {
   "cell_type": "code",
   "execution_count": 20,
   "metadata": {
    "colab": {
     "base_uri": "https://localhost:8080/",
     "height": 0
    },
    "id": "gT-6ds1nNx8F",
    "outputId": "066323fd-2643-45c1-fca7-05d4d36d7926"
   },
   "outputs": [
    {
     "data": {
      "text/plain": [
       "ID                   0\n",
       "Gender               0\n",
       "Ever_Married        50\n",
       "Age                  0\n",
       "Graduated           24\n",
       "Profession          38\n",
       "Work_Experience    269\n",
       "Spending_Score       0\n",
       "Family_Size        113\n",
       "Var_1               32\n",
       "dtype: int64"
      ]
     },
     "execution_count": 20,
     "metadata": {},
     "output_type": "execute_result"
    }
   ],
   "source": [
    "test.isna().sum()"
   ]
  },
  {
   "cell_type": "code",
   "execution_count": 21,
   "metadata": {
    "colab": {
     "base_uri": "https://localhost:8080/",
     "height": 0
    },
    "id": "pZbmOhKKMxE2",
    "outputId": "00f8f590-d263-4067-bc08-3e0675510258"
   },
   "outputs": [
    {
     "name": "stderr",
     "output_type": "stream",
     "text": [
      "<ipython-input-21-dccbfeca7087>:8: SettingWithCopyWarning: \n",
      "A value is trying to be set on a copy of a slice from a DataFrame.\n",
      "Try using .loc[row_indexer,col_indexer] = value instead\n",
      "\n",
      "See the caveats in the documentation: https://pandas.pydata.org/pandas-docs/stable/user_guide/indexing.html#returning-a-view-versus-a-copy\n",
      "  test['Var_1'] = test['Var_1'].map({'Cat_6': 'Cat_6', 'Cat_4': 'Cat_4', 'Cat_3': 'Other', 'Cat_2': 'Other', 'Cat_7': 'Other', 'Cat_1': 'Other', 'Cat_5': 'Other'})\n"
     ]
    },
    {
     "data": {
      "text/plain": [
       "Cat_6    0.644316\n",
       "Other    0.206936\n",
       "Cat_4    0.148748\n",
       "Name: Var_1, dtype: float64"
      ]
     },
     "execution_count": 21,
     "metadata": {},
     "output_type": "execute_result"
    }
   ],
   "source": [
    "test['Ever_Married'].fillna(test['Ever_Married'].mode()[0], inplace=True)\n",
    "test['Graduated'].fillna(test['Graduated'].mode()[0], inplace=True)\n",
    "test['Profession'].fillna(test['Profession'].mode()[0], inplace=True)\n",
    "test['Work_Experience'].fillna(test['Work_Experience'].mode()[0], inplace=True)\n",
    "test['Family_Size'].fillna(test['Family_Size'].mode()[0], inplace=True)\n",
    "\n",
    "test = test[~test.Var_1.isna()]\n",
    "test['Var_1'] = test['Var_1'].map({'Cat_6': 'Cat_6', 'Cat_4': 'Cat_4', 'Cat_3': 'Other', 'Cat_2': 'Other', 'Cat_7': 'Other', 'Cat_1': 'Other', 'Cat_5': 'Other'})\n",
    "test.Var_1.value_counts()/test.shape[0]"
   ]
  },
  {
   "cell_type": "code",
   "execution_count": 22,
   "metadata": {
    "id": "CXzBeM-HOV6Y"
   },
   "outputs": [],
   "source": [
    "X_test = pd.get_dummies(test.drop(['ID', 'Var_1'], axis=1), drop_first=True)\n",
    "y_test = test['Var_1']\n",
    "y_test = y_test.map({'Cat_6': 2, 'Other': 0, 'Cat_4': 1})"
   ]
  },
  {
   "cell_type": "code",
   "execution_count": 23,
   "metadata": {
    "colab": {
     "base_uri": "https://localhost:8080/",
     "height": 0
    },
    "id": "C-utBEtWOn6b",
    "outputId": "bbba5733-0f8b-4bbf-f174-b0baa821e581"
   },
   "outputs": [
    {
     "name": "stdout",
     "output_type": "stream",
     "text": [
      "82/82 [==============================] - 0s 3ms/step\n"
     ]
    }
   ],
   "source": [
    "y_pred = nn.predict(X_test)"
   ]
  },
  {
   "cell_type": "code",
   "execution_count": 24,
   "metadata": {
    "colab": {
     "base_uri": "https://localhost:8080/",
     "height": 0
    },
    "id": "qbnV6GAMOtKD",
    "outputId": "b5b2b81e-d8bb-4336-b28c-b125cbb28713"
   },
   "outputs": [
    {
     "name": "stdout",
     "output_type": "stream",
     "text": [
      "Accuracy:  0.644;     Classification Error:  0.356\n",
      "Classwise precision:  [0.         0.         0.64431599]\n",
      "Weighted precision:  0.415\n",
      "Macro precision:  0.215\n",
      "Micro precision:  0.644\n",
      "Classwise recall:  [0. 0. 1.]\n",
      "Macro recall:  0.333\n",
      "Micro recall:  0.644\n",
      "Macro f1 score:  0.261\n",
      "Micro f1 score:  0.644\n",
      "Weighted f1 score:  0.505\n"
     ]
    }
   ],
   "source": [
    "from sklearn.metrics import accuracy_score, precision_score, recall_score, roc_auc_score, f1_score\n",
    "from sklearn.metrics import confusion_matrix, classification_report\n",
    "\n",
    "print(\"Accuracy: \", round(accuracy_score(y_test, y_pred), 3), end=';     ')\n",
    "print(\"Classification Error: \", round(1-accuracy_score(y_test, y_pred), 3))\n",
    "# the scores for each class\n",
    "print(\"Classwise precision: \", precision_score(y_test, y_pred, average=None, zero_division=0)) \n",
    "# calculated for each label and a support-weighted mean is taken\n",
    "print(\"Weighted precision: \", round(precision_score(y_test, y_pred, average='weighted', zero_division=0), 3))\n",
    "# calculated for each label and an unweighted mean is taken\n",
    "print(\"Macro precision: \", round(precision_score(y_test, y_pred, average='macro', zero_division=0), 3))\n",
    "# calculated globally by counting the total TPs, FNs and FPs\n",
    "print(\"Micro precision: \", round(precision_score(y_test, y_pred, average='micro', zero_division=0), 3))\n",
    "# the scores for each class\n",
    "print(\"Classwise recall: \", recall_score(y_test, y_pred, average=None)) \n",
    "# calculated for each label and an unweighted mean is taken\n",
    "print(\"Macro recall: \", round(recall_score(y_test, y_pred, average='macro'), 3))\n",
    "# calculated globally by counting the total TPs, FNs and FPs\n",
    "print(\"Micro recall: \", round(recall_score(y_test, y_pred, average='micro'), 3))\n",
    "\n",
    "# calculated for each label and an unweighted mean is taken\n",
    "print(\"Macro f1 score: \", round(f1_score(y_test, y_pred, average='macro'), 3))\n",
    "# calculated globally by counting the total TPs, FNs and FPs\n",
    "print(\"Micro f1 score: \", round(f1_score(y_test, y_pred, average='micro'), 3))\n",
    "# calculated for each label and a support-weighted mean is taken\n",
    "print(\"Weighted f1 score: \", round(f1_score(y_test, y_pred, average='weighted'), 3))\n"
   ]
  },
  {
   "attachments": {},
   "cell_type": "markdown",
   "metadata": {
    "id": "E4rfcjhXYWYe"
   },
   "source": [
    "#### **Significance of the above metrics**\n",
    "\n",
    "\n",
    "* Accuracy: This metric gives the total % of correct predictions made by the model.\n",
    "* Classification Error: This is the complement of accuracy (1- accuracy); gives the total % of incorrect predictions made.\n",
    "* Precision: This signifies of the total positive predictions made by the model, how many were actually positive. In case of multiclass, we have classwise precision values as well as aggregates. Aggregates are described below using 'micro', 'macro' & 'weighted'.\n",
    "* Recall: This signifies of the total positive samples, how many were actually predicted as positive. In case of multiclass, we have classwise precision values as well as aggregates. Aggregates are described below using 'micro', 'macro' & 'weighted'.\n",
    "* F1 score: This signifies a traded off value between precision and recall. In case of multiclass, we have aggregates. Aggregates are described below using 'micro', 'macro' & 'weighted'.\n",
    "\n",
    "- Macro: Macro precision, recall & f1 scores are those that are calculated for each label and an unweighted mean is taken\n",
    "- Micro: Macro precision, recall & f1 scores are those that are calculated globally by counting the total TPs, FNs and FPs\n",
    "- Weighted: Macro precision, recall & f1 scores are those that arecalculated for each label and a support-weighted mean is taken\n",
    "\n",
    "In the above case, the unweighted based metrics, macro~, are extremely poor when compared to the other probably because of the class imbalance in the data.\n",
    "\n"
   ]
  },
  {
   "attachments": {},
   "cell_type": "markdown",
   "metadata": {
    "id": "hPz2Ldzwazk9"
   },
   "source": [
    "#### Loss & f1-score for training & validation sets"
   ]
  },
  {
   "cell_type": "code",
   "execution_count": 25,
   "metadata": {
    "id": "S7wO_qHxcDsg"
   },
   "outputs": [],
   "source": [
    "import matplotlib.pyplot as plt"
   ]
  },
  {
   "cell_type": "code",
   "execution_count": 26,
   "metadata": {
    "colab": {
     "base_uri": "https://localhost:8080/",
     "height": 295
    },
    "id": "etaNhr4vWSQa",
    "outputId": "ad7d2423-0e58-45df-9d49-4b34aec3f689"
   },
   "outputs": [
    {
     "data": {
      "image/png": "[encoded data removed]",
      "text/plain": [
       "<Figure size 432x288 with 1 Axes>"
      ]
     },
     "metadata": {
      "needs_background": "light"
     },
     "output_type": "display_data"
    }
   ],
   "source": [
    "history_dict = history.history\n",
    "\n",
    "loss_values = history_dict['loss']\n",
    "val_loss_values = history_dict['val_loss']\n",
    "\n",
    "epochs = range(1, len(loss_values) + 1)\n",
    "\n",
    "plt.plot(epochs, loss_values, 'bo', label='Training loss')\n",
    "plt.plot(epochs, val_loss_values, 'b', label='Validation loss')\n",
    "plt.title('Training and validation loss')\n",
    "plt.xlabel('Epochs')\n",
    "plt.ylabel('Loss')\n",
    "plt.legend()\n",
    "\n",
    "plt.show()"
   ]
  },
  {
   "cell_type": "code",
   "execution_count": 27,
   "metadata": {
    "colab": {
     "base_uri": "https://localhost:8080/",
     "height": 295
    },
    "id": "hHQFcQODbgvF",
    "outputId": "04f64dd2-7d60-4007-ee6f-0bb1bde56e83"
   },
   "outputs": [
    {
     "data": {
      "image/png": "[encoded data removed]",
      "text/plain": [
       "<Figure size 432x288 with 1 Axes>"
      ]
     },
     "metadata": {
      "needs_background": "light"
     },
     "output_type": "display_data"
    }
   ],
   "source": [
    "history_dict = history.history\n",
    "\n",
    "loss_values = history_dict['f1_metric']\n",
    "val_loss_values = history_dict['val_f1_metric']\n",
    "\n",
    "epochs = range(1, len(loss_values) + 1)\n",
    "\n",
    "plt.plot(epochs, loss_values, 'r', label='Training f1 score')\n",
    "plt.plot(epochs, val_loss_values, 'b', label='Validation f1 score')\n",
    "plt.title('Training and validation f1 score')\n",
    "plt.xlabel('Epochs')\n",
    "plt.ylabel('f1 score')\n",
    "plt.legend()\n",
    "\n",
    "plt.show()"
   ]
  },
  {
   "attachments": {},
   "cell_type": "markdown",
   "metadata": {
    "id": "aTN93UfJa7HG"
   },
   "source": [
    "#### ROC-AUC curve"
   ]
  },
  {
   "cell_type": "code",
   "execution_count": 28,
   "metadata": {
    "colab": {
     "base_uri": "https://localhost:8080/",
     "height": 312
    },
    "id": "CjGvoCij13V6",
    "outputId": "72f07861-ae69-4759-a40d-e48d459b1718"
   },
   "outputs": [
    {
     "data": {
      "image/png": "[encoded data removed]",
      "text/plain": [
       "<Figure size 432x288 with 1 Axes>"
      ]
     },
     "metadata": {
      "needs_background": "light"
     },
     "output_type": "display_data"
    },
    {
     "data": {
      "text/plain": [
       "<Figure size 1080x720 with 0 Axes>"
      ]
     },
     "metadata": {},
     "output_type": "display_data"
    }
   ],
   "source": [
    "# Code taken from: https://stackoverflow.com/questions/25009284/how-to-plot-roc-curve-in-python\n",
    "# This code binarises the 3 class (Eg. Class 0 --> [0, 0, 0]; Class 1 --> [0, 1, 0], ...) and then graphs the roc.\n",
    "\n",
    "from sklearn.preprocessing import label_binarize\n",
    "from sklearn.metrics import roc_curve\n",
    "\n",
    "# Binarize data for getting AUC \n",
    "y_test_bin = label_binarize(y_test, classes=range(3)) \n",
    "y_pred_bin = label_binarize(y_pred, classes=range(3))\n",
    "\n",
    "# Calculate FP , TP rate\n",
    "fpr, tpr, threshold = roc_curve(y_test_bin.ravel(), y_pred_bin.ravel())\n",
    "\n",
    "# Get AUC , \n",
    "auc = roc_auc_score(y_test_bin, y_pred_bin, average='micro', multi_class='ovr')\n",
    " \n",
    "#create ROC curve\n",
    "plt.plot(fpr,tpr , label= f\"AUC = {auc}\" , )\n",
    "plt.ylabel('True Positive Rate')\n",
    "plt.xlabel('False Positive Rate')\n",
    "plt.xlim([0.0, 1.0])\n",
    "plt.ylim([0.0, 1.0]) \n",
    "plt.title('ROC')\n",
    "plt.legend(loc=7)\n",
    "plt.figure(figsize = [15, 10])\n",
    "\n",
    "plt.show()"
   ]
  },
  {
   "cell_type": "markdown",
   "metadata": {
    "id": "P87QUWxv8Rgn"
   },
   "source": [
    "Here, our AUC ~ 0.7. Generally, AUC~0.55 implies no discriminative power while anything above 0.5 is acceptable behaviour. From the above metrics, we know that, the model predicts class 2 (Cat_6) alone, and hence this AUC. An ideal threshold for the model would be at (TPR, FPR) = ~(0.65, 0.17) (the point closest to the top left corner of your ROC space). The threshold used to generate this point seems like the ideal one. Anyhow, this is not a good model as it has low predictive accuracy over other classes."
   ]
  },
  {
   "attachments": {},
   "cell_type": "markdown",
   "metadata": {
    "id": "hwXn5XcBB1AX"
   },
   "source": [
    "#### Data sampling"
   ]
  },
  {
   "cell_type": "markdown",
   "metadata": {
    "id": "MJ1njoHnB3qk"
   },
   "source": [
    "Here, I am trying to upsample the minority classes using SMOTE (https://machinelearningmastery.com/smote-oversampling-for-imbalanced-classification/)."
   ]
  },
  {
   "cell_type": "code",
   "execution_count": 29,
   "metadata": {
    "colab": {
     "base_uri": "https://localhost:8080/",
     "height": 337
    },
    "id": "VNW7blP8hBIP",
    "outputId": "92201923-4f42-478a-812a-e6239f55ace5"
   },
   "outputs": [
    {
     "name": "stderr",
     "output_type": "stream",
     "text": [
      "<ipython-input-29-f8844da636ce>:3: MatplotlibDeprecationWarning: Adding an axes using the same arguments as a previous axes currently reuses the earlier instance.  In a future version, a new instance will always be created and returned.  Meanwhile, this warning can be suppressed, and the future behavior ensured, by passing a unique label to each axes instance.\n",
      "  plt.axes().set_xticklabels(['Other', 'Cat_4', 'Cat_6'])\n"
     ]
    },
    {
     "data": {
      "image/png": "[encoded data removed]",
      "text/plain": [
       "<Figure size 432x288 with 1 Axes>"
      ]
     },
     "metadata": {
      "needs_background": "light"
     },
     "output_type": "display_data"
    }
   ],
   "source": [
    "plt.hist(y)\n",
    "plt.xticks([0,1,2])\n",
    "plt.axes().set_xticklabels(['Other', 'Cat_4', 'Cat_6'])\n",
    "plt.title('Distribution of Var_1 before SMOTE')\n",
    "plt.show()"
   ]
  },
  {
   "cell_type": "code",
   "execution_count": 30,
   "metadata": {
    "id": "R0AzObWxCt0M"
   },
   "outputs": [],
   "source": [
    "# oversampling using SMOTE\n",
    "from imblearn.over_sampling import SMOTE\n",
    "oversample = SMOTE()\n",
    "X, y = oversample.fit_resample(X, y)"
   ]
  },
  {
   "cell_type": "code",
   "execution_count": 31,
   "metadata": {
    "colab": {
     "base_uri": "https://localhost:8080/",
     "height": 337
    },
    "id": "P_33Kd25DNs_",
    "outputId": "2ff9ad89-6c0d-47a9-a401-921d331a11d3"
   },
   "outputs": [
    {
     "name": "stderr",
     "output_type": "stream",
     "text": [
      "<ipython-input-31-cdaff140fdb1>:3: MatplotlibDeprecationWarning: Adding an axes using the same arguments as a previous axes currently reuses the earlier instance.  In a future version, a new instance will always be created and returned.  Meanwhile, this warning can be suppressed, and the future behavior ensured, by passing a unique label to each axes instance.\n",
      "  plt.axes().set_xticklabels(['Other', 'Cat_4', 'Cat_6'])\n"
     ]
    },
    {
     "data": {
      "image/png": "[encoded data removed]",
      "text/plain": [
       "<Figure size 432x288 with 1 Axes>"
      ]
     },
     "metadata": {
      "needs_background": "light"
     },
     "output_type": "display_data"
    }
   ],
   "source": [
    "plt.hist(y)\n",
    "plt.xticks([0,1,2])\n",
    "plt.axes().set_xticklabels(['Other', 'Cat_4', 'Cat_6'])\n",
    "plt.title('Distribution of Var_1 after SMOTE')\n",
    "plt.show()"
   ]
  },
  {
   "cell_type": "markdown",
   "metadata": {
    "id": "mlSkVSi0bJUn"
   },
   "source": [
    "#### Performing train-validation split, NN design & training, model tuning with early stopping on validation set"
   ]
  },
  {
   "cell_type": "code",
   "execution_count": 32,
   "metadata": {
    "colab": {
     "base_uri": "https://localhost:8080/",
     "height": 0
    },
    "id": "s8rGg8fIDuEa",
    "outputId": "9941b40e-a4d0-4ef6-f516-a432e101fca1"
   },
   "outputs": [
    {
     "name": "stdout",
     "output_type": "stream",
     "text": [
      "Epoch 1/20\n",
      " 1/63 [..............................] - ETA: 4s - loss: 5.4997 - accuracy: 0.3000 - f1_metric: 0.4615"
     ]
    },
    {
     "name": "stderr",
     "output_type": "stream",
     "text": [
      "<ipython-input-32-bdc1ec9720ab>:28: DeprecationWarning: KerasClassifier is deprecated, use Sci-Keras (https://github.com/adriangb/scikeras) instead. See https://www.adriangb.com/scikeras/stable/migration.html for help migrating.\n",
      "  nn = KerasClassifier(build_fn=nn_cl_fun, verbose=1)\n"
     ]
    },
    {
     "name": "stdout",
     "output_type": "stream",
     "text": [
      "63/63 [==============================] - 5s 81ms/step - loss: 1.3209 - accuracy: 0.3593 - f1_metric: 0.2023 - val_loss: 1.0508 - val_accuracy: 0.4407 - val_f1_metric: 0.0948\n",
      "Epoch 2/20\n",
      "63/63 [==============================] - 5s 78ms/step - loss: 1.0326 - accuracy: 0.4405 - f1_metric: 0.1308 - val_loss: 1.0147 - val_accuracy: 0.4696 - val_f1_metric: 0.2015\n",
      "Epoch 3/20\n",
      "63/63 [==============================] - 4s 71ms/step - loss: 1.0081 - accuracy: 0.4726 - f1_metric: 0.2168 - val_loss: 0.9954 - val_accuracy: 0.4909 - val_f1_metric: 0.3034\n",
      "Epoch 4/20\n",
      "63/63 [==============================] - 5s 78ms/step - loss: 0.9903 - accuracy: 0.4871 - f1_metric: 0.3171 - val_loss: 0.9865 - val_accuracy: 0.4909 - val_f1_metric: 0.3277\n",
      "Epoch 5/20\n",
      "63/63 [==============================] - 4s 69ms/step - loss: 0.9871 - accuracy: 0.4906 - f1_metric: 0.3717 - val_loss: 0.9754 - val_accuracy: 0.5046 - val_f1_metric: 0.3949\n",
      "Epoch 6/20\n",
      "63/63 [==============================] - 5s 79ms/step - loss: 0.9783 - accuracy: 0.4961 - f1_metric: 0.3962 - val_loss: 0.9787 - val_accuracy: 0.5005 - val_f1_metric: 0.4678\n",
      "Epoch 7/20\n",
      "63/63 [==============================] - 5s 78ms/step - loss: 0.9743 - accuracy: 0.5000 - f1_metric: 0.4143 - val_loss: 0.9723 - val_accuracy: 0.5056 - val_f1_metric: 0.4210\n",
      "Epoch 8/20\n",
      "63/63 [==============================] - 4s 69ms/step - loss: 0.9716 - accuracy: 0.5012 - f1_metric: 0.4222 - val_loss: 0.9727 - val_accuracy: 0.5087 - val_f1_metric: 0.4188\n",
      "Epoch 9/20\n",
      "63/63 [==============================] - 5s 81ms/step - loss: 0.9747 - accuracy: 0.5029 - f1_metric: 0.4143 - val_loss: 0.9702 - val_accuracy: 0.5008 - val_f1_metric: 0.4128\n",
      "Epoch 10/20\n",
      "63/63 [==============================] - 5s 83ms/step - loss: 0.9687 - accuracy: 0.5028 - f1_metric: 0.4226 - val_loss: 0.9781 - val_accuracy: 0.5043 - val_f1_metric: 0.4250\n",
      "Epoch 11/20\n",
      "63/63 [==============================] - 4s 70ms/step - loss: 0.9742 - accuracy: 0.5029 - f1_metric: 0.4145 - val_loss: 0.9664 - val_accuracy: 0.5056 - val_f1_metric: 0.4705\n",
      "Epoch 12/20\n",
      "63/63 [==============================] - 4s 70ms/step - loss: 0.9740 - accuracy: 0.5002 - f1_metric: 0.4275 - val_loss: 0.9669 - val_accuracy: 0.5119 - val_f1_metric: 0.4170\n",
      "Epoch 13/20\n",
      "63/63 [==============================] - 4s 70ms/step - loss: 0.9672 - accuracy: 0.5042 - f1_metric: 0.4197 - val_loss: 0.9662 - val_accuracy: 0.5081 - val_f1_metric: 0.4348\n",
      "Epoch 14/20\n",
      "63/63 [==============================] - 5s 77ms/step - loss: 0.9677 - accuracy: 0.5064 - f1_metric: 0.4236 - val_loss: 0.9829 - val_accuracy: 0.5052 - val_f1_metric: 0.3829\n",
      "Epoch 15/20\n",
      "63/63 [==============================] - 6s 91ms/step - loss: 0.9726 - accuracy: 0.4998 - f1_metric: 0.4237 - val_loss: 0.9634 - val_accuracy: 0.5116 - val_f1_metric: 0.4533\n",
      "Epoch 16/20\n",
      "63/63 [==============================] - 4s 70ms/step - loss: 0.9660 - accuracy: 0.5086 - f1_metric: 0.4200 - val_loss: 0.9728 - val_accuracy: 0.4976 - val_f1_metric: 0.4600\n",
      "Epoch 16: early stopping\n",
      "99/99 [==============================] - 0s 4ms/step\n",
      "99/99 [==============================] - 0s 4ms/step\n",
      "neurons: (12, 7) || activation: relu || learning_rate: 0.01 || batch_size: 200 || epochs: 20 || metrics: (0.4976137448297805, 0.5182700965703699)\n",
      "Epoch 1/40\n"
     ]
    },
    {
     "name": "stderr",
     "output_type": "stream",
     "text": [
      "<ipython-input-32-bdc1ec9720ab>:28: DeprecationWarning: KerasClassifier is deprecated, use Sci-Keras (https://github.com/adriangb/scikeras) instead. See https://www.adriangb.com/scikeras/stable/migration.html for help migrating.\n",
      "  nn = KerasClassifier(build_fn=nn_cl_fun, verbose=1)\n"
     ]
    },
    {
     "name": "stdout",
     "output_type": "stream",
     "text": [
      "63/63 [==============================] - 6s 90ms/step - loss: 1.1636 - accuracy: 0.3961 - f1_metric: 0.2788 - val_loss: 1.0615 - val_accuracy: 0.4123 - val_f1_metric: 0.2892\n",
      "Epoch 2/40\n",
      "63/63 [==============================] - 4s 71ms/step - loss: 1.0155 - accuracy: 0.4556 - f1_metric: 0.2924 - val_loss: 0.9948 - val_accuracy: 0.4820 - val_f1_metric: 0.3583\n",
      "Epoch 3/40\n",
      "63/63 [==============================] - 4s 71ms/step - loss: 0.9939 - accuracy: 0.4860 - f1_metric: 0.3684 - val_loss: 0.9849 - val_accuracy: 0.5014 - val_f1_metric: 0.4420\n",
      "Epoch 4/40\n",
      "63/63 [==============================] - 4s 70ms/step - loss: 0.9785 - accuracy: 0.4954 - f1_metric: 0.4019 - val_loss: 1.0189 - val_accuracy: 0.4836 - val_f1_metric: 0.3696\n",
      "Epoch 5/40\n",
      "63/63 [==============================] - 4s 71ms/step - loss: 0.9843 - accuracy: 0.5004 - f1_metric: 0.4084 - val_loss: 0.9808 - val_accuracy: 0.4804 - val_f1_metric: 0.4561\n",
      "Epoch 6/40\n",
      "63/63 [==============================] - 4s 70ms/step - loss: 0.9715 - accuracy: 0.5060 - f1_metric: 0.4266 - val_loss: 0.9668 - val_accuracy: 0.4989 - val_f1_metric: 0.4587\n",
      "Epoch 7/40\n",
      "63/63 [==============================] - 5s 79ms/step - loss: 0.9674 - accuracy: 0.5121 - f1_metric: 0.4232 - val_loss: 0.9650 - val_accuracy: 0.5113 - val_f1_metric: 0.4141\n",
      "Epoch 8/40\n",
      "63/63 [==============================] - 4s 72ms/step - loss: 0.9768 - accuracy: 0.5060 - f1_metric: 0.4239 - val_loss: 0.9798 - val_accuracy: 0.4801 - val_f1_metric: 0.4359\n",
      "Epoch 9/40\n",
      "63/63 [==============================] - 5s 79ms/step - loss: 0.9711 - accuracy: 0.5152 - f1_metric: 0.4189 - val_loss: 0.9655 - val_accuracy: 0.5148 - val_f1_metric: 0.3890\n",
      "Epoch 10/40\n",
      "63/63 [==============================] - 4s 71ms/step - loss: 0.9636 - accuracy: 0.5153 - f1_metric: 0.4246 - val_loss: 1.0087 - val_accuracy: 0.4642 - val_f1_metric: 0.4595\n",
      "Epoch 11/40\n",
      "63/63 [==============================] - 4s 71ms/step - loss: 0.9605 - accuracy: 0.5196 - f1_metric: 0.4358 - val_loss: 0.9596 - val_accuracy: 0.5183 - val_f1_metric: 0.4155\n",
      "Epoch 12/40\n",
      "63/63 [==============================] - 4s 71ms/step - loss: 0.9593 - accuracy: 0.5206 - f1_metric: 0.4357 - val_loss: 0.9579 - val_accuracy: 0.5192 - val_f1_metric: 0.4382\n",
      "Epoch 13/40\n",
      "63/63 [==============================] - 4s 70ms/step - loss: 0.9604 - accuracy: 0.5220 - f1_metric: 0.4373 - val_loss: 0.9621 - val_accuracy: 0.5145 - val_f1_metric: 0.4218\n",
      "Epoch 14/40\n",
      "63/63 [==============================] - 4s 71ms/step - loss: 0.9576 - accuracy: 0.5252 - f1_metric: 0.4378 - val_loss: 0.9641 - val_accuracy: 0.5065 - val_f1_metric: 0.4618\n",
      "Epoch 15/40\n",
      "63/63 [==============================] - 4s 71ms/step - loss: 0.9584 - accuracy: 0.5223 - f1_metric: 0.4399 - val_loss: 0.9582 - val_accuracy: 0.5234 - val_f1_metric: 0.4495\n",
      "Epoch 16/40\n",
      "63/63 [==============================] - 4s 71ms/step - loss: 0.9639 - accuracy: 0.5198 - f1_metric: 0.4391 - val_loss: 0.9551 - val_accuracy: 0.5297 - val_f1_metric: 0.4460\n",
      "Epoch 17/40\n",
      "63/63 [==============================] - 4s 70ms/step - loss: 0.9567 - accuracy: 0.5232 - f1_metric: 0.4399 - val_loss: 0.9557 - val_accuracy: 0.5224 - val_f1_metric: 0.4788\n",
      "Epoch 18/40\n",
      "63/63 [==============================] - 5s 80ms/step - loss: 0.9590 - accuracy: 0.5175 - f1_metric: 0.4365 - val_loss: 0.9660 - val_accuracy: 0.5014 - val_f1_metric: 0.4556\n",
      "Epoch 19/40\n",
      "63/63 [==============================] - 5s 80ms/step - loss: 0.9586 - accuracy: 0.5199 - f1_metric: 0.4440 - val_loss: 0.9628 - val_accuracy: 0.5186 - val_f1_metric: 0.4105\n",
      "Epoch 20/40\n",
      "63/63 [==============================] - 5s 80ms/step - loss: 0.9557 - accuracy: 0.5226 - f1_metric: 0.4378 - val_loss: 0.9621 - val_accuracy: 0.5107 - val_f1_metric: 0.4238\n",
      "Epoch 21/40\n",
      "63/63 [==============================] - 4s 71ms/step - loss: 0.9574 - accuracy: 0.5249 - f1_metric: 0.4363 - val_loss: 0.9639 - val_accuracy: 0.5157 - val_f1_metric: 0.4164\n",
      "Epoch 22/40\n",
      "63/63 [==============================] - 5s 79ms/step - loss: 0.9570 - accuracy: 0.5226 - f1_metric: 0.4316 - val_loss: 0.9542 - val_accuracy: 0.5212 - val_f1_metric: 0.4490\n",
      "Epoch 22: early stopping\n",
      "99/99 [==============================] - 0s 3ms/step\n",
      "99/99 [==============================] - 0s 3ms/step\n",
      "neurons: (12, 7) || activation: relu || learning_rate: 0.01 || batch_size: 200 || epochs: 40 || metrics: (0.5211581291759465, 0.5257775083874303)\n",
      "Epoch 1/20\n",
      " 1/32 [..............................] - ETA: 2s - loss: 2.3555 - accuracy: 0.3275 - f1_metric: 0.4877"
     ]
    },
    {
     "name": "stderr",
     "output_type": "stream",
     "text": [
      "<ipython-input-32-bdc1ec9720ab>:28: DeprecationWarning: KerasClassifier is deprecated, use Sci-Keras (https://github.com/adriangb/scikeras) instead. See https://www.adriangb.com/scikeras/stable/migration.html for help migrating.\n",
      "  nn = KerasClassifier(build_fn=nn_cl_fun, verbose=1)\n"
     ]
    },
    {
     "name": "stdout",
     "output_type": "stream",
     "text": [
      "32/32 [==============================] - 3s 81ms/step - loss: 1.2587 - accuracy: 0.3751 - f1_metric: 0.2832 - val_loss: 1.0962 - val_accuracy: 0.4057 - val_f1_metric: 0.0952\n",
      "Epoch 2/20\n",
      "32/32 [==============================] - 3s 79ms/step - loss: 1.0803 - accuracy: 0.4223 - f1_metric: 0.0683 - val_loss: 1.0654 - val_accuracy: 0.4426 - val_f1_metric: 0.0467\n",
      "Epoch 3/20\n",
      "32/32 [==============================] - 2s 71ms/step - loss: 1.0581 - accuracy: 0.4481 - f1_metric: 0.0952 - val_loss: 1.0568 - val_accuracy: 0.4353 - val_f1_metric: 0.1398\n",
      "Epoch 4/20\n",
      "32/32 [==============================] - 2s 73ms/step - loss: 1.0457 - accuracy: 0.4574 - f1_metric: 0.1749 - val_loss: 1.0397 - val_accuracy: 0.4668 - val_f1_metric: 0.2540\n",
      "Epoch 5/20\n",
      "32/32 [==============================] - 2s 72ms/step - loss: 1.0316 - accuracy: 0.4653 - f1_metric: 0.2507 - val_loss: 1.0198 - val_accuracy: 0.4795 - val_f1_metric: 0.3263\n",
      "Epoch 6/20\n",
      "32/32 [==============================] - 2s 73ms/step - loss: 1.0059 - accuracy: 0.4883 - f1_metric: 0.3371 - val_loss: 0.9916 - val_accuracy: 0.4970 - val_f1_metric: 0.3924\n",
      "Epoch 7/20\n",
      "32/32 [==============================] - 3s 79ms/step - loss: 0.9865 - accuracy: 0.5024 - f1_metric: 0.3931 - val_loss: 0.9983 - val_accuracy: 0.4782 - val_f1_metric: 0.4698\n",
      "Epoch 8/20\n",
      "32/32 [==============================] - 2s 72ms/step - loss: 0.9805 - accuracy: 0.5065 - f1_metric: 0.4330 - val_loss: 0.9685 - val_accuracy: 0.5075 - val_f1_metric: 0.4437\n",
      "Epoch 9/20\n",
      "32/32 [==============================] - 3s 80ms/step - loss: 0.9811 - accuracy: 0.5005 - f1_metric: 0.4330 - val_loss: 0.9629 - val_accuracy: 0.5161 - val_f1_metric: 0.4484\n",
      "Epoch 10/20\n",
      "32/32 [==============================] - 2s 78ms/step - loss: 0.9695 - accuracy: 0.5100 - f1_metric: 0.4394 - val_loss: 0.9725 - val_accuracy: 0.5068 - val_f1_metric: 0.4225\n",
      "Epoch 11/20\n",
      "32/32 [==============================] - 3s 80ms/step - loss: 0.9685 - accuracy: 0.5090 - f1_metric: 0.4364 - val_loss: 0.9587 - val_accuracy: 0.5154 - val_f1_metric: 0.4468\n",
      "Epoch 12/20\n",
      "32/32 [==============================] - 2s 73ms/step - loss: 0.9608 - accuracy: 0.5188 - f1_metric: 0.4427 - val_loss: 0.9590 - val_accuracy: 0.5218 - val_f1_metric: 0.4674\n",
      "Epoch 12: early stopping\n",
      "99/99 [==============================] - 0s 3ms/step\n",
      "99/99 [==============================] - 0s 3ms/step\n",
      "neurons: (12, 7) || activation: relu || learning_rate: 0.01 || batch_size: 400 || epochs: 20 || metrics: (0.5217944638880051, 0.5323450512094107)\n",
      "Epoch 1/40\n",
      " 1/32 [..............................] - ETA: 2s - loss: 3.9535 - accuracy: 0.2975 - f1_metric: 0.4586"
     ]
    },
    {
     "name": "stderr",
     "output_type": "stream",
     "text": [
      "<ipython-input-32-bdc1ec9720ab>:28: DeprecationWarning: KerasClassifier is deprecated, use Sci-Keras (https://github.com/adriangb/scikeras) instead. See https://www.adriangb.com/scikeras/stable/migration.html for help migrating.\n",
      "  nn = KerasClassifier(build_fn=nn_cl_fun, verbose=1)\n"
     ]
    },
    {
     "name": "stdout",
     "output_type": "stream",
     "text": [
      "32/32 [==============================] - 3s 81ms/step - loss: 1.3992 - accuracy: 0.3518 - f1_metric: 0.3307 - val_loss: 1.0752 - val_accuracy: 0.4066 - val_f1_metric: 0.2238\n",
      "Epoch 2/40\n",
      "32/32 [==============================] - 2s 78ms/step - loss: 1.0579 - accuracy: 0.4203 - f1_metric: 0.1535 - val_loss: 1.0380 - val_accuracy: 0.4184 - val_f1_metric: 0.1767\n",
      "Epoch 3/40\n",
      "32/32 [==============================] - 2s 77ms/step - loss: 1.0235 - accuracy: 0.4666 - f1_metric: 0.1944 - val_loss: 1.0209 - val_accuracy: 0.4645 - val_f1_metric: 0.2904\n",
      "Epoch 4/40\n",
      "32/32 [==============================] - 2s 72ms/step - loss: 1.0040 - accuracy: 0.4899 - f1_metric: 0.2679 - val_loss: 1.0070 - val_accuracy: 0.4636 - val_f1_metric: 0.2606\n",
      "Epoch 5/40\n",
      "32/32 [==============================] - 2s 72ms/step - loss: 0.9894 - accuracy: 0.4970 - f1_metric: 0.3173 - val_loss: 0.9811 - val_accuracy: 0.5062 - val_f1_metric: 0.3587\n",
      "Epoch 6/40\n",
      "32/32 [==============================] - 2s 72ms/step - loss: 0.9763 - accuracy: 0.5095 - f1_metric: 0.3670 - val_loss: 0.9786 - val_accuracy: 0.5142 - val_f1_metric: 0.4043\n",
      "Epoch 7/40\n",
      "32/32 [==============================] - 2s 71ms/step - loss: 0.9743 - accuracy: 0.5136 - f1_metric: 0.3858 - val_loss: 0.9716 - val_accuracy: 0.5221 - val_f1_metric: 0.3963\n",
      "Epoch 8/40\n",
      "32/32 [==============================] - 2s 74ms/step - loss: 0.9732 - accuracy: 0.5128 - f1_metric: 0.4107 - val_loss: 0.9781 - val_accuracy: 0.5040 - val_f1_metric: 0.4071\n",
      "Epoch 9/40\n",
      "32/32 [==============================] - 2s 71ms/step - loss: 0.9733 - accuracy: 0.5121 - f1_metric: 0.4205 - val_loss: 0.9688 - val_accuracy: 0.5161 - val_f1_metric: 0.4203\n",
      "Epoch 10/40\n",
      "32/32 [==============================] - 2s 72ms/step - loss: 0.9674 - accuracy: 0.5174 - f1_metric: 0.4366 - val_loss: 0.9763 - val_accuracy: 0.5097 - val_f1_metric: 0.4786\n",
      "Epoch 11/40\n",
      "32/32 [==============================] - 2s 71ms/step - loss: 0.9716 - accuracy: 0.5152 - f1_metric: 0.4331 - val_loss: 0.9627 - val_accuracy: 0.5129 - val_f1_metric: 0.4512\n",
      "Epoch 12/40\n",
      "32/32 [==============================] - 3s 81ms/step - loss: 0.9782 - accuracy: 0.5066 - f1_metric: 0.4388 - val_loss: 0.9691 - val_accuracy: 0.5002 - val_f1_metric: 0.4731\n",
      "Epoch 13/40\n",
      "32/32 [==============================] - 2s 71ms/step - loss: 0.9668 - accuracy: 0.5120 - f1_metric: 0.4510 - val_loss: 0.9776 - val_accuracy: 0.5103 - val_f1_metric: 0.4504\n",
      "Epoch 14/40\n",
      "32/32 [==============================] - 2s 72ms/step - loss: 0.9612 - accuracy: 0.5243 - f1_metric: 0.4472 - val_loss: 0.9729 - val_accuracy: 0.4922 - val_f1_metric: 0.4789\n",
      "Epoch 15/40\n",
      "32/32 [==============================] - 3s 81ms/step - loss: 0.9655 - accuracy: 0.5175 - f1_metric: 0.4589 - val_loss: 0.9713 - val_accuracy: 0.5081 - val_f1_metric: 0.4353\n",
      "Epoch 16/40\n",
      "32/32 [==============================] - 3s 79ms/step - loss: 0.9611 - accuracy: 0.5191 - f1_metric: 0.4519 - val_loss: 0.9640 - val_accuracy: 0.5231 - val_f1_metric: 0.4506\n",
      "Epoch 17/40\n",
      "32/32 [==============================] - 2s 73ms/step - loss: 0.9594 - accuracy: 0.5222 - f1_metric: 0.4436 - val_loss: 0.9732 - val_accuracy: 0.5107 - val_f1_metric: 0.4358\n",
      "Epoch 18/40\n",
      "32/32 [==============================] - 2s 72ms/step - loss: 0.9676 - accuracy: 0.5150 - f1_metric: 0.4546 - val_loss: 0.9599 - val_accuracy: 0.5161 - val_f1_metric: 0.4614\n",
      "Epoch 19/40\n",
      "32/32 [==============================] - 3s 80ms/step - loss: 0.9634 - accuracy: 0.5173 - f1_metric: 0.4475 - val_loss: 0.9707 - val_accuracy: 0.5103 - val_f1_metric: 0.4416\n",
      "Epoch 19: early stopping\n",
      "99/99 [==============================] - 0s 3ms/step\n",
      "99/99 [==============================] - 0s 3ms/step\n",
      "neurons: (12, 7) || activation: relu || learning_rate: 0.01 || batch_size: 400 || epochs: 40 || metrics: (0.5103404390709513, 0.5079979828547825)\n",
      "Epoch 1/20\n",
      " 1/63 [..............................] - ETA: 4s - loss: 8.3049 - accuracy: 0.3450 - f1_metric: 0.5130"
     ]
    },
    {
     "name": "stderr",
     "output_type": "stream",
     "text": [
      "<ipython-input-32-bdc1ec9720ab>:28: DeprecationWarning: KerasClassifier is deprecated, use Sci-Keras (https://github.com/adriangb/scikeras) instead. See https://www.adriangb.com/scikeras/stable/migration.html for help migrating.\n",
      "  nn = KerasClassifier(build_fn=nn_cl_fun, verbose=1)\n"
     ]
    },
    {
     "name": "stdout",
     "output_type": "stream",
     "text": [
      "63/63 [==============================] - 5s 72ms/step - loss: 8.5365 - accuracy: 0.3333 - f1_metric: 0.1106 - val_loss: 1.1015 - val_accuracy: 0.3392 - val_f1_metric: 0.0000e+00\n",
      "Epoch 2/20\n",
      "63/63 [==============================] - 4s 71ms/step - loss: 1.1042 - accuracy: 0.3370 - f1_metric: 0.0000e+00 - val_loss: 1.1090 - val_accuracy: 0.3392 - val_f1_metric: 0.0000e+00\n",
      "Epoch 3/20\n",
      "63/63 [==============================] - 4s 72ms/step - loss: 1.1092 - accuracy: 0.3334 - f1_metric: 0.0000e+00 - val_loss: 1.1075 - val_accuracy: 0.3392 - val_f1_metric: 0.0000e+00\n",
      "Epoch 4/20\n",
      "63/63 [==============================] - 5s 80ms/step - loss: 1.1058 - accuracy: 0.3335 - f1_metric: 0.0000e+00 - val_loss: 1.1368 - val_accuracy: 0.3392 - val_f1_metric: 0.0000e+00\n",
      "Epoch 5/20\n",
      "63/63 [==============================] - 4s 71ms/step - loss: 1.1115 - accuracy: 0.3331 - f1_metric: 0.0000e+00 - val_loss: 1.1021 - val_accuracy: 0.3344 - val_f1_metric: 0.0000e+00\n",
      "Epoch 6/20\n",
      "63/63 [==============================] - 5s 80ms/step - loss: 1.1093 - accuracy: 0.3341 - f1_metric: 0.0000e+00 - val_loss: 1.1217 - val_accuracy: 0.3392 - val_f1_metric: 0.0000e+00\n",
      "Epoch 6: early stopping\n",
      "99/99 [==============================] - 0s 3ms/step\n",
      "99/99 [==============================] - 0s 3ms/step\n",
      "neurons: (12, 7) || activation: relu || learning_rate: 1 || batch_size: 200 || epochs: 20 || metrics: (0.3391664015272033, 0.5065336184366832)\n",
      "Epoch 1/40\n",
      " 1/63 [..............................] - ETA: 4s - loss: 10.6871 - accuracy: 0.3800 - f1_metric: 0.5507"
     ]
    },
    {
     "name": "stderr",
     "output_type": "stream",
     "text": [
      "<ipython-input-32-bdc1ec9720ab>:28: DeprecationWarning: KerasClassifier is deprecated, use Sci-Keras (https://github.com/adriangb/scikeras) instead. See https://www.adriangb.com/scikeras/stable/migration.html for help migrating.\n",
      "  nn = KerasClassifier(build_fn=nn_cl_fun, verbose=1)\n"
     ]
    },
    {
     "name": "stdout",
     "output_type": "stream",
     "text": [
      "63/63 [==============================] - 5s 81ms/step - loss: 10.1939 - accuracy: 0.3337 - f1_metric: 0.1459 - val_loss: 1.1111 - val_accuracy: 0.3392 - val_f1_metric: 0.0000e+00\n",
      "Epoch 2/40\n",
      "63/63 [==============================] - 5s 79ms/step - loss: 1.1134 - accuracy: 0.3246 - f1_metric: 0.0000e+00 - val_loss: 1.1087 - val_accuracy: 0.3392 - val_f1_metric: 0.0000e+00\n",
      "Epoch 3/40\n",
      "63/63 [==============================] - 5s 72ms/step - loss: 1.1051 - accuracy: 0.3278 - f1_metric: 0.0000e+00 - val_loss: 1.0986 - val_accuracy: 0.3344 - val_f1_metric: 0.0000e+00\n",
      "Epoch 4/40\n",
      "63/63 [==============================] - 5s 72ms/step - loss: 1.1053 - accuracy: 0.3371 - f1_metric: 0.0000e+00 - val_loss: 1.1074 - val_accuracy: 0.3392 - val_f1_metric: 0.0000e+00\n",
      "Epoch 5/40\n",
      "63/63 [==============================] - 5s 81ms/step - loss: 1.1037 - accuracy: 0.3335 - f1_metric: 0.0000e+00 - val_loss: 1.1118 - val_accuracy: 0.3392 - val_f1_metric: 0.0000e+00\n",
      "Epoch 6/40\n",
      "63/63 [==============================] - 5s 80ms/step - loss: 1.1120 - accuracy: 0.3334 - f1_metric: 0.0000e+00 - val_loss: 1.1108 - val_accuracy: 0.3264 - val_f1_metric: 0.0000e+00\n",
      "Epoch 6: early stopping\n",
      "99/99 [==============================] - 0s 3ms/step\n",
      "99/99 [==============================] - 0s 3ms/step\n",
      "neurons: (12, 7) || activation: relu || learning_rate: 1 || batch_size: 200 || epochs: 40 || metrics: (0.32643970728603244, 0.492204365555289)\n",
      "Epoch 1/20\n",
      " 1/32 [..............................] - ETA: 2s - loss: 5.0123 - accuracy: 0.3150 - f1_metric: 0.4762"
     ]
    },
    {
     "name": "stderr",
     "output_type": "stream",
     "text": [
      "<ipython-input-32-bdc1ec9720ab>:28: DeprecationWarning: KerasClassifier is deprecated, use Sci-Keras (https://github.com/adriangb/scikeras) instead. See https://www.adriangb.com/scikeras/stable/migration.html for help migrating.\n",
      "  nn = KerasClassifier(build_fn=nn_cl_fun, verbose=1)\n"
     ]
    },
    {
     "name": "stdout",
     "output_type": "stream",
     "text": [
      "32/32 [==============================] - 2s 75ms/step - loss: 5.7076 - accuracy: 0.3290 - f1_metric: 0.2146 - val_loss: 1.1073 - val_accuracy: 0.3264 - val_f1_metric: 0.0000e+00\n",
      "Epoch 2/20\n",
      "32/32 [==============================] - 3s 80ms/step - loss: 1.1110 - accuracy: 0.3290 - f1_metric: 0.0000e+00 - val_loss: 1.1007 - val_accuracy: 0.3344 - val_f1_metric: 0.0000e+00\n",
      "Epoch 3/20\n",
      "32/32 [==============================] - 2s 72ms/step - loss: 1.1021 - accuracy: 0.3270 - f1_metric: 0.0000e+00 - val_loss: 1.0991 - val_accuracy: 0.3264 - val_f1_metric: 0.0000e+00\n",
      "Epoch 4/20\n",
      "32/32 [==============================] - 3s 79ms/step - loss: 1.1035 - accuracy: 0.3304 - f1_metric: 0.0000e+00 - val_loss: 1.0995 - val_accuracy: 0.3392 - val_f1_metric: 0.0000e+00\n",
      "Epoch 5/20\n",
      "32/32 [==============================] - 2s 72ms/step - loss: 1.1014 - accuracy: 0.3272 - f1_metric: 0.0000e+00 - val_loss: 1.1048 - val_accuracy: 0.3264 - val_f1_metric: 0.0000e+00\n",
      "Epoch 6/20\n",
      "32/32 [==============================] - 3s 81ms/step - loss: 1.1041 - accuracy: 0.3352 - f1_metric: 0.0000e+00 - val_loss: 1.0993 - val_accuracy: 0.3264 - val_f1_metric: 0.0000e+00\n",
      "Epoch 6: early stopping\n",
      "99/99 [==============================] - 0s 3ms/step\n",
      "99/99 [==============================] - 0s 3ms/step\n",
      "neurons: (12, 7) || activation: relu || learning_rate: 1 || batch_size: 400 || epochs: 20 || metrics: (0.32643970728603244, 0.492204365555289)\n",
      "Epoch 1/40\n",
      " 1/32 [..............................] - ETA: 2s - loss: 2.8876 - accuracy: 0.3400 - f1_metric: 0.5075"
     ]
    },
    {
     "name": "stderr",
     "output_type": "stream",
     "text": [
      "<ipython-input-32-bdc1ec9720ab>:28: DeprecationWarning: KerasClassifier is deprecated, use Sci-Keras (https://github.com/adriangb/scikeras) instead. See https://www.adriangb.com/scikeras/stable/migration.html for help migrating.\n",
      "  nn = KerasClassifier(build_fn=nn_cl_fun, verbose=1)\n"
     ]
    },
    {
     "name": "stdout",
     "output_type": "stream",
     "text": [
      "32/32 [==============================] - 3s 82ms/step - loss: 19.2390 - accuracy: 0.3331 - f1_metric: 0.1737 - val_loss: 1.1050 - val_accuracy: 0.3392 - val_f1_metric: 0.0000e+00\n",
      "Epoch 2/40\n",
      "32/32 [==============================] - 3s 80ms/step - loss: 1.1023 - accuracy: 0.3324 - f1_metric: 0.0000e+00 - val_loss: 1.1034 - val_accuracy: 0.3344 - val_f1_metric: 0.0000e+00\n",
      "Epoch 3/40\n",
      "32/32 [==============================] - 2s 73ms/step - loss: 1.1058 - accuracy: 0.3313 - f1_metric: 0.0000e+00 - val_loss: 1.1003 - val_accuracy: 0.3264 - val_f1_metric: 0.0000e+00\n",
      "Epoch 4/40\n",
      "32/32 [==============================] - 2s 72ms/step - loss: 1.1067 - accuracy: 0.3291 - f1_metric: 0.0000e+00 - val_loss: 1.1022 - val_accuracy: 0.3392 - val_f1_metric: 0.0000e+00\n",
      "Epoch 5/40\n",
      "32/32 [==============================] - 3s 80ms/step - loss: 1.1073 - accuracy: 0.3303 - f1_metric: 0.0000e+00 - val_loss: 1.1019 - val_accuracy: 0.3392 - val_f1_metric: 0.0000e+00\n",
      "Epoch 6/40\n",
      "32/32 [==============================] - 3s 81ms/step - loss: 1.1021 - accuracy: 0.3308 - f1_metric: 0.0000e+00 - val_loss: 1.1018 - val_accuracy: 0.3344 - val_f1_metric: 0.0000e+00\n",
      "Epoch 6: early stopping\n",
      "99/99 [==============================] - 0s 3ms/step\n",
      "99/99 [==============================] - 0s 3ms/step\n",
      "neurons: (12, 7) || activation: relu || learning_rate: 1 || batch_size: 400 || epochs: 40 || metrics: (0.3343938911867642, 0.5011921793037672)\n",
      "Epoch 1/20\n",
      " 1/63 [..............................] - ETA: 4s - loss: 1.1889 - accuracy: 0.3050 - f1_metric: 0.0000e+00"
     ]
    },
    {
     "name": "stderr",
     "output_type": "stream",
     "text": [
      "<ipython-input-32-bdc1ec9720ab>:28: DeprecationWarning: KerasClassifier is deprecated, use Sci-Keras (https://github.com/adriangb/scikeras) instead. See https://www.adriangb.com/scikeras/stable/migration.html for help migrating.\n",
      "  nn = KerasClassifier(build_fn=nn_cl_fun, verbose=1)\n"
     ]
    },
    {
     "name": "stdout",
     "output_type": "stream",
     "text": [
      "63/63 [==============================] - 5s 80ms/step - loss: 1.0873 - accuracy: 0.3819 - f1_metric: 0.0011 - val_loss: 1.0521 - val_accuracy: 0.4445 - val_f1_metric: 0.0222\n",
      "Epoch 2/20\n",
      "63/63 [==============================] - 5s 80ms/step - loss: 1.0266 - accuracy: 0.4617 - f1_metric: 0.2323 - val_loss: 1.0008 - val_accuracy: 0.4913 - val_f1_metric: 0.3751\n",
      "Epoch 3/20\n",
      "63/63 [==============================] - 5s 73ms/step - loss: 0.9914 - accuracy: 0.4895 - f1_metric: 0.3994 - val_loss: 0.9828 - val_accuracy: 0.4983 - val_f1_metric: 0.4418\n",
      "Epoch 4/20\n",
      "63/63 [==============================] - 5s 84ms/step - loss: 0.9781 - accuracy: 0.5016 - f1_metric: 0.4345 - val_loss: 0.9776 - val_accuracy: 0.5040 - val_f1_metric: 0.4258\n",
      "Epoch 5/20\n",
      "63/63 [==============================] - 5s 78ms/step - loss: 0.9762 - accuracy: 0.5035 - f1_metric: 0.4308 - val_loss: 0.9747 - val_accuracy: 0.4913 - val_f1_metric: 0.4708\n",
      "Epoch 6/20\n",
      "63/63 [==============================] - 4s 71ms/step - loss: 0.9687 - accuracy: 0.5052 - f1_metric: 0.4365 - val_loss: 0.9656 - val_accuracy: 0.5173 - val_f1_metric: 0.4225\n",
      "Epoch 7/20\n",
      "63/63 [==============================] - 4s 71ms/step - loss: 0.9673 - accuracy: 0.5078 - f1_metric: 0.4444 - val_loss: 0.9770 - val_accuracy: 0.5186 - val_f1_metric: 0.4022\n",
      "Epoch 8/20\n",
      "63/63 [==============================] - 4s 71ms/step - loss: 0.9641 - accuracy: 0.5150 - f1_metric: 0.4383 - val_loss: 0.9574 - val_accuracy: 0.5231 - val_f1_metric: 0.4543\n",
      "Epoch 9/20\n",
      "63/63 [==============================] - 5s 72ms/step - loss: 0.9580 - accuracy: 0.5227 - f1_metric: 0.4439 - val_loss: 0.9566 - val_accuracy: 0.5253 - val_f1_metric: 0.4370\n",
      "Epoch 10/20\n",
      "63/63 [==============================] - 5s 79ms/step - loss: 0.9560 - accuracy: 0.5206 - f1_metric: 0.4448 - val_loss: 0.9615 - val_accuracy: 0.5240 - val_f1_metric: 0.4598\n",
      "Epoch 10: early stopping\n",
      "99/99 [==============================] - 0s 3ms/step\n",
      "99/99 [==============================] - 0s 3ms/step\n",
      "neurons: (12, 7) || activation: sigmoid || learning_rate: 0.01 || batch_size: 200 || epochs: 20 || metrics: (0.52402163538021, 0.5190223410026363)\n",
      "Epoch 1/40\n",
      " 1/63 [..............................] - ETA: 4s - loss: 1.1327 - accuracy: 0.3100 - f1_metric: 0.0000e+00"
     ]
    },
    {
     "name": "stderr",
     "output_type": "stream",
     "text": [
      "<ipython-input-32-bdc1ec9720ab>:28: DeprecationWarning: KerasClassifier is deprecated, use Sci-Keras (https://github.com/adriangb/scikeras) instead. See https://www.adriangb.com/scikeras/stable/migration.html for help migrating.\n",
      "  nn = KerasClassifier(build_fn=nn_cl_fun, verbose=1)\n"
     ]
    },
    {
     "name": "stdout",
     "output_type": "stream",
     "text": [
      "63/63 [==============================] - 5s 72ms/step - loss: 1.0837 - accuracy: 0.3854 - f1_metric: 0.0034 - val_loss: 1.0523 - val_accuracy: 0.4499 - val_f1_metric: 0.0691\n",
      "Epoch 2/40\n",
      "63/63 [==============================] - 4s 70ms/step - loss: 1.0220 - accuracy: 0.4665 - f1_metric: 0.2091 - val_loss: 0.9914 - val_accuracy: 0.4884 - val_f1_metric: 0.3849\n",
      "Epoch 3/40\n",
      "63/63 [==============================] - 4s 70ms/step - loss: 0.9824 - accuracy: 0.4973 - f1_metric: 0.4075 - val_loss: 0.9808 - val_accuracy: 0.5040 - val_f1_metric: 0.3970\n",
      "Epoch 4/40\n",
      "63/63 [==============================] - 4s 71ms/step - loss: 0.9707 - accuracy: 0.5097 - f1_metric: 0.4339 - val_loss: 0.9813 - val_accuracy: 0.5046 - val_f1_metric: 0.3717\n",
      "Epoch 5/40\n",
      "63/63 [==============================] - 4s 70ms/step - loss: 0.9632 - accuracy: 0.5176 - f1_metric: 0.4438 - val_loss: 0.9687 - val_accuracy: 0.5192 - val_f1_metric: 0.4845\n",
      "Epoch 6/40\n",
      "63/63 [==============================] - 5s 80ms/step - loss: 0.9600 - accuracy: 0.5165 - f1_metric: 0.4526 - val_loss: 0.9561 - val_accuracy: 0.5224 - val_f1_metric: 0.4763\n",
      "Epoch 7/40\n",
      "63/63 [==============================] - 5s 79ms/step - loss: 0.9576 - accuracy: 0.5221 - f1_metric: 0.4563 - val_loss: 0.9674 - val_accuracy: 0.5116 - val_f1_metric: 0.4412\n",
      "Epoch 8/40\n",
      "63/63 [==============================] - 4s 70ms/step - loss: 0.9571 - accuracy: 0.5229 - f1_metric: 0.4573 - val_loss: 0.9565 - val_accuracy: 0.5237 - val_f1_metric: 0.4586\n",
      "Epoch 9/40\n",
      "63/63 [==============================] - 4s 70ms/step - loss: 0.9540 - accuracy: 0.5260 - f1_metric: 0.4636 - val_loss: 0.9551 - val_accuracy: 0.5266 - val_f1_metric: 0.4576\n",
      "Epoch 10/40\n",
      "63/63 [==============================] - 4s 70ms/step - loss: 0.9551 - accuracy: 0.5250 - f1_metric: 0.4662 - val_loss: 0.9623 - val_accuracy: 0.5180 - val_f1_metric: 0.5176\n",
      "Epoch 11/40\n",
      "63/63 [==============================] - 4s 71ms/step - loss: 0.9547 - accuracy: 0.5230 - f1_metric: 0.4683 - val_loss: 0.9513 - val_accuracy: 0.5262 - val_f1_metric: 0.4728\n",
      "Epoch 12/40\n",
      "63/63 [==============================] - 4s 70ms/step - loss: 0.9515 - accuracy: 0.5276 - f1_metric: 0.4741 - val_loss: 0.9513 - val_accuracy: 0.5253 - val_f1_metric: 0.4824\n",
      "Epoch 13/40\n",
      "63/63 [==============================] - 5s 78ms/step - loss: 0.9502 - accuracy: 0.5285 - f1_metric: 0.4755 - val_loss: 0.9569 - val_accuracy: 0.5212 - val_f1_metric: 0.4971\n",
      "Epoch 14/40\n",
      "63/63 [==============================] - 5s 79ms/step - loss: 0.9487 - accuracy: 0.5276 - f1_metric: 0.4742 - val_loss: 0.9600 - val_accuracy: 0.5186 - val_f1_metric: 0.5250\n",
      "Epoch 15/40\n",
      "63/63 [==============================] - 5s 80ms/step - loss: 0.9510 - accuracy: 0.5287 - f1_metric: 0.4706 - val_loss: 0.9630 - val_accuracy: 0.5087 - val_f1_metric: 0.4710\n",
      "Epoch 16/40\n",
      "63/63 [==============================] - 5s 79ms/step - loss: 0.9503 - accuracy: 0.5288 - f1_metric: 0.4762 - val_loss: 0.9695 - val_accuracy: 0.5084 - val_f1_metric: 0.4822\n",
      "Epoch 17/40\n",
      "63/63 [==============================] - 4s 71ms/step - loss: 0.9507 - accuracy: 0.5309 - f1_metric: 0.4709 - val_loss: 0.9509 - val_accuracy: 0.5234 - val_f1_metric: 0.4581\n",
      "Epoch 18/40\n",
      "63/63 [==============================] - 4s 71ms/step - loss: 0.9496 - accuracy: 0.5283 - f1_metric: 0.4685 - val_loss: 0.9564 - val_accuracy: 0.5189 - val_f1_metric: 0.4891\n",
      "Epoch 19/40\n",
      "63/63 [==============================] - 5s 80ms/step - loss: 0.9461 - accuracy: 0.5300 - f1_metric: 0.4685 - val_loss: 0.9485 - val_accuracy: 0.5348 - val_f1_metric: 0.4774\n",
      "Epoch 19: early stopping\n",
      "99/99 [==============================] - 0s 3ms/step\n",
      "99/99 [==============================] - 0s 3ms/step\n",
      "neurons: (12, 7) || activation: sigmoid || learning_rate: 0.01 || batch_size: 200 || epochs: 40 || metrics: (0.5348393254852052, 0.5394694304822055)\n",
      "Epoch 1/20\n",
      " 1/32 [..............................] - ETA: 2s - loss: 1.1879 - accuracy: 0.3325 - f1_metric: 0.4991"
     ]
    },
    {
     "name": "stderr",
     "output_type": "stream",
     "text": [
      "<ipython-input-32-bdc1ec9720ab>:28: DeprecationWarning: KerasClassifier is deprecated, use Sci-Keras (https://github.com/adriangb/scikeras) instead. See https://www.adriangb.com/scikeras/stable/migration.html for help migrating.\n",
      "  nn = KerasClassifier(build_fn=nn_cl_fun, verbose=1)\n"
     ]
    },
    {
     "name": "stdout",
     "output_type": "stream",
     "text": [
      "32/32 [==============================] - 3s 81ms/step - loss: 1.1026 - accuracy: 0.3528 - f1_metric: 0.0156 - val_loss: 1.0855 - val_accuracy: 0.4047 - val_f1_metric: 0.0000e+00\n",
      "Epoch 2/20\n",
      "32/32 [==============================] - 2s 71ms/step - loss: 1.0734 - accuracy: 0.4313 - f1_metric: 0.0000e+00 - val_loss: 1.0523 - val_accuracy: 0.4448 - val_f1_metric: 0.0014\n",
      "Epoch 3/20\n",
      "32/32 [==============================] - 2s 71ms/step - loss: 1.0368 - accuracy: 0.4589 - f1_metric: 0.1487 - val_loss: 1.0287 - val_accuracy: 0.4639 - val_f1_metric: 0.3398\n",
      "Epoch 4/20\n",
      "32/32 [==============================] - 2s 71ms/step - loss: 1.0030 - accuracy: 0.4866 - f1_metric: 0.3408 - val_loss: 0.9870 - val_accuracy: 0.4989 - val_f1_metric: 0.4220\n",
      "Epoch 5/20\n",
      "32/32 [==============================] - 2s 71ms/step - loss: 0.9781 - accuracy: 0.5042 - f1_metric: 0.4151 - val_loss: 0.9763 - val_accuracy: 0.5075 - val_f1_metric: 0.4095\n",
      "Epoch 6/20\n",
      "32/32 [==============================] - 3s 80ms/step - loss: 0.9699 - accuracy: 0.5140 - f1_metric: 0.4292 - val_loss: 0.9755 - val_accuracy: 0.5113 - val_f1_metric: 0.4232\n",
      "Epoch 7/20\n",
      "32/32 [==============================] - 2s 73ms/step - loss: 0.9645 - accuracy: 0.5171 - f1_metric: 0.4348 - val_loss: 0.9607 - val_accuracy: 0.5234 - val_f1_metric: 0.4411\n",
      "Epoch 8/20\n",
      "32/32 [==============================] - 2s 79ms/step - loss: 0.9604 - accuracy: 0.5213 - f1_metric: 0.4467 - val_loss: 0.9601 - val_accuracy: 0.5231 - val_f1_metric: 0.4439\n",
      "Epoch 9/20\n",
      "32/32 [==============================] - 2s 73ms/step - loss: 0.9580 - accuracy: 0.5241 - f1_metric: 0.4563 - val_loss: 0.9595 - val_accuracy: 0.5278 - val_f1_metric: 0.4559\n",
      "Epoch 10/20\n",
      "32/32 [==============================] - 2s 73ms/step - loss: 0.9590 - accuracy: 0.5198 - f1_metric: 0.4578 - val_loss: 0.9593 - val_accuracy: 0.5291 - val_f1_metric: 0.4467\n",
      "Epoch 11/20\n",
      "32/32 [==============================] - 3s 82ms/step - loss: 0.9543 - accuracy: 0.5220 - f1_metric: 0.4620 - val_loss: 0.9540 - val_accuracy: 0.5297 - val_f1_metric: 0.4784\n",
      "Epoch 12/20\n",
      "32/32 [==============================] - 3s 80ms/step - loss: 0.9555 - accuracy: 0.5194 - f1_metric: 0.4843 - val_loss: 0.9585 - val_accuracy: 0.5269 - val_f1_metric: 0.4587\n",
      "Epoch 13/20\n",
      "32/32 [==============================] - 3s 80ms/step - loss: 0.9555 - accuracy: 0.5265 - f1_metric: 0.4597 - val_loss: 0.9512 - val_accuracy: 0.5313 - val_f1_metric: 0.4659\n",
      "Epoch 14/20\n",
      "32/32 [==============================] - 2s 74ms/step - loss: 0.9522 - accuracy: 0.5273 - f1_metric: 0.4713 - val_loss: 0.9548 - val_accuracy: 0.5320 - val_f1_metric: 0.4773\n",
      "Epoch 15/20\n",
      "32/32 [==============================] - 3s 80ms/step - loss: 0.9513 - accuracy: 0.5291 - f1_metric: 0.4736 - val_loss: 0.9500 - val_accuracy: 0.5282 - val_f1_metric: 0.4662\n",
      "Epoch 16/20\n",
      "32/32 [==============================] - 2s 75ms/step - loss: 0.9484 - accuracy: 0.5287 - f1_metric: 0.4688 - val_loss: 0.9473 - val_accuracy: 0.5301 - val_f1_metric: 0.4786\n",
      "Epoch 17/20\n",
      "32/32 [==============================] - 2s 74ms/step - loss: 0.9476 - accuracy: 0.5268 - f1_metric: 0.4764 - val_loss: 0.9560 - val_accuracy: 0.5256 - val_f1_metric: 0.4583\n",
      "Epoch 18/20\n",
      "32/32 [==============================] - 2s 73ms/step - loss: 0.9486 - accuracy: 0.5270 - f1_metric: 0.4791 - val_loss: 0.9491 - val_accuracy: 0.5291 - val_f1_metric: 0.4560\n",
      "Epoch 19/20\n",
      "32/32 [==============================] - 3s 81ms/step - loss: 0.9504 - accuracy: 0.5273 - f1_metric: 0.4713 - val_loss: 0.9471 - val_accuracy: 0.5352 - val_f1_metric: 0.4704\n",
      "Epoch 20/20\n",
      "32/32 [==============================] - 3s 82ms/step - loss: 0.9444 - accuracy: 0.5302 - f1_metric: 0.4780 - val_loss: 0.9454 - val_accuracy: 0.5371 - val_f1_metric: 0.4833\n",
      "99/99 [==============================] - 0s 3ms/step\n",
      "99/99 [==============================] - 0s 3ms/step\n",
      "neurons: (12, 7) || activation: sigmoid || learning_rate: 0.01 || batch_size: 400 || epochs: 20 || metrics: (0.5370664969774102, 0.5418410716955386)\n",
      "Epoch 1/40\n",
      " 1/32 [..............................] - ETA: 2s - loss: 1.1047 - accuracy: 0.3725 - f1_metric: 0.0000e+00"
     ]
    },
    {
     "name": "stderr",
     "output_type": "stream",
     "text": [
      "<ipython-input-32-bdc1ec9720ab>:28: DeprecationWarning: KerasClassifier is deprecated, use Sci-Keras (https://github.com/adriangb/scikeras) instead. See https://www.adriangb.com/scikeras/stable/migration.html for help migrating.\n",
      "  nn = KerasClassifier(build_fn=nn_cl_fun, verbose=1)\n"
     ]
    },
    {
     "name": "stdout",
     "output_type": "stream",
     "text": [
      "32/32 [==============================] - 3s 83ms/step - loss: 1.0906 - accuracy: 0.3816 - f1_metric: 0.0000e+00 - val_loss: 1.0803 - val_accuracy: 0.4092 - val_f1_metric: 0.0000e+00\n",
      "Epoch 2/40\n",
      "32/32 [==============================] - 2s 73ms/step - loss: 1.0612 - accuracy: 0.4288 - f1_metric: 0.0105 - val_loss: 1.0377 - val_accuracy: 0.4518 - val_f1_metric: 0.1048\n",
      "Epoch 3/40\n",
      "32/32 [==============================] - 2s 73ms/step - loss: 1.0189 - accuracy: 0.4719 - f1_metric: 0.2416 - val_loss: 1.0027 - val_accuracy: 0.4890 - val_f1_metric: 0.3863\n",
      "Epoch 4/40\n",
      "32/32 [==============================] - 2s 73ms/step - loss: 0.9931 - accuracy: 0.4872 - f1_metric: 0.3986 - val_loss: 0.9831 - val_accuracy: 0.4916 - val_f1_metric: 0.4274\n",
      "Epoch 5/40\n",
      "32/32 [==============================] - 3s 92ms/step - loss: 0.9755 - accuracy: 0.5028 - f1_metric: 0.4237 - val_loss: 0.9787 - val_accuracy: 0.5065 - val_f1_metric: 0.4851\n",
      "Epoch 6/40\n",
      "32/32 [==============================] - 3s 79ms/step - loss: 0.9684 - accuracy: 0.5136 - f1_metric: 0.4353 - val_loss: 0.9653 - val_accuracy: 0.5091 - val_f1_metric: 0.4672\n",
      "Epoch 7/40\n",
      "32/32 [==============================] - 2s 72ms/step - loss: 0.9638 - accuracy: 0.5191 - f1_metric: 0.4392 - val_loss: 0.9768 - val_accuracy: 0.5122 - val_f1_metric: 0.4564\n",
      "Epoch 8/40\n",
      "32/32 [==============================] - 2s 73ms/step - loss: 0.9638 - accuracy: 0.5170 - f1_metric: 0.4389 - val_loss: 0.9614 - val_accuracy: 0.5164 - val_f1_metric: 0.4110\n",
      "Epoch 9/40\n",
      "32/32 [==============================] - 2s 72ms/step - loss: 0.9579 - accuracy: 0.5222 - f1_metric: 0.4424 - val_loss: 0.9585 - val_accuracy: 0.5161 - val_f1_metric: 0.4259\n",
      "Epoch 10/40\n",
      "32/32 [==============================] - 2s 74ms/step - loss: 0.9546 - accuracy: 0.5247 - f1_metric: 0.4459 - val_loss: 0.9660 - val_accuracy: 0.5177 - val_f1_metric: 0.4288\n",
      "Epoch 10: early stopping\n",
      "99/99 [==============================] - 0s 3ms/step\n",
      "99/99 [==============================] - 0s 3ms/step\n",
      "neurons: (12, 7) || activation: sigmoid || learning_rate: 0.01 || batch_size: 400 || epochs: 40 || metrics: (0.5176582882596246, 0.5132153986981386)\n",
      "Epoch 1/20\n",
      " 1/63 [..............................] - ETA: 5s - loss: 1.4276 - accuracy: 0.3150 - f1_metric: 0.4791"
     ]
    },
    {
     "name": "stderr",
     "output_type": "stream",
     "text": [
      "<ipython-input-32-bdc1ec9720ab>:28: DeprecationWarning: KerasClassifier is deprecated, use Sci-Keras (https://github.com/adriangb/scikeras) instead. See https://www.adriangb.com/scikeras/stable/migration.html for help migrating.\n",
      "  nn = KerasClassifier(build_fn=nn_cl_fun, verbose=1)\n"
     ]
    },
    {
     "name": "stdout",
     "output_type": "stream",
     "text": [
      "63/63 [==============================] - 5s 72ms/step - loss: 1.1396 - accuracy: 0.3297 - f1_metric: 0.0462 - val_loss: 1.1028 - val_accuracy: 0.3264 - val_f1_metric: 0.0000e+00\n",
      "Epoch 2/20\n",
      "63/63 [==============================] - 5s 72ms/step - loss: 1.1049 - accuracy: 0.3364 - f1_metric: 0.0000e+00 - val_loss: 1.1116 - val_accuracy: 0.3264 - val_f1_metric: 0.0000e+00\n",
      "Epoch 3/20\n",
      "63/63 [==============================] - 5s 72ms/step - loss: 1.1116 - accuracy: 0.3348 - f1_metric: 0.0000e+00 - val_loss: 1.1155 - val_accuracy: 0.3344 - val_f1_metric: 0.0000e+00\n",
      "Epoch 4/20\n",
      "63/63 [==============================] - 5s 72ms/step - loss: 1.1084 - accuracy: 0.3292 - f1_metric: 0.0000e+00 - val_loss: 1.1150 - val_accuracy: 0.3344 - val_f1_metric: 0.0000e+00\n",
      "Epoch 5/20\n",
      "63/63 [==============================] - 5s 72ms/step - loss: 1.1126 - accuracy: 0.3321 - f1_metric: 0.0000e+00 - val_loss: 1.1006 - val_accuracy: 0.3392 - val_f1_metric: 0.0000e+00\n",
      "Epoch 6/20\n",
      "63/63 [==============================] - 4s 72ms/step - loss: 1.1167 - accuracy: 0.3307 - f1_metric: 0.0000e+00 - val_loss: 1.1172 - val_accuracy: 0.3392 - val_f1_metric: 0.0000e+00\n",
      "Epoch 6: early stopping\n",
      "99/99 [==============================] - 0s 3ms/step\n",
      "99/99 [==============================] - 0s 3ms/step\n",
      "neurons: (12, 7) || activation: sigmoid || learning_rate: 1 || batch_size: 200 || epochs: 20 || metrics: (0.3391664015272033, 0.5065336184366832)\n",
      "Epoch 1/40\n",
      " 1/63 [..............................] - ETA: 4s - loss: 1.2895 - accuracy: 0.2750 - f1_metric: 0.4314"
     ]
    },
    {
     "name": "stderr",
     "output_type": "stream",
     "text": [
      "<ipython-input-32-bdc1ec9720ab>:28: DeprecationWarning: KerasClassifier is deprecated, use Sci-Keras (https://github.com/adriangb/scikeras) instead. See https://www.adriangb.com/scikeras/stable/migration.html for help migrating.\n",
      "  nn = KerasClassifier(build_fn=nn_cl_fun, verbose=1)\n"
     ]
    },
    {
     "name": "stdout",
     "output_type": "stream",
     "text": [
      "63/63 [==============================] - 5s 73ms/step - loss: 1.1924 - accuracy: 0.3378 - f1_metric: 0.0895 - val_loss: 1.1079 - val_accuracy: 0.3264 - val_f1_metric: 0.0000e+00\n",
      "Epoch 2/40\n",
      "63/63 [==============================] - 5s 79ms/step - loss: 1.1192 - accuracy: 0.3276 - f1_metric: 0.0153 - val_loss: 1.1266 - val_accuracy: 0.3264 - val_f1_metric: 0.0000e+00\n",
      "Epoch 3/40\n",
      "63/63 [==============================] - 5s 80ms/step - loss: 1.1065 - accuracy: 0.3374 - f1_metric: 0.0000e+00 - val_loss: 1.1001 - val_accuracy: 0.3344 - val_f1_metric: 0.0000e+00\n",
      "Epoch 4/40\n",
      "63/63 [==============================] - 5s 79ms/step - loss: 1.1090 - accuracy: 0.3331 - f1_metric: 0.0000e+00 - val_loss: 1.1075 - val_accuracy: 0.3392 - val_f1_metric: 0.0000e+00\n",
      "Epoch 5/40\n",
      "63/63 [==============================] - 4s 71ms/step - loss: 1.1109 - accuracy: 0.3353 - f1_metric: 0.0000e+00 - val_loss: 1.1121 - val_accuracy: 0.3264 - val_f1_metric: 0.0000e+00\n",
      "Epoch 6/40\n",
      "63/63 [==============================] - 5s 72ms/step - loss: 1.1148 - accuracy: 0.3319 - f1_metric: 0.0000e+00 - val_loss: 1.1086 - val_accuracy: 0.3264 - val_f1_metric: 0.0000e+00\n",
      "Epoch 6: early stopping\n",
      "99/99 [==============================] - 0s 3ms/step\n",
      "99/99 [==============================] - 0s 3ms/step\n",
      "neurons: (12, 7) || activation: sigmoid || learning_rate: 1 || batch_size: 200 || epochs: 40 || metrics: (0.32643970728603244, 0.492204365555289)\n",
      "Epoch 1/20\n",
      " 1/32 [..............................] - ETA: 2s - loss: 1.2285 - accuracy: 0.3675 - f1_metric: 0.5375"
     ]
    },
    {
     "name": "stderr",
     "output_type": "stream",
     "text": [
      "<ipython-input-32-bdc1ec9720ab>:28: DeprecationWarning: KerasClassifier is deprecated, use Sci-Keras (https://github.com/adriangb/scikeras) instead. See https://www.adriangb.com/scikeras/stable/migration.html for help migrating.\n",
      "  nn = KerasClassifier(build_fn=nn_cl_fun, verbose=1)\n"
     ]
    },
    {
     "name": "stdout",
     "output_type": "stream",
     "text": [
      "32/32 [==============================] - 2s 75ms/step - loss: 1.3173 - accuracy: 0.3265 - f1_metric: 0.2017 - val_loss: 1.1085 - val_accuracy: 0.3392 - val_f1_metric: 0.0000e+00\n",
      "Epoch 2/20\n",
      "32/32 [==============================] - 3s 80ms/step - loss: 1.1130 - accuracy: 0.3341 - f1_metric: 0.0000e+00 - val_loss: 1.0998 - val_accuracy: 0.3392 - val_f1_metric: 0.0000e+00\n",
      "Epoch 3/20\n",
      "32/32 [==============================] - 2s 74ms/step - loss: 1.1064 - accuracy: 0.3302 - f1_metric: 0.0000e+00 - val_loss: 1.0991 - val_accuracy: 0.3392 - val_f1_metric: 0.0000e+00\n",
      "Epoch 4/20\n",
      "32/32 [==============================] - 2s 74ms/step - loss: 1.1034 - accuracy: 0.3247 - f1_metric: 0.0000e+00 - val_loss: 1.1035 - val_accuracy: 0.3264 - val_f1_metric: 0.0000e+00\n",
      "Epoch 5/20\n",
      "32/32 [==============================] - 2s 73ms/step - loss: 1.1024 - accuracy: 0.3327 - f1_metric: 0.0000e+00 - val_loss: 1.1128 - val_accuracy: 0.3264 - val_f1_metric: 0.0000e+00\n",
      "Epoch 6/20\n",
      "32/32 [==============================] - 3s 81ms/step - loss: 1.1022 - accuracy: 0.3412 - f1_metric: 0.0000e+00 - val_loss: 1.1017 - val_accuracy: 0.3344 - val_f1_metric: 0.0000e+00\n",
      "Epoch 6: early stopping\n",
      "99/99 [==============================] - 0s 3ms/step\n",
      "99/99 [==============================] - 0s 3ms/step\n",
      "neurons: (12, 7) || activation: sigmoid || learning_rate: 1 || batch_size: 400 || epochs: 20 || metrics: (0.3343938911867642, 0.5011921793037672)\n",
      "Epoch 1/40\n",
      " 1/32 [..............................] - ETA: 2s - loss: 1.1403 - accuracy: 0.3550 - f1_metric: 0.0000e+00"
     ]
    },
    {
     "name": "stderr",
     "output_type": "stream",
     "text": [
      "<ipython-input-32-bdc1ec9720ab>:28: DeprecationWarning: KerasClassifier is deprecated, use Sci-Keras (https://github.com/adriangb/scikeras) instead. See https://www.adriangb.com/scikeras/stable/migration.html for help migrating.\n",
      "  nn = KerasClassifier(build_fn=nn_cl_fun, verbose=1)\n"
     ]
    },
    {
     "name": "stdout",
     "output_type": "stream",
     "text": [
      "32/32 [==============================] - 2s 73ms/step - loss: 1.3684 - accuracy: 0.3315 - f1_metric: 0.1396 - val_loss: 1.1143 - val_accuracy: 0.3344 - val_f1_metric: 0.0000e+00\n",
      "Epoch 2/40\n",
      "32/32 [==============================] - 3s 80ms/step - loss: 1.1042 - accuracy: 0.3371 - f1_metric: 0.0000e+00 - val_loss: 1.1059 - val_accuracy: 0.3264 - val_f1_metric: 0.0000e+00\n",
      "Epoch 3/40\n",
      "32/32 [==============================] - 2s 72ms/step - loss: 1.1024 - accuracy: 0.3411 - f1_metric: 0.0000e+00 - val_loss: 1.1019 - val_accuracy: 0.3344 - val_f1_metric: 0.0000e+00\n",
      "Epoch 4/40\n",
      "32/32 [==============================] - 2s 74ms/step - loss: 1.1057 - accuracy: 0.3327 - f1_metric: 0.0000e+00 - val_loss: 1.1100 - val_accuracy: 0.3344 - val_f1_metric: 0.0000e+00\n",
      "Epoch 5/40\n",
      "32/32 [==============================] - 3s 81ms/step - loss: 1.1078 - accuracy: 0.3336 - f1_metric: 0.0000e+00 - val_loss: 1.1016 - val_accuracy: 0.3392 - val_f1_metric: 0.0000e+00\n",
      "Epoch 6/40\n",
      "32/32 [==============================] - 3s 80ms/step - loss: 1.1023 - accuracy: 0.3305 - f1_metric: 0.0000e+00 - val_loss: 1.1024 - val_accuracy: 0.3392 - val_f1_metric: 0.0000e+00\n",
      "Epoch 6: early stopping\n",
      "99/99 [==============================] - 0s 3ms/step\n",
      "99/99 [==============================] - 0s 3ms/step\n",
      "neurons: (12, 7) || activation: sigmoid || learning_rate: 1 || batch_size: 400 || epochs: 40 || metrics: (0.3391664015272033, 0.5065336184366832)\n",
      "Epoch 1/20\n",
      " 1/63 [..............................] - ETA: 5s - loss: 2.6336 - accuracy: 0.3000 - f1_metric: 0.4615"
     ]
    },
    {
     "name": "stderr",
     "output_type": "stream",
     "text": [
      "<ipython-input-32-bdc1ec9720ab>:28: DeprecationWarning: KerasClassifier is deprecated, use Sci-Keras (https://github.com/adriangb/scikeras) instead. See https://www.adriangb.com/scikeras/stable/migration.html for help migrating.\n",
      "  nn = KerasClassifier(build_fn=nn_cl_fun, verbose=1)\n"
     ]
    },
    {
     "name": "stdout",
     "output_type": "stream",
     "text": [
      "63/63 [==============================] - 5s 72ms/step - loss: 1.1635 - accuracy: 0.3596 - f1_metric: 0.1191 - val_loss: 1.0697 - val_accuracy: 0.3996 - val_f1_metric: 0.0948\n",
      "Epoch 2/20\n",
      "63/63 [==============================] - 5s 80ms/step - loss: 1.0570 - accuracy: 0.4109 - f1_metric: 0.1086 - val_loss: 1.0461 - val_accuracy: 0.4117 - val_f1_metric: 0.2011\n",
      "Epoch 3/20\n",
      "63/63 [==============================] - 4s 71ms/step - loss: 1.0293 - accuracy: 0.4276 - f1_metric: 0.1625 - val_loss: 1.0060 - val_accuracy: 0.4699 - val_f1_metric: 0.1909\n",
      "Epoch 4/20\n",
      "63/63 [==============================] - 5s 72ms/step - loss: 0.9935 - accuracy: 0.4927 - f1_metric: 0.2869 - val_loss: 0.9891 - val_accuracy: 0.5005 - val_f1_metric: 0.3251\n",
      "Epoch 5/20\n",
      "63/63 [==============================] - 5s 80ms/step - loss: 0.9853 - accuracy: 0.4969 - f1_metric: 0.3991 - val_loss: 0.9779 - val_accuracy: 0.5119 - val_f1_metric: 0.4018\n",
      "Epoch 6/20\n",
      "63/63 [==============================] - 5s 80ms/step - loss: 0.9745 - accuracy: 0.5045 - f1_metric: 0.4093 - val_loss: 0.9667 - val_accuracy: 0.5084 - val_f1_metric: 0.4692\n",
      "Epoch 7/20\n",
      "63/63 [==============================] - 5s 80ms/step - loss: 0.9695 - accuracy: 0.5107 - f1_metric: 0.4352 - val_loss: 1.0091 - val_accuracy: 0.5017 - val_f1_metric: 0.5024\n",
      "Epoch 8/20\n",
      "63/63 [==============================] - 4s 70ms/step - loss: 0.9656 - accuracy: 0.5155 - f1_metric: 0.4260 - val_loss: 0.9636 - val_accuracy: 0.5196 - val_f1_metric: 0.4309\n",
      "Epoch 9/20\n",
      "63/63 [==============================] - 5s 79ms/step - loss: 0.9699 - accuracy: 0.5132 - f1_metric: 0.4258 - val_loss: 0.9641 - val_accuracy: 0.5113 - val_f1_metric: 0.4295\n",
      "Epoch 10/20\n",
      "63/63 [==============================] - 5s 80ms/step - loss: 0.9646 - accuracy: 0.5133 - f1_metric: 0.4233 - val_loss: 0.9678 - val_accuracy: 0.5142 - val_f1_metric: 0.4542\n",
      "Epoch 11/20\n",
      "63/63 [==============================] - 5s 72ms/step - loss: 0.9645 - accuracy: 0.5136 - f1_metric: 0.4274 - val_loss: 0.9578 - val_accuracy: 0.5199 - val_f1_metric: 0.4638\n",
      "Epoch 12/20\n",
      "63/63 [==============================] - 4s 71ms/step - loss: 0.9589 - accuracy: 0.5171 - f1_metric: 0.4397 - val_loss: 0.9644 - val_accuracy: 0.5186 - val_f1_metric: 0.4444\n",
      "Epoch 12: early stopping\n",
      "99/99 [==============================] - 0s 3ms/step\n",
      "99/99 [==============================] - 0s 3ms/step\n",
      "neurons: (15, 10) || activation: relu || learning_rate: 0.01 || batch_size: 200 || epochs: 20 || metrics: (0.5186127903277123, 0.5223971385974446)\n",
      "Epoch 1/40\n",
      " 1/63 [..............................] - ETA: 4s - loss: 5.8337 - accuracy: 0.3550 - f1_metric: 0.5240"
     ]
    },
    {
     "name": "stderr",
     "output_type": "stream",
     "text": [
      "<ipython-input-32-bdc1ec9720ab>:28: DeprecationWarning: KerasClassifier is deprecated, use Sci-Keras (https://github.com/adriangb/scikeras) instead. See https://www.adriangb.com/scikeras/stable/migration.html for help migrating.\n",
      "  nn = KerasClassifier(build_fn=nn_cl_fun, verbose=1)\n"
     ]
    },
    {
     "name": "stdout",
     "output_type": "stream",
     "text": [
      "63/63 [==============================] - 5s 80ms/step - loss: 1.3490 - accuracy: 0.3905 - f1_metric: 0.2285 - val_loss: 1.0267 - val_accuracy: 0.4620 - val_f1_metric: 0.0961\n",
      "Epoch 2/40\n",
      "63/63 [==============================] - 4s 70ms/step - loss: 1.0009 - accuracy: 0.4856 - f1_metric: 0.2890 - val_loss: 0.9892 - val_accuracy: 0.4941 - val_f1_metric: 0.3233\n",
      "Epoch 3/40\n",
      "63/63 [==============================] - 5s 79ms/step - loss: 0.9815 - accuracy: 0.4977 - f1_metric: 0.3848 - val_loss: 0.9839 - val_accuracy: 0.5110 - val_f1_metric: 0.4199\n",
      "Epoch 4/40\n",
      "63/63 [==============================] - 4s 71ms/step - loss: 0.9723 - accuracy: 0.5065 - f1_metric: 0.4167 - val_loss: 0.9772 - val_accuracy: 0.4849 - val_f1_metric: 0.4799\n",
      "Epoch 5/40\n",
      "63/63 [==============================] - 4s 71ms/step - loss: 0.9733 - accuracy: 0.5088 - f1_metric: 0.4265 - val_loss: 0.9668 - val_accuracy: 0.5135 - val_f1_metric: 0.4167\n",
      "Epoch 6/40\n",
      "63/63 [==============================] - 4s 71ms/step - loss: 0.9681 - accuracy: 0.5121 - f1_metric: 0.4360 - val_loss: 0.9832 - val_accuracy: 0.4922 - val_f1_metric: 0.3945\n",
      "Epoch 7/40\n",
      "63/63 [==============================] - 4s 70ms/step - loss: 0.9724 - accuracy: 0.5078 - f1_metric: 0.4309 - val_loss: 0.9632 - val_accuracy: 0.5161 - val_f1_metric: 0.4224\n",
      "Epoch 8/40\n",
      "63/63 [==============================] - 5s 79ms/step - loss: 0.9648 - accuracy: 0.5168 - f1_metric: 0.4376 - val_loss: 0.9757 - val_accuracy: 0.5148 - val_f1_metric: 0.4471\n",
      "Epoch 9/40\n",
      "63/63 [==============================] - 4s 70ms/step - loss: 0.9594 - accuracy: 0.5215 - f1_metric: 0.4470 - val_loss: 0.9593 - val_accuracy: 0.5056 - val_f1_metric: 0.4607\n",
      "Epoch 9: early stopping\n",
      "99/99 [==============================] - 0s 3ms/step\n",
      "99/99 [==============================] - 0s 3ms/step\n",
      "neurons: (15, 10) || activation: relu || learning_rate: 0.01 || batch_size: 200 || epochs: 40 || metrics: (0.5055679287305123, 0.529838038424742)\n",
      "Epoch 1/20\n",
      " 1/32 [..............................] - ETA: 2s - loss: 5.3557 - accuracy: 0.3175 - f1_metric: 0.4820"
     ]
    },
    {
     "name": "stderr",
     "output_type": "stream",
     "text": [
      "<ipython-input-32-bdc1ec9720ab>:28: DeprecationWarning: KerasClassifier is deprecated, use Sci-Keras (https://github.com/adriangb/scikeras) instead. See https://www.adriangb.com/scikeras/stable/migration.html for help migrating.\n",
      "  nn = KerasClassifier(build_fn=nn_cl_fun, verbose=1)\n"
     ]
    },
    {
     "name": "stdout",
     "output_type": "stream",
     "text": [
      "32/32 [==============================] - 3s 80ms/step - loss: 1.5445 - accuracy: 0.3880 - f1_metric: 0.4337 - val_loss: 1.1006 - val_accuracy: 0.4120 - val_f1_metric: 0.3254\n",
      "Epoch 2/20\n",
      "32/32 [==============================] - 3s 80ms/step - loss: 1.0567 - accuracy: 0.4459 - f1_metric: 0.3487 - val_loss: 1.0204 - val_accuracy: 0.4668 - val_f1_metric: 0.2890\n",
      "Epoch 3/20\n",
      "32/32 [==============================] - 2s 71ms/step - loss: 1.0202 - accuracy: 0.4732 - f1_metric: 0.3565 - val_loss: 1.0058 - val_accuracy: 0.4928 - val_f1_metric: 0.3970\n",
      "Epoch 4/20\n",
      "32/32 [==============================] - 3s 80ms/step - loss: 1.0068 - accuracy: 0.4895 - f1_metric: 0.3624 - val_loss: 1.0146 - val_accuracy: 0.4811 - val_f1_metric: 0.3305\n",
      "Epoch 5/20\n",
      "32/32 [==============================] - 3s 80ms/step - loss: 1.0038 - accuracy: 0.4883 - f1_metric: 0.3947 - val_loss: 0.9834 - val_accuracy: 0.5097 - val_f1_metric: 0.4198\n",
      "Epoch 6/20\n",
      "32/32 [==============================] - 2s 72ms/step - loss: 0.9849 - accuracy: 0.5037 - f1_metric: 0.4077 - val_loss: 0.9929 - val_accuracy: 0.5081 - val_f1_metric: 0.3817\n",
      "Epoch 7/20\n",
      "32/32 [==============================] - 3s 80ms/step - loss: 0.9790 - accuracy: 0.5108 - f1_metric: 0.4221 - val_loss: 0.9889 - val_accuracy: 0.4808 - val_f1_metric: 0.4681\n",
      "Epoch 8/20\n",
      "32/32 [==============================] - 3s 81ms/step - loss: 0.9825 - accuracy: 0.5039 - f1_metric: 0.4384 - val_loss: 0.9723 - val_accuracy: 0.5078 - val_f1_metric: 0.4475\n",
      "Epoch 9/20\n",
      "32/32 [==============================] - 2s 72ms/step - loss: 0.9785 - accuracy: 0.5093 - f1_metric: 0.4416 - val_loss: 0.9699 - val_accuracy: 0.5122 - val_f1_metric: 0.4651\n",
      "Epoch 10/20\n",
      "32/32 [==============================] - 2s 72ms/step - loss: 0.9681 - accuracy: 0.5118 - f1_metric: 0.4402 - val_loss: 0.9747 - val_accuracy: 0.5215 - val_f1_metric: 0.4316\n",
      "Epoch 11/20\n",
      "32/32 [==============================] - 3s 79ms/step - loss: 0.9723 - accuracy: 0.5126 - f1_metric: 0.4478 - val_loss: 0.9865 - val_accuracy: 0.5065 - val_f1_metric: 0.4441\n",
      "Epoch 12/20\n",
      "32/32 [==============================] - 3s 80ms/step - loss: 0.9857 - accuracy: 0.4995 - f1_metric: 0.4619 - val_loss: 0.9641 - val_accuracy: 0.5145 - val_f1_metric: 0.4952\n",
      "Epoch 13/20\n",
      "32/32 [==============================] - 2s 71ms/step - loss: 0.9701 - accuracy: 0.5149 - f1_metric: 0.4612 - val_loss: 0.9942 - val_accuracy: 0.4887 - val_f1_metric: 0.5235\n",
      "Epoch 14/20\n",
      "32/32 [==============================] - 3s 80ms/step - loss: 0.9762 - accuracy: 0.5062 - f1_metric: 0.4632 - val_loss: 0.9866 - val_accuracy: 0.5059 - val_f1_metric: 0.4267\n",
      "Epoch 15/20\n",
      "32/32 [==============================] - 3s 79ms/step - loss: 0.9640 - accuracy: 0.5194 - f1_metric: 0.4576 - val_loss: 0.9798 - val_accuracy: 0.4913 - val_f1_metric: 0.4635\n",
      "Epoch 16/20\n",
      "32/32 [==============================] - 2s 72ms/step - loss: 0.9626 - accuracy: 0.5182 - f1_metric: 0.4558 - val_loss: 0.9652 - val_accuracy: 0.5119 - val_f1_metric: 0.4982\n",
      "Epoch 17/20\n",
      "32/32 [==============================] - 3s 79ms/step - loss: 0.9629 - accuracy: 0.5189 - f1_metric: 0.4591 - val_loss: 0.9551 - val_accuracy: 0.5250 - val_f1_metric: 0.4611\n",
      "Epoch 18/20\n",
      "32/32 [==============================] - 3s 79ms/step - loss: 0.9625 - accuracy: 0.5197 - f1_metric: 0.4485 - val_loss: 0.9783 - val_accuracy: 0.4935 - val_f1_metric: 0.4634\n",
      "Epoch 18: early stopping\n",
      "99/99 [==============================] - 0s 3ms/step\n",
      "99/99 [==============================] - 0s 3ms/step\n",
      "neurons: (15, 10) || activation: relu || learning_rate: 0.01 || batch_size: 400 || epochs: 20 || metrics: (0.49347756920139996, 0.5188337494938642)\n",
      "Epoch 1/40\n",
      " 1/32 [..............................] - ETA: 2s - loss: 10.0989 - accuracy: 0.3500 - f1_metric: 0.5185"
     ]
    },
    {
     "name": "stderr",
     "output_type": "stream",
     "text": [
      "<ipython-input-32-bdc1ec9720ab>:28: DeprecationWarning: KerasClassifier is deprecated, use Sci-Keras (https://github.com/adriangb/scikeras) instead. See https://www.adriangb.com/scikeras/stable/migration.html for help migrating.\n",
      "  nn = KerasClassifier(build_fn=nn_cl_fun, verbose=1)\n"
     ]
    },
    {
     "name": "stdout",
     "output_type": "stream",
     "text": [
      "32/32 [==============================] - 2s 73ms/step - loss: 2.2105 - accuracy: 0.3441 - f1_metric: 0.4049 - val_loss: 1.1081 - val_accuracy: 0.3783 - val_f1_metric: 0.3132\n",
      "Epoch 2/40\n",
      "32/32 [==============================] - 3s 79ms/step - loss: 1.0696 - accuracy: 0.4043 - f1_metric: 0.1171 - val_loss: 1.0444 - val_accuracy: 0.4400 - val_f1_metric: 0.1197\n",
      "Epoch 3/40\n",
      "32/32 [==============================] - 3s 79ms/step - loss: 1.0293 - accuracy: 0.4577 - f1_metric: 0.1852 - val_loss: 1.0131 - val_accuracy: 0.4769 - val_f1_metric: 0.2295\n",
      "Epoch 4/40\n",
      "32/32 [==============================] - 2s 71ms/step - loss: 1.0031 - accuracy: 0.4813 - f1_metric: 0.2750 - val_loss: 0.9961 - val_accuracy: 0.4900 - val_f1_metric: 0.3324\n",
      "Epoch 5/40\n",
      "32/32 [==============================] - 3s 80ms/step - loss: 0.9901 - accuracy: 0.4881 - f1_metric: 0.3536 - val_loss: 0.9833 - val_accuracy: 0.4941 - val_f1_metric: 0.3913\n",
      "Epoch 6/40\n",
      "32/32 [==============================] - 2s 72ms/step - loss: 0.9850 - accuracy: 0.4903 - f1_metric: 0.3817 - val_loss: 0.9775 - val_accuracy: 0.4983 - val_f1_metric: 0.3836\n",
      "Epoch 7/40\n",
      "32/32 [==============================] - 3s 80ms/step - loss: 0.9769 - accuracy: 0.4964 - f1_metric: 0.3968 - val_loss: 0.9763 - val_accuracy: 0.5037 - val_f1_metric: 0.3778\n",
      "Epoch 8/40\n",
      "32/32 [==============================] - 3s 81ms/step - loss: 0.9762 - accuracy: 0.4941 - f1_metric: 0.3959 - val_loss: 0.9715 - val_accuracy: 0.4983 - val_f1_metric: 0.4246\n",
      "Epoch 9/40\n",
      "32/32 [==============================] - 2s 72ms/step - loss: 0.9750 - accuracy: 0.4960 - f1_metric: 0.4076 - val_loss: 0.9751 - val_accuracy: 0.5046 - val_f1_metric: 0.4362\n",
      "Epoch 10/40\n",
      "32/32 [==============================] - 3s 79ms/step - loss: 0.9721 - accuracy: 0.4999 - f1_metric: 0.4105 - val_loss: 0.9723 - val_accuracy: 0.5017 - val_f1_metric: 0.3886\n",
      "Epoch 11/40\n",
      "32/32 [==============================] - 2s 72ms/step - loss: 0.9746 - accuracy: 0.4975 - f1_metric: 0.4035 - val_loss: 0.9684 - val_accuracy: 0.5049 - val_f1_metric: 0.4309\n",
      "Epoch 12/40\n",
      "32/32 [==============================] - 3s 80ms/step - loss: 0.9713 - accuracy: 0.4972 - f1_metric: 0.4068 - val_loss: 0.9696 - val_accuracy: 0.4973 - val_f1_metric: 0.4516\n",
      "Epoch 13/40\n",
      "32/32 [==============================] - 2s 72ms/step - loss: 0.9712 - accuracy: 0.5006 - f1_metric: 0.4176 - val_loss: 0.9686 - val_accuracy: 0.5154 - val_f1_metric: 0.4150\n",
      "Epoch 14/40\n",
      "32/32 [==============================] - 3s 80ms/step - loss: 0.9696 - accuracy: 0.4995 - f1_metric: 0.4156 - val_loss: 0.9754 - val_accuracy: 0.4919 - val_f1_metric: 0.3989\n",
      "Epoch 15/40\n",
      "32/32 [==============================] - 3s 80ms/step - loss: 0.9676 - accuracy: 0.5030 - f1_metric: 0.4189 - val_loss: 0.9723 - val_accuracy: 0.4954 - val_f1_metric: 0.4241\n",
      "Epoch 16/40\n",
      "32/32 [==============================] - 2s 72ms/step - loss: 0.9693 - accuracy: 0.5013 - f1_metric: 0.4135 - val_loss: 0.9782 - val_accuracy: 0.5037 - val_f1_metric: 0.4578\n",
      "Epoch 17/40\n",
      "32/32 [==============================] - 2s 72ms/step - loss: 0.9785 - accuracy: 0.4946 - f1_metric: 0.4130 - val_loss: 0.9786 - val_accuracy: 0.5075 - val_f1_metric: 0.4459\n",
      "Epoch 18/40\n",
      "32/32 [==============================] - 2s 73ms/step - loss: 0.9774 - accuracy: 0.4969 - f1_metric: 0.4147 - val_loss: 0.9698 - val_accuracy: 0.5107 - val_f1_metric: 0.3843\n",
      "Epoch 19/40\n",
      "32/32 [==============================] - 2s 73ms/step - loss: 0.9708 - accuracy: 0.5009 - f1_metric: 0.4071 - val_loss: 0.9664 - val_accuracy: 0.5037 - val_f1_metric: 0.4317\n",
      "Epoch 20/40\n",
      "32/32 [==============================] - 3s 79ms/step - loss: 0.9671 - accuracy: 0.5031 - f1_metric: 0.4171 - val_loss: 0.9664 - val_accuracy: 0.5059 - val_f1_metric: 0.4170\n",
      "Epoch 21/40\n",
      "32/32 [==============================] - 3s 80ms/step - loss: 0.9666 - accuracy: 0.5028 - f1_metric: 0.4180 - val_loss: 0.9664 - val_accuracy: 0.5052 - val_f1_metric: 0.4299\n",
      "Epoch 21: early stopping\n",
      "99/99 [==============================] - 0s 3ms/step\n",
      "99/99 [==============================] - 0s 3ms/step\n",
      "neurons: (15, 10) || activation: relu || learning_rate: 0.01 || batch_size: 400 || epochs: 40 || metrics: (0.505249761374483, 0.5174449313698984)\n",
      "Epoch 1/20\n",
      " 1/63 [..............................] - ETA: 4s - loss: 1.6441 - accuracy: 0.3100 - f1_metric: 0.4556"
     ]
    },
    {
     "name": "stderr",
     "output_type": "stream",
     "text": [
      "<ipython-input-32-bdc1ec9720ab>:28: DeprecationWarning: KerasClassifier is deprecated, use Sci-Keras (https://github.com/adriangb/scikeras) instead. See https://www.adriangb.com/scikeras/stable/migration.html for help migrating.\n",
      "  nn = KerasClassifier(build_fn=nn_cl_fun, verbose=1)\n"
     ]
    },
    {
     "name": "stdout",
     "output_type": "stream",
     "text": [
      "63/63 [==============================] - 4s 71ms/step - loss: 11.9545 - accuracy: 0.3287 - f1_metric: 0.0948 - val_loss: 1.1039 - val_accuracy: 0.3264 - val_f1_metric: 0.0000e+00\n",
      "Epoch 2/20\n",
      "63/63 [==============================] - 4s 70ms/step - loss: 1.1093 - accuracy: 0.3312 - f1_metric: 0.0086 - val_loss: 1.1093 - val_accuracy: 0.3264 - val_f1_metric: 0.0000e+00\n",
      "Epoch 3/20\n",
      "63/63 [==============================] - 5s 78ms/step - loss: 1.1100 - accuracy: 0.3343 - f1_metric: 0.0000e+00 - val_loss: 1.0999 - val_accuracy: 0.3392 - val_f1_metric: 0.0000e+00\n",
      "Epoch 4/20\n",
      "63/63 [==============================] - 4s 70ms/step - loss: 1.1078 - accuracy: 0.3302 - f1_metric: 0.0000e+00 - val_loss: 1.1040 - val_accuracy: 0.3392 - val_f1_metric: 0.0000e+00\n",
      "Epoch 5/20\n",
      "63/63 [==============================] - 5s 79ms/step - loss: 1.1150 - accuracy: 0.3322 - f1_metric: 0.0000e+00 - val_loss: 1.1237 - val_accuracy: 0.3344 - val_f1_metric: 0.0000e+00\n",
      "Epoch 6/20\n",
      "63/63 [==============================] - 5s 80ms/step - loss: 1.1060 - accuracy: 0.3393 - f1_metric: 0.0000e+00 - val_loss: 1.1020 - val_accuracy: 0.3264 - val_f1_metric: 0.0000e+00\n",
      "Epoch 6: early stopping\n",
      "99/99 [==============================] - 0s 3ms/step\n",
      "99/99 [==============================] - 0s 3ms/step\n",
      "neurons: (15, 10) || activation: relu || learning_rate: 1 || batch_size: 200 || epochs: 20 || metrics: (0.32643970728603244, 0.492204365555289)\n",
      "Epoch 1/40\n",
      " 1/63 [..............................] - ETA: 4s - loss: 2.5306 - accuracy: 0.3600 - f1_metric: 0.5130"
     ]
    },
    {
     "name": "stderr",
     "output_type": "stream",
     "text": [
      "<ipython-input-32-bdc1ec9720ab>:28: DeprecationWarning: KerasClassifier is deprecated, use Sci-Keras (https://github.com/adriangb/scikeras) instead. See https://www.adriangb.com/scikeras/stable/migration.html for help migrating.\n",
      "  nn = KerasClassifier(build_fn=nn_cl_fun, verbose=1)\n"
     ]
    },
    {
     "name": "stdout",
     "output_type": "stream",
     "text": [
      "63/63 [==============================] - 5s 80ms/step - loss: 14.1294 - accuracy: 0.3343 - f1_metric: 0.0707 - val_loss: 1.1035 - val_accuracy: 0.3392 - val_f1_metric: 0.0000e+00\n",
      "Epoch 2/40\n",
      "63/63 [==============================] - 4s 71ms/step - loss: 1.1115 - accuracy: 0.3257 - f1_metric: 0.0000e+00 - val_loss: 1.1137 - val_accuracy: 0.3264 - val_f1_metric: 0.0000e+00\n",
      "Epoch 3/40\n",
      "63/63 [==============================] - 5s 79ms/step - loss: 1.1102 - accuracy: 0.3242 - f1_metric: 0.0000e+00 - val_loss: 1.1132 - val_accuracy: 0.3344 - val_f1_metric: 0.0000e+00\n",
      "Epoch 4/40\n",
      "63/63 [==============================] - 5s 79ms/step - loss: 1.1091 - accuracy: 0.3366 - f1_metric: 0.0000e+00 - val_loss: 1.1231 - val_accuracy: 0.3344 - val_f1_metric: 0.0000e+00\n",
      "Epoch 5/40\n",
      "63/63 [==============================] - 4s 71ms/step - loss: 1.1139 - accuracy: 0.3317 - f1_metric: 0.0000e+00 - val_loss: 1.1184 - val_accuracy: 0.3264 - val_f1_metric: 0.0000e+00\n",
      "Epoch 6/40\n",
      "63/63 [==============================] - 4s 71ms/step - loss: 1.1144 - accuracy: 0.3304 - f1_metric: 0.0000e+00 - val_loss: 1.1148 - val_accuracy: 0.3264 - val_f1_metric: 0.0000e+00\n",
      "Epoch 6: early stopping\n",
      "99/99 [==============================] - 0s 3ms/step\n",
      "99/99 [==============================] - 0s 3ms/step\n",
      "neurons: (15, 10) || activation: relu || learning_rate: 1 || batch_size: 200 || epochs: 40 || metrics: (0.32643970728603244, 0.492204365555289)\n",
      "Epoch 1/20\n",
      " 1/32 [..............................] - ETA: 2s - loss: 3.2486 - accuracy: 0.4150 - f1_metric: 0.5866"
     ]
    },
    {
     "name": "stderr",
     "output_type": "stream",
     "text": [
      "<ipython-input-32-bdc1ec9720ab>:28: DeprecationWarning: KerasClassifier is deprecated, use Sci-Keras (https://github.com/adriangb/scikeras) instead. See https://www.adriangb.com/scikeras/stable/migration.html for help migrating.\n",
      "  nn = KerasClassifier(build_fn=nn_cl_fun, verbose=1)\n"
     ]
    },
    {
     "name": "stdout",
     "output_type": "stream",
     "text": [
      "32/32 [==============================] - 3s 81ms/step - loss: 16.7648 - accuracy: 0.3412 - f1_metric: 0.2265 - val_loss: 1.1118 - val_accuracy: 0.3344 - val_f1_metric: 0.0000e+00\n",
      "Epoch 2/20\n",
      "32/32 [==============================] - 2s 72ms/step - loss: 1.1077 - accuracy: 0.3324 - f1_metric: 0.0000e+00 - val_loss: 1.0987 - val_accuracy: 0.3264 - val_f1_metric: 0.0000e+00\n",
      "Epoch 3/20\n",
      "32/32 [==============================] - 2s 71ms/step - loss: 1.1004 - accuracy: 0.3402 - f1_metric: 0.0000e+00 - val_loss: 1.0991 - val_accuracy: 0.3392 - val_f1_metric: 0.0000e+00\n",
      "Epoch 4/20\n",
      "32/32 [==============================] - 2s 72ms/step - loss: 1.1019 - accuracy: 0.3303 - f1_metric: 0.0000e+00 - val_loss: 1.1002 - val_accuracy: 0.3392 - val_f1_metric: 0.0000e+00\n",
      "Epoch 5/20\n",
      "32/32 [==============================] - 2s 71ms/step - loss: 1.1017 - accuracy: 0.3398 - f1_metric: 0.0000e+00 - val_loss: 1.1024 - val_accuracy: 0.3392 - val_f1_metric: 0.0000e+00\n",
      "Epoch 6/20\n",
      "32/32 [==============================] - 3s 79ms/step - loss: 1.1013 - accuracy: 0.3258 - f1_metric: 0.0000e+00 - val_loss: 1.1096 - val_accuracy: 0.3264 - val_f1_metric: 0.0000e+00\n",
      "Epoch 6: early stopping\n",
      "99/99 [==============================] - 0s 3ms/step\n",
      "99/99 [==============================] - 0s 3ms/step\n",
      "neurons: (15, 10) || activation: relu || learning_rate: 1 || batch_size: 400 || epochs: 20 || metrics: (0.32643970728603244, 0.492204365555289)\n",
      "Epoch 1/40\n",
      " 1/32 [..............................] - ETA: 2s - loss: 7.8484 - accuracy: 0.2675 - f1_metric: 0.4221"
     ]
    },
    {
     "name": "stderr",
     "output_type": "stream",
     "text": [
      "<ipython-input-32-bdc1ec9720ab>:28: DeprecationWarning: KerasClassifier is deprecated, use Sci-Keras (https://github.com/adriangb/scikeras) instead. See https://www.adriangb.com/scikeras/stable/migration.html for help migrating.\n",
      "  nn = KerasClassifier(build_fn=nn_cl_fun, verbose=1)\n"
     ]
    },
    {
     "name": "stdout",
     "output_type": "stream",
     "text": [
      "32/32 [==============================] - 2s 73ms/step - loss: 39.7972 - accuracy: 0.3402 - f1_metric: 0.2049 - val_loss: 1.1083 - val_accuracy: 0.3264 - val_f1_metric: 0.0000e+00\n",
      "Epoch 2/40\n",
      "32/32 [==============================] - 3s 80ms/step - loss: 1.1061 - accuracy: 0.3395 - f1_metric: 0.0000e+00 - val_loss: 1.0987 - val_accuracy: 0.3344 - val_f1_metric: 0.0000e+00\n",
      "Epoch 3/40\n",
      "32/32 [==============================] - 2s 71ms/step - loss: 1.1008 - accuracy: 0.3386 - f1_metric: 0.0000e+00 - val_loss: 1.0998 - val_accuracy: 0.3392 - val_f1_metric: 0.0000e+00\n",
      "Epoch 4/40\n",
      "32/32 [==============================] - 2s 71ms/step - loss: 1.1007 - accuracy: 0.3300 - f1_metric: 0.0000e+00 - val_loss: 1.0996 - val_accuracy: 0.3344 - val_f1_metric: 0.0000e+00\n",
      "Epoch 5/40\n",
      "32/32 [==============================] - 3s 80ms/step - loss: 1.1038 - accuracy: 0.3320 - f1_metric: 0.0000e+00 - val_loss: 1.1046 - val_accuracy: 0.3344 - val_f1_metric: 0.0000e+00\n",
      "Epoch 6/40\n",
      "32/32 [==============================] - 2s 72ms/step - loss: 1.1007 - accuracy: 0.3401 - f1_metric: 0.0000e+00 - val_loss: 1.1023 - val_accuracy: 0.3344 - val_f1_metric: 0.0000e+00\n",
      "Epoch 6: early stopping\n",
      "99/99 [==============================] - 0s 3ms/step\n",
      "99/99 [==============================] - 0s 3ms/step\n",
      "neurons: (15, 10) || activation: relu || learning_rate: 1 || batch_size: 400 || epochs: 40 || metrics: (0.3343938911867642, 0.5011921793037672)\n",
      "Epoch 1/20\n",
      " 1/63 [..............................] - ETA: 5s - loss: 1.1471 - accuracy: 0.3200 - f1_metric: 0.0000e+00"
     ]
    },
    {
     "name": "stderr",
     "output_type": "stream",
     "text": [
      "<ipython-input-32-bdc1ec9720ab>:28: DeprecationWarning: KerasClassifier is deprecated, use Sci-Keras (https://github.com/adriangb/scikeras) instead. See https://www.adriangb.com/scikeras/stable/migration.html for help migrating.\n",
      "  nn = KerasClassifier(build_fn=nn_cl_fun, verbose=1)\n"
     ]
    },
    {
     "name": "stdout",
     "output_type": "stream",
     "text": [
      "63/63 [==============================] - 5s 80ms/step - loss: 1.0742 - accuracy: 0.4044 - f1_metric: 0.0269 - val_loss: 1.0432 - val_accuracy: 0.4531 - val_f1_metric: 0.0572\n",
      "Epoch 2/20\n",
      "63/63 [==============================] - 5s 80ms/step - loss: 1.0057 - accuracy: 0.4848 - f1_metric: 0.3231 - val_loss: 0.9878 - val_accuracy: 0.4785 - val_f1_metric: 0.4253\n",
      "Epoch 3/20\n",
      "63/63 [==============================] - 4s 70ms/step - loss: 0.9761 - accuracy: 0.5045 - f1_metric: 0.4301 - val_loss: 0.9670 - val_accuracy: 0.5180 - val_f1_metric: 0.4398\n",
      "Epoch 4/20\n",
      "63/63 [==============================] - 5s 79ms/step - loss: 0.9661 - accuracy: 0.5124 - f1_metric: 0.4391 - val_loss: 0.9630 - val_accuracy: 0.5240 - val_f1_metric: 0.4297\n",
      "Epoch 5/20\n",
      "63/63 [==============================] - 5s 79ms/step - loss: 0.9625 - accuracy: 0.5168 - f1_metric: 0.4467 - val_loss: 0.9602 - val_accuracy: 0.5247 - val_f1_metric: 0.4507\n",
      "Epoch 6/20\n",
      "63/63 [==============================] - 5s 72ms/step - loss: 0.9599 - accuracy: 0.5218 - f1_metric: 0.4545 - val_loss: 0.9557 - val_accuracy: 0.5212 - val_f1_metric: 0.4624\n",
      "Epoch 7/20\n",
      "63/63 [==============================] - 4s 71ms/step - loss: 0.9575 - accuracy: 0.5222 - f1_metric: 0.4515 - val_loss: 0.9607 - val_accuracy: 0.5221 - val_f1_metric: 0.4585\n",
      "Epoch 8/20\n",
      "63/63 [==============================] - 5s 79ms/step - loss: 0.9621 - accuracy: 0.5198 - f1_metric: 0.4541 - val_loss: 0.9555 - val_accuracy: 0.5304 - val_f1_metric: 0.4627\n",
      "Epoch 9/20\n",
      "63/63 [==============================] - 5s 80ms/step - loss: 0.9537 - accuracy: 0.5233 - f1_metric: 0.4610 - val_loss: 0.9661 - val_accuracy: 0.5170 - val_f1_metric: 0.4666\n",
      "Epoch 10/20\n",
      "63/63 [==============================] - 5s 78ms/step - loss: 0.9527 - accuracy: 0.5241 - f1_metric: 0.4584 - val_loss: 0.9537 - val_accuracy: 0.5202 - val_f1_metric: 0.4260\n",
      "Epoch 11/20\n",
      "63/63 [==============================] - 5s 79ms/step - loss: 0.9498 - accuracy: 0.5264 - f1_metric: 0.4630 - val_loss: 0.9538 - val_accuracy: 0.5173 - val_f1_metric: 0.4516\n",
      "Epoch 12/20\n",
      "63/63 [==============================] - 5s 79ms/step - loss: 0.9508 - accuracy: 0.5241 - f1_metric: 0.4646 - val_loss: 0.9574 - val_accuracy: 0.5135 - val_f1_metric: 0.4510\n",
      "Epoch 13/20\n",
      "63/63 [==============================] - 4s 71ms/step - loss: 0.9502 - accuracy: 0.5295 - f1_metric: 0.4607 - val_loss: 0.9540 - val_accuracy: 0.5218 - val_f1_metric: 0.4693\n",
      "Epoch 14/20\n",
      "63/63 [==============================] - 5s 79ms/step - loss: 0.9488 - accuracy: 0.5264 - f1_metric: 0.4697 - val_loss: 0.9533 - val_accuracy: 0.5243 - val_f1_metric: 0.4731\n",
      "Epoch 15/20\n",
      "63/63 [==============================] - 5s 80ms/step - loss: 0.9499 - accuracy: 0.5264 - f1_metric: 0.4606 - val_loss: 0.9448 - val_accuracy: 0.5313 - val_f1_metric: 0.4588\n",
      "Epoch 16/20\n",
      "63/63 [==============================] - 5s 72ms/step - loss: 0.9464 - accuracy: 0.5278 - f1_metric: 0.4596 - val_loss: 0.9688 - val_accuracy: 0.5024 - val_f1_metric: 0.4782\n",
      "Epoch 17/20\n",
      "63/63 [==============================] - 5s 80ms/step - loss: 0.9460 - accuracy: 0.5291 - f1_metric: 0.4624 - val_loss: 0.9463 - val_accuracy: 0.5294 - val_f1_metric: 0.4904\n",
      "Epoch 18/20\n",
      "63/63 [==============================] - 6s 93ms/step - loss: 0.9462 - accuracy: 0.5283 - f1_metric: 0.4636 - val_loss: 0.9427 - val_accuracy: 0.5329 - val_f1_metric: 0.4725\n",
      "Epoch 19/20\n",
      "63/63 [==============================] - 5s 80ms/step - loss: 0.9416 - accuracy: 0.5295 - f1_metric: 0.4735 - val_loss: 0.9436 - val_accuracy: 0.5355 - val_f1_metric: 0.4629\n",
      "Epoch 20/20\n",
      "63/63 [==============================] - 5s 81ms/step - loss: 0.9484 - accuracy: 0.5244 - f1_metric: 0.4578 - val_loss: 0.9445 - val_accuracy: 0.5367 - val_f1_metric: 0.4453\n",
      "99/99 [==============================] - 0s 3ms/step\n",
      "99/99 [==============================] - 0s 3ms/step\n",
      "neurons: (15, 10) || activation: sigmoid || learning_rate: 0.01 || batch_size: 200 || epochs: 20 || metrics: (0.5367483296213809, 0.5388137759353973)\n",
      "Epoch 1/40\n",
      " 1/63 [..............................] - ETA: 4s - loss: 1.1782 - accuracy: 0.3000 - f1_metric: 0.1481"
     ]
    },
    {
     "name": "stderr",
     "output_type": "stream",
     "text": [
      "<ipython-input-32-bdc1ec9720ab>:28: DeprecationWarning: KerasClassifier is deprecated, use Sci-Keras (https://github.com/adriangb/scikeras) instead. See https://www.adriangb.com/scikeras/stable/migration.html for help migrating.\n",
      "  nn = KerasClassifier(build_fn=nn_cl_fun, verbose=1)\n"
     ]
    },
    {
     "name": "stdout",
     "output_type": "stream",
     "text": [
      "63/63 [==============================] - 5s 72ms/step - loss: 1.0821 - accuracy: 0.3910 - f1_metric: 0.0052 - val_loss: 1.0405 - val_accuracy: 0.4687 - val_f1_metric: 0.0166\n",
      "Epoch 2/40\n",
      "63/63 [==============================] - 5s 80ms/step - loss: 1.0119 - accuracy: 0.4798 - f1_metric: 0.2863 - val_loss: 1.0170 - val_accuracy: 0.4798 - val_f1_metric: 0.4095\n",
      "Epoch 3/40\n",
      "63/63 [==============================] - 5s 72ms/step - loss: 0.9770 - accuracy: 0.5031 - f1_metric: 0.4145 - val_loss: 0.9704 - val_accuracy: 0.4986 - val_f1_metric: 0.5020\n",
      "Epoch 4/40\n",
      "63/63 [==============================] - 4s 71ms/step - loss: 0.9641 - accuracy: 0.5128 - f1_metric: 0.4387 - val_loss: 0.9592 - val_accuracy: 0.5161 - val_f1_metric: 0.4846\n",
      "Epoch 5/40\n",
      "63/63 [==============================] - 5s 79ms/step - loss: 0.9653 - accuracy: 0.5144 - f1_metric: 0.4528 - val_loss: 0.9586 - val_accuracy: 0.5199 - val_f1_metric: 0.4832\n",
      "Epoch 6/40\n",
      "63/63 [==============================] - 4s 71ms/step - loss: 0.9580 - accuracy: 0.5216 - f1_metric: 0.4591 - val_loss: 0.9661 - val_accuracy: 0.5087 - val_f1_metric: 0.4710\n",
      "Epoch 7/40\n",
      "63/63 [==============================] - 4s 70ms/step - loss: 0.9533 - accuracy: 0.5241 - f1_metric: 0.4710 - val_loss: 0.9542 - val_accuracy: 0.5221 - val_f1_metric: 0.4691\n",
      "Epoch 8/40\n",
      "63/63 [==============================] - 4s 70ms/step - loss: 0.9554 - accuracy: 0.5227 - f1_metric: 0.4620 - val_loss: 0.9503 - val_accuracy: 0.5275 - val_f1_metric: 0.4684\n",
      "Epoch 8: early stopping\n",
      "99/99 [==============================] - 0s 3ms/step\n",
      "99/99 [==============================] - 0s 3ms/step\n",
      "neurons: (15, 10) || activation: sigmoid || learning_rate: 0.01 || batch_size: 200 || epochs: 40 || metrics: (0.527521476296532, 0.5306420361306875)\n",
      "Epoch 1/20\n",
      " 1/32 [..............................] - ETA: 2s - loss: 1.1812 - accuracy: 0.2800 - f1_metric: 0.0000e+00"
     ]
    },
    {
     "name": "stderr",
     "output_type": "stream",
     "text": [
      "<ipython-input-32-bdc1ec9720ab>:28: DeprecationWarning: KerasClassifier is deprecated, use Sci-Keras (https://github.com/adriangb/scikeras) instead. See https://www.adriangb.com/scikeras/stable/migration.html for help migrating.\n",
      "  nn = KerasClassifier(build_fn=nn_cl_fun, verbose=1)\n"
     ]
    },
    {
     "name": "stdout",
     "output_type": "stream",
     "text": [
      "32/32 [==============================] - 2s 73ms/step - loss: 1.1033 - accuracy: 0.3390 - f1_metric: 0.0000e+00 - val_loss: 1.0859 - val_accuracy: 0.4069 - val_f1_metric: 0.0000e+00\n",
      "Epoch 2/20\n",
      "32/32 [==============================] - 2s 78ms/step - loss: 1.0657 - accuracy: 0.4342 - f1_metric: 0.0080 - val_loss: 1.0402 - val_accuracy: 0.4626 - val_f1_metric: 0.0537\n",
      "Epoch 3/20\n",
      "32/32 [==============================] - 2s 71ms/step - loss: 1.0208 - accuracy: 0.4686 - f1_metric: 0.2191 - val_loss: 1.0022 - val_accuracy: 0.4757 - val_f1_metric: 0.3018\n",
      "Epoch 4/20\n",
      "32/32 [==============================] - 3s 79ms/step - loss: 0.9902 - accuracy: 0.4920 - f1_metric: 0.3798 - val_loss: 0.9956 - val_accuracy: 0.4804 - val_f1_metric: 0.3860\n",
      "Epoch 5/20\n",
      "32/32 [==============================] - 2s 71ms/step - loss: 0.9760 - accuracy: 0.5031 - f1_metric: 0.4287 - val_loss: 0.9768 - val_accuracy: 0.4916 - val_f1_metric: 0.4589\n",
      "Epoch 6/20\n",
      "32/32 [==============================] - 3s 80ms/step - loss: 0.9658 - accuracy: 0.5117 - f1_metric: 0.4438 - val_loss: 0.9724 - val_accuracy: 0.5122 - val_f1_metric: 0.4689\n",
      "Epoch 7/20\n",
      "32/32 [==============================] - 3s 79ms/step - loss: 0.9629 - accuracy: 0.5103 - f1_metric: 0.4414 - val_loss: 0.9612 - val_accuracy: 0.5215 - val_f1_metric: 0.4429\n",
      "Epoch 8/20\n",
      "32/32 [==============================] - 2s 72ms/step - loss: 0.9573 - accuracy: 0.5199 - f1_metric: 0.4454 - val_loss: 0.9585 - val_accuracy: 0.5266 - val_f1_metric: 0.4439\n",
      "Epoch 9/20\n",
      "32/32 [==============================] - 3s 79ms/step - loss: 0.9544 - accuracy: 0.5247 - f1_metric: 0.4514 - val_loss: 0.9540 - val_accuracy: 0.5282 - val_f1_metric: 0.4615\n",
      "Epoch 10/20\n",
      "32/32 [==============================] - 2s 71ms/step - loss: 0.9568 - accuracy: 0.5200 - f1_metric: 0.4541 - val_loss: 0.9564 - val_accuracy: 0.5275 - val_f1_metric: 0.4700\n",
      "Epoch 11/20\n",
      "32/32 [==============================] - 3s 79ms/step - loss: 0.9564 - accuracy: 0.5229 - f1_metric: 0.4625 - val_loss: 0.9529 - val_accuracy: 0.5310 - val_f1_metric: 0.4622\n",
      "Epoch 12/20\n",
      "32/32 [==============================] - 2s 79ms/step - loss: 0.9506 - accuracy: 0.5289 - f1_metric: 0.4604 - val_loss: 0.9511 - val_accuracy: 0.5339 - val_f1_metric: 0.4744\n",
      "Epoch 13/20\n",
      "32/32 [==============================] - 3s 80ms/step - loss: 0.9488 - accuracy: 0.5247 - f1_metric: 0.4748 - val_loss: 0.9514 - val_accuracy: 0.5275 - val_f1_metric: 0.4837\n",
      "Epoch 14/20\n",
      "32/32 [==============================] - 3s 80ms/step - loss: 0.9495 - accuracy: 0.5238 - f1_metric: 0.4755 - val_loss: 0.9505 - val_accuracy: 0.5345 - val_f1_metric: 0.4808\n",
      "Epoch 15/20\n",
      "32/32 [==============================] - 3s 93ms/step - loss: 0.9461 - accuracy: 0.5296 - f1_metric: 0.4674 - val_loss: 0.9524 - val_accuracy: 0.5275 - val_f1_metric: 0.4935\n",
      "Epoch 16/20\n",
      "32/32 [==============================] - 3s 80ms/step - loss: 0.9513 - accuracy: 0.5254 - f1_metric: 0.4689 - val_loss: 0.9497 - val_accuracy: 0.5336 - val_f1_metric: 0.4813\n",
      "Epoch 17/20\n",
      "32/32 [==============================] - 3s 80ms/step - loss: 0.9467 - accuracy: 0.5253 - f1_metric: 0.4819 - val_loss: 0.9463 - val_accuracy: 0.5396 - val_f1_metric: 0.4789\n",
      "Epoch 18/20\n",
      "32/32 [==============================] - 2s 71ms/step - loss: 0.9436 - accuracy: 0.5284 - f1_metric: 0.4712 - val_loss: 0.9485 - val_accuracy: 0.5323 - val_f1_metric: 0.4857\n",
      "Epoch 19/20\n",
      "32/32 [==============================] - 3s 81ms/step - loss: 0.9448 - accuracy: 0.5327 - f1_metric: 0.4739 - val_loss: 0.9488 - val_accuracy: 0.5358 - val_f1_metric: 0.4859\n",
      "Epoch 20/20\n",
      "32/32 [==============================] - 3s 80ms/step - loss: 0.9437 - accuracy: 0.5328 - f1_metric: 0.4766 - val_loss: 0.9480 - val_accuracy: 0.5345 - val_f1_metric: 0.4849\n",
      "Epoch 20: early stopping\n",
      "99/99 [==============================] - 0s 3ms/step\n",
      "99/99 [==============================] - 0s 3ms/step\n",
      "neurons: (15, 10) || activation: sigmoid || learning_rate: 0.01 || batch_size: 400 || epochs: 20 || metrics: (0.534521158129176, 0.5338981455085737)\n",
      "Epoch 1/40\n",
      " 1/32 [..............................] - ETA: 2s - loss: 1.1132 - accuracy: 0.3350 - f1_metric: 0.0000e+00"
     ]
    },
    {
     "name": "stderr",
     "output_type": "stream",
     "text": [
      "<ipython-input-32-bdc1ec9720ab>:28: DeprecationWarning: KerasClassifier is deprecated, use Sci-Keras (https://github.com/adriangb/scikeras) instead. See https://www.adriangb.com/scikeras/stable/migration.html for help migrating.\n",
      "  nn = KerasClassifier(build_fn=nn_cl_fun, verbose=1)\n"
     ]
    },
    {
     "name": "stdout",
     "output_type": "stream",
     "text": [
      "32/32 [==============================] - 3s 81ms/step - loss: 1.0852 - accuracy: 0.3860 - f1_metric: 0.0032 - val_loss: 1.0603 - val_accuracy: 0.4403 - val_f1_metric: 0.0435\n",
      "Epoch 2/40\n",
      "32/32 [==============================] - 2s 79ms/step - loss: 1.0452 - accuracy: 0.4505 - f1_metric: 0.1648 - val_loss: 1.0242 - val_accuracy: 0.4795 - val_f1_metric: 0.1597\n",
      "Epoch 3/40\n",
      "32/32 [==============================] - 3s 79ms/step - loss: 1.0051 - accuracy: 0.4851 - f1_metric: 0.3069 - val_loss: 0.9908 - val_accuracy: 0.4808 - val_f1_metric: 0.3838\n",
      "Epoch 4/40\n",
      "32/32 [==============================] - 2s 71ms/step - loss: 0.9779 - accuracy: 0.5015 - f1_metric: 0.4127 - val_loss: 0.9765 - val_accuracy: 0.5056 - val_f1_metric: 0.4383\n",
      "Epoch 5/40\n",
      "32/32 [==============================] - 2s 71ms/step - loss: 0.9675 - accuracy: 0.5146 - f1_metric: 0.4390 - val_loss: 0.9641 - val_accuracy: 0.5189 - val_f1_metric: 0.4316\n",
      "Epoch 6/40\n",
      "32/32 [==============================] - 3s 80ms/step - loss: 0.9620 - accuracy: 0.5174 - f1_metric: 0.4464 - val_loss: 0.9620 - val_accuracy: 0.5221 - val_f1_metric: 0.4196\n",
      "Epoch 7/40\n",
      "32/32 [==============================] - 2s 72ms/step - loss: 0.9590 - accuracy: 0.5207 - f1_metric: 0.4497 - val_loss: 0.9589 - val_accuracy: 0.5183 - val_f1_metric: 0.4378\n",
      "Epoch 8/40\n",
      "32/32 [==============================] - 2s 71ms/step - loss: 0.9558 - accuracy: 0.5256 - f1_metric: 0.4518 - val_loss: 0.9552 - val_accuracy: 0.5221 - val_f1_metric: 0.4861\n",
      "Epoch 9/40\n",
      "32/32 [==============================] - 3s 80ms/step - loss: 0.9537 - accuracy: 0.5248 - f1_metric: 0.4643 - val_loss: 0.9609 - val_accuracy: 0.5154 - val_f1_metric: 0.4758\n",
      "Epoch 10/40\n",
      "32/32 [==============================] - 3s 80ms/step - loss: 0.9548 - accuracy: 0.5251 - f1_metric: 0.4678 - val_loss: 0.9537 - val_accuracy: 0.5199 - val_f1_metric: 0.4862\n",
      "Epoch 11/40\n",
      "32/32 [==============================] - 3s 79ms/step - loss: 0.9496 - accuracy: 0.5266 - f1_metric: 0.4638 - val_loss: 0.9539 - val_accuracy: 0.5285 - val_f1_metric: 0.4808\n",
      "Epoch 12/40\n",
      "32/32 [==============================] - 3s 80ms/step - loss: 0.9489 - accuracy: 0.5292 - f1_metric: 0.4731 - val_loss: 0.9485 - val_accuracy: 0.5240 - val_f1_metric: 0.4749\n",
      "Epoch 13/40\n",
      "32/32 [==============================] - 3s 80ms/step - loss: 0.9477 - accuracy: 0.5280 - f1_metric: 0.4688 - val_loss: 0.9704 - val_accuracy: 0.5110 - val_f1_metric: 0.5122\n",
      "Epoch 14/40\n",
      "32/32 [==============================] - 3s 80ms/step - loss: 0.9538 - accuracy: 0.5237 - f1_metric: 0.4727 - val_loss: 0.9564 - val_accuracy: 0.5173 - val_f1_metric: 0.4548\n",
      "Epoch 15/40\n",
      "32/32 [==============================] - 3s 80ms/step - loss: 0.9506 - accuracy: 0.5311 - f1_metric: 0.4716 - val_loss: 0.9498 - val_accuracy: 0.5326 - val_f1_metric: 0.4639\n",
      "Epoch 16/40\n",
      "32/32 [==============================] - 2s 72ms/step - loss: 0.9458 - accuracy: 0.5284 - f1_metric: 0.4800 - val_loss: 0.9486 - val_accuracy: 0.5240 - val_f1_metric: 0.4900\n",
      "Epoch 17/40\n",
      "32/32 [==============================] - 2s 72ms/step - loss: 0.9424 - accuracy: 0.5313 - f1_metric: 0.4806 - val_loss: 0.9463 - val_accuracy: 0.5275 - val_f1_metric: 0.4964\n",
      "Epoch 18/40\n",
      "32/32 [==============================] - 3s 86ms/step - loss: 0.9418 - accuracy: 0.5329 - f1_metric: 0.4772 - val_loss: 0.9452 - val_accuracy: 0.5237 - val_f1_metric: 0.4790\n",
      "Epoch 18: early stopping\n",
      "99/99 [==============================] - 0s 4ms/step\n",
      "99/99 [==============================] - 0s 4ms/step\n",
      "neurons: (15, 10) || activation: sigmoid || learning_rate: 0.01 || batch_size: 400 || epochs: 40 || metrics: (0.5237034680241808, 0.5239057302444564)\n",
      "Epoch 1/20\n",
      " 1/63 [..............................] - ETA: 4s - loss: 1.1211 - accuracy: 0.3450 - f1_metric: 0.0000e+00"
     ]
    },
    {
     "name": "stderr",
     "output_type": "stream",
     "text": [
      "<ipython-input-32-bdc1ec9720ab>:28: DeprecationWarning: KerasClassifier is deprecated, use Sci-Keras (https://github.com/adriangb/scikeras) instead. See https://www.adriangb.com/scikeras/stable/migration.html for help migrating.\n",
      "  nn = KerasClassifier(build_fn=nn_cl_fun, verbose=1)\n"
     ]
    },
    {
     "name": "stdout",
     "output_type": "stream",
     "text": [
      "63/63 [==============================] - 5s 80ms/step - loss: 1.3590 - accuracy: 0.3309 - f1_metric: 0.1593 - val_loss: 1.1101 - val_accuracy: 0.3392 - val_f1_metric: 0.0000e+00\n",
      "Epoch 2/20\n",
      "63/63 [==============================] - 5s 79ms/step - loss: 1.1233 - accuracy: 0.3350 - f1_metric: 0.0234 - val_loss: 1.1713 - val_accuracy: 0.3344 - val_f1_metric: 0.5011\n",
      "Epoch 3/20\n",
      "63/63 [==============================] - 5s 79ms/step - loss: 1.1341 - accuracy: 0.3330 - f1_metric: 0.0491 - val_loss: 1.1203 - val_accuracy: 0.3344 - val_f1_metric: 0.0000e+00\n",
      "Epoch 4/20\n",
      "63/63 [==============================] - 5s 79ms/step - loss: 1.1450 - accuracy: 0.3316 - f1_metric: 0.0869 - val_loss: 1.1561 - val_accuracy: 0.3264 - val_f1_metric: 0.0000e+00\n",
      "Epoch 5/20\n",
      "63/63 [==============================] - 5s 79ms/step - loss: 1.1259 - accuracy: 0.3292 - f1_metric: 0.0330 - val_loss: 1.1106 - val_accuracy: 0.3264 - val_f1_metric: 0.0000e+00\n",
      "Epoch 6/20\n",
      "63/63 [==============================] - 5s 79ms/step - loss: 1.1438 - accuracy: 0.3343 - f1_metric: 0.0692 - val_loss: 1.2010 - val_accuracy: 0.3392 - val_f1_metric: 0.0000e+00\n",
      "Epoch 7/20\n",
      "63/63 [==============================] - 5s 79ms/step - loss: 1.1595 - accuracy: 0.3327 - f1_metric: 0.0916 - val_loss: 1.1383 - val_accuracy: 0.3264 - val_f1_metric: 0.0000e+00\n",
      "Epoch 7: early stopping\n",
      "99/99 [==============================] - 0s 3ms/step\n",
      "99/99 [==============================] - 0s 3ms/step\n",
      "neurons: (15, 10) || activation: sigmoid || learning_rate: 1 || batch_size: 200 || epochs: 20 || metrics: (0.32643970728603244, 0.492204365555289)\n",
      "Epoch 1/40\n",
      " 1/63 [..............................] - ETA: 4s - loss: 1.4655 - accuracy: 0.2550 - f1_metric: 0.4064"
     ]
    },
    {
     "name": "stderr",
     "output_type": "stream",
     "text": [
      "<ipython-input-32-bdc1ec9720ab>:28: DeprecationWarning: KerasClassifier is deprecated, use Sci-Keras (https://github.com/adriangb/scikeras) instead. See https://www.adriangb.com/scikeras/stable/migration.html for help migrating.\n",
      "  nn = KerasClassifier(build_fn=nn_cl_fun, verbose=1)\n"
     ]
    },
    {
     "name": "stdout",
     "output_type": "stream",
     "text": [
      "63/63 [==============================] - 4s 71ms/step - loss: 1.2780 - accuracy: 0.3269 - f1_metric: 0.1407 - val_loss: 1.1553 - val_accuracy: 0.3344 - val_f1_metric: 0.0000e+00\n",
      "Epoch 2/40\n",
      "63/63 [==============================] - 4s 71ms/step - loss: 1.1292 - accuracy: 0.3323 - f1_metric: 0.0236 - val_loss: 1.1185 - val_accuracy: 0.3264 - val_f1_metric: 0.0000e+00\n",
      "Epoch 3/40\n",
      "63/63 [==============================] - 5s 79ms/step - loss: 1.1097 - accuracy: 0.3342 - f1_metric: 0.0080 - val_loss: 1.1020 - val_accuracy: 0.3392 - val_f1_metric: 0.0000e+00\n",
      "Epoch 4/40\n",
      "63/63 [==============================] - 5s 79ms/step - loss: 1.1144 - accuracy: 0.3370 - f1_metric: 0.0163 - val_loss: 1.1808 - val_accuracy: 0.3344 - val_f1_metric: 0.5011\n",
      "Epoch 5/40\n",
      "63/63 [==============================] - 5s 80ms/step - loss: 1.1297 - accuracy: 0.3325 - f1_metric: 0.0624 - val_loss: 1.1134 - val_accuracy: 0.3264 - val_f1_metric: 0.0000e+00\n",
      "Epoch 6/40\n",
      "63/63 [==============================] - 5s 79ms/step - loss: 1.1322 - accuracy: 0.3387 - f1_metric: 0.0575 - val_loss: 1.1107 - val_accuracy: 0.3392 - val_f1_metric: 0.0000e+00\n",
      "Epoch 7/40\n",
      "63/63 [==============================] - 4s 71ms/step - loss: 1.1185 - accuracy: 0.3365 - f1_metric: 0.0077 - val_loss: 1.0987 - val_accuracy: 0.3392 - val_f1_metric: 0.0000e+00\n",
      "Epoch 8/40\n",
      "63/63 [==============================] - 4s 71ms/step - loss: 1.1269 - accuracy: 0.3387 - f1_metric: 0.0170 - val_loss: 1.1338 - val_accuracy: 0.3264 - val_f1_metric: 0.0000e+00\n",
      "Epoch 9/40\n",
      "63/63 [==============================] - 4s 72ms/step - loss: 1.1496 - accuracy: 0.3306 - f1_metric: 0.1095 - val_loss: 1.1053 - val_accuracy: 0.3392 - val_f1_metric: 0.0000e+00\n",
      "Epoch 9: early stopping\n",
      "99/99 [==============================] - 0s 3ms/step\n",
      "99/99 [==============================] - 0s 3ms/step\n",
      "neurons: (15, 10) || activation: sigmoid || learning_rate: 1 || batch_size: 200 || epochs: 40 || metrics: (0.3391664015272033, 0.5065336184366832)\n",
      "Epoch 1/20\n",
      " 1/32 [..............................] - ETA: 2s - loss: 1.4423 - accuracy: 0.3200 - f1_metric: 0.4848"
     ]
    },
    {
     "name": "stderr",
     "output_type": "stream",
     "text": [
      "<ipython-input-32-bdc1ec9720ab>:28: DeprecationWarning: KerasClassifier is deprecated, use Sci-Keras (https://github.com/adriangb/scikeras) instead. See https://www.adriangb.com/scikeras/stable/migration.html for help migrating.\n",
      "  nn = KerasClassifier(build_fn=nn_cl_fun, verbose=1)\n"
     ]
    },
    {
     "name": "stdout",
     "output_type": "stream",
     "text": [
      "32/32 [==============================] - 2s 73ms/step - loss: 1.4995 - accuracy: 0.3285 - f1_metric: 0.2187 - val_loss: 1.1388 - val_accuracy: 0.3392 - val_f1_metric: 0.0000e+00\n",
      "Epoch 2/20\n",
      "32/32 [==============================] - 3s 80ms/step - loss: 1.1120 - accuracy: 0.3301 - f1_metric: 0.0000e+00 - val_loss: 1.1026 - val_accuracy: 0.3344 - val_f1_metric: 0.0000e+00\n",
      "Epoch 3/20\n",
      "32/32 [==============================] - 3s 80ms/step - loss: 1.1004 - accuracy: 0.3337 - f1_metric: 0.0000e+00 - val_loss: 1.1043 - val_accuracy: 0.3344 - val_f1_metric: 0.0000e+00\n",
      "Epoch 4/20\n",
      "32/32 [==============================] - 3s 80ms/step - loss: 1.1029 - accuracy: 0.3264 - f1_metric: 0.0000e+00 - val_loss: 1.1005 - val_accuracy: 0.3344 - val_f1_metric: 0.0000e+00\n",
      "Epoch 5/20\n",
      "32/32 [==============================] - 3s 80ms/step - loss: 1.1020 - accuracy: 0.3349 - f1_metric: 0.0000e+00 - val_loss: 1.0990 - val_accuracy: 0.3392 - val_f1_metric: 0.0000e+00\n",
      "Epoch 6/20\n",
      "32/32 [==============================] - 2s 72ms/step - loss: 1.1015 - accuracy: 0.3286 - f1_metric: 0.0000e+00 - val_loss: 1.1051 - val_accuracy: 0.3344 - val_f1_metric: 0.0000e+00\n",
      "Epoch 6: early stopping\n",
      "99/99 [==============================] - 0s 2ms/step\n",
      "99/99 [==============================] - 0s 3ms/step\n",
      "neurons: (15, 10) || activation: sigmoid || learning_rate: 1 || batch_size: 400 || epochs: 20 || metrics: (0.3343938911867642, 0.5011921793037672)\n",
      "Epoch 1/40\n",
      " 1/32 [..............................] - ETA: 2s - loss: 1.2002 - accuracy: 0.3575 - f1_metric: 0.5267"
     ]
    },
    {
     "name": "stderr",
     "output_type": "stream",
     "text": [
      "<ipython-input-32-bdc1ec9720ab>:28: DeprecationWarning: KerasClassifier is deprecated, use Sci-Keras (https://github.com/adriangb/scikeras) instead. See https://www.adriangb.com/scikeras/stable/migration.html for help migrating.\n",
      "  nn = KerasClassifier(build_fn=nn_cl_fun, verbose=1)\n"
     ]
    },
    {
     "name": "stdout",
     "output_type": "stream",
     "text": [
      "32/32 [==============================] - 2s 74ms/step - loss: 1.4776 - accuracy: 0.3299 - f1_metric: 0.2900 - val_loss: 1.1395 - val_accuracy: 0.3344 - val_f1_metric: 0.0000e+00\n",
      "Epoch 2/40\n",
      "32/32 [==============================] - 2s 71ms/step - loss: 1.1150 - accuracy: 0.3343 - f1_metric: 0.0000e+00 - val_loss: 1.0987 - val_accuracy: 0.3392 - val_f1_metric: 0.0000e+00\n",
      "Epoch 3/40\n",
      "32/32 [==============================] - 2s 72ms/step - loss: 1.1181 - accuracy: 0.3349 - f1_metric: 0.0000e+00 - val_loss: 1.1023 - val_accuracy: 0.3264 - val_f1_metric: 0.0000e+00\n",
      "Epoch 4/40\n",
      "32/32 [==============================] - 3s 80ms/step - loss: 1.1062 - accuracy: 0.3344 - f1_metric: 0.0000e+00 - val_loss: 1.1166 - val_accuracy: 0.3264 - val_f1_metric: 0.0000e+00\n",
      "Epoch 5/40\n",
      "32/32 [==============================] - 3s 80ms/step - loss: 1.1070 - accuracy: 0.3327 - f1_metric: 0.0000e+00 - val_loss: 1.1219 - val_accuracy: 0.3392 - val_f1_metric: 0.0000e+00\n",
      "Epoch 6/40\n",
      "32/32 [==============================] - 2s 73ms/step - loss: 1.1177 - accuracy: 0.3344 - f1_metric: 0.0000e+00 - val_loss: 1.1098 - val_accuracy: 0.3392 - val_f1_metric: 0.0000e+00\n",
      "Epoch 6: early stopping\n",
      "99/99 [==============================] - 0s 3ms/step\n",
      "99/99 [==============================] - 0s 3ms/step\n",
      "neurons: (15, 10) || activation: sigmoid || learning_rate: 1 || batch_size: 400 || epochs: 40 || metrics: (0.3391664015272033, 0.5065336184366832)\n"
     ]
    },
    {
     "data": {
      "text/plain": [
       "[('neurons: (12, 7) || activation: relu || learning_rate: 0.01 || batch_size: 400 || epochs: 20',\n",
       "  (0.5217944638880051, 0.5323450512094107)),\n",
       " ('neurons: (15, 10) || activation: sigmoid || learning_rate: 0.01 || batch_size: 400 || epochs: 20',\n",
       "  (0.534521158129176, 0.5338981455085737)),\n",
       " ('neurons: (15, 10) || activation: sigmoid || learning_rate: 0.01 || batch_size: 200 || epochs: 20',\n",
       "  (0.5367483296213809, 0.5388137759353973)),\n",
       " ('neurons: (12, 7) || activation: sigmoid || learning_rate: 0.01 || batch_size: 200 || epochs: 40',\n",
       "  (0.5348393254852052, 0.5394694304822055)),\n",
       " ('neurons: (12, 7) || activation: sigmoid || learning_rate: 0.01 || batch_size: 400 || epochs: 20',\n",
       "  (0.5370664969774102, 0.5418410716955386))]"
      ]
     },
     "execution_count": 32,
     "metadata": {},
     "output_type": "execute_result"
    }
   ],
   "source": [
    "X_train, X_val, y_train, y_val = train_test_split(X, y, test_size=0.2, random_state=17)\n",
    "\n",
    "params_nn ={\n",
    "    'neurons': ((12, 7), (15, 10)),\n",
    "    'activation': ('relu', 'sigmoid'), #, 'softmax', 'exponential'),\n",
    "    'learning_rate':(0.01, 1),\n",
    "    'batch_size':(200, 400),\n",
    "    'epochs':(20, 40)\n",
    "}\n",
    "\n",
    "score_map = {}\n",
    "for neurons in params_nn['neurons']:\n",
    "    for activation in params_nn['activation']:\n",
    "        for learning_rate in params_nn['learning_rate']:\n",
    "            for batch_size in params_nn['batch_size']:\n",
    "                for epochs in params_nn['epochs']:\n",
    "                    neurons1 = neurons[0]\n",
    "                    neurons2 = neurons[1]\n",
    "                    def nn_cl_fun():\n",
    "                        opt = Adam(learning_rate = learning_rate)\n",
    "                        nn = Sequential()\n",
    "                        nn.add(Dense(neurons1, input_shape=(16, ), activation=activation))\n",
    "                        nn.add(Dense(neurons2, activation=activation))\n",
    "                        nn.add(Dense(3, activation='softmax'))\n",
    "                        nn.compile(loss='categorical_crossentropy', optimizer=opt, metrics=['accuracy', f1_metric], run_eagerly=True)\n",
    "                        return nn\n",
    "                    es = EarlyStopping(monitor='val_f1_metric', mode='max', verbose=1, patience=5)\n",
    "                    nn = KerasClassifier(build_fn=nn_cl_fun, verbose=1)\n",
    "                    # kfold = KFold(n_splits=2, shuffle=True, random_state=17)\n",
    "                    # score = cross_val_score(nn, X_train, y_train, scoring=score_acc, cv=kfold, fit_params={'callbacks':[es]}, error_score='raise').mean()\n",
    "                    history = nn.fit(X_train, y_train, verbose=1, epochs=epochs, batch_size=batch_size, validation_data=(X_val, pd.get_dummies(y_val)), callbacks=[es])\n",
    "                    val_acc = accuracy_score(nn.predict(X_val), y_val)\n",
    "                    val_f1 = f1_score(nn.predict(X_val), y_val, average='weighted')\n",
    "                    score_map[f\"neurons: {neurons} || activation: {activation} || learning_rate: {learning_rate} || batch_size: {batch_size} || epochs: {epochs}\"] = (val_acc, val_f1)\n",
    "                    print(f\"neurons: {neurons} || activation: {activation} || learning_rate: {learning_rate} || batch_size: {batch_size} || epochs: {epochs} || metrics: {(val_acc, val_f1)}\")\n",
    "\n",
    "\n",
    "sorted(score_map.items(), key=lambda item: item[1][-1])[-5:] # top performing architectures (based on validation f1-score)"
   ]
  },
  {
   "cell_type": "markdown",
   "metadata": {
    "id": "8W-JPoGtgPhT"
   },
   "source": [
    "**Best Model Hyperparameters**\n",
    "\n",
    "* Hidden layer 1: #nodes = 12\n",
    "* Hidden layer 2: #nodes = 7\n",
    "* Activation functions for the hidden layers: sigmoid\n",
    "* Learning rate: 0.01\n",
    "* Batch size: 400\n",
    "* Num. of epochs: 20 with no early stopping"
   ]
  },
  {
   "cell_type": "code",
   "execution_count": 33,
   "metadata": {
    "colab": {
     "base_uri": "https://localhost:8080/",
     "height": 0
    },
    "id": "GNYBTxyfgO6V",
    "outputId": "42993b82-1c5a-451a-eaf7-e646398ada65"
   },
   "outputs": [
    {
     "name": "stdout",
     "output_type": "stream",
     "text": [
      "Epoch 1/20\n",
      " 1/32 [..............................] - ETA: 2s - loss: 1.1478 - accuracy: 0.3475 - f1_metric: 0.0000e+00"
     ]
    },
    {
     "name": "stderr",
     "output_type": "stream",
     "text": [
      "<ipython-input-33-794bff2cc923>:16: DeprecationWarning: KerasClassifier is deprecated, use Sci-Keras (https://github.com/adriangb/scikeras) instead. See https://www.adriangb.com/scikeras/stable/migration.html for help migrating.\n",
      "  nn1 = KerasClassifier(build_fn=nn_cl_fun, verbose=1)\n"
     ]
    },
    {
     "name": "stdout",
     "output_type": "stream",
     "text": [
      "32/32 [==============================] - 2s 72ms/step - loss: 1.0991 - accuracy: 0.3625 - f1_metric: 0.0000e+00 - val_loss: 1.0847 - val_accuracy: 0.4120 - val_f1_metric: 0.0000e+00\n",
      "Epoch 2/20\n",
      "32/32 [==============================] - 2s 73ms/step - loss: 1.0666 - accuracy: 0.4277 - f1_metric: 3.6337e-04 - val_loss: 1.0430 - val_accuracy: 0.4483 - val_f1_metric: 0.0019\n",
      "Epoch 3/20\n",
      "32/32 [==============================] - 2s 78ms/step - loss: 1.0224 - accuracy: 0.4698 - f1_metric: 0.2114 - val_loss: 1.0098 - val_accuracy: 0.4827 - val_f1_metric: 0.2722\n",
      "Epoch 4/20\n",
      "32/32 [==============================] - 2s 70ms/step - loss: 0.9885 - accuracy: 0.4948 - f1_metric: 0.3900 - val_loss: 0.9753 - val_accuracy: 0.5094 - val_f1_metric: 0.4631\n",
      "Epoch 5/20\n",
      "32/32 [==============================] - 3s 79ms/step - loss: 0.9694 - accuracy: 0.5084 - f1_metric: 0.4402 - val_loss: 0.9691 - val_accuracy: 0.5097 - val_f1_metric: 0.4858\n",
      "Epoch 6/20\n",
      "32/32 [==============================] - 2s 70ms/step - loss: 0.9634 - accuracy: 0.5171 - f1_metric: 0.4515 - val_loss: 0.9620 - val_accuracy: 0.5167 - val_f1_metric: 0.4735\n",
      "Epoch 7/20\n",
      "32/32 [==============================] - 2s 79ms/step - loss: 0.9620 - accuracy: 0.5187 - f1_metric: 0.4458 - val_loss: 0.9573 - val_accuracy: 0.5247 - val_f1_metric: 0.4770\n",
      "Epoch 8/20\n",
      "32/32 [==============================] - 2s 79ms/step - loss: 0.9571 - accuracy: 0.5241 - f1_metric: 0.4563 - val_loss: 0.9549 - val_accuracy: 0.5212 - val_f1_metric: 0.4835\n",
      "Epoch 9/20\n",
      "32/32 [==============================] - 3s 97ms/step - loss: 0.9539 - accuracy: 0.5239 - f1_metric: 0.4679 - val_loss: 0.9529 - val_accuracy: 0.5250 - val_f1_metric: 0.4745\n",
      "Epoch 10/20\n",
      "32/32 [==============================] - 3s 97ms/step - loss: 0.9545 - accuracy: 0.5210 - f1_metric: 0.4688 - val_loss: 0.9646 - val_accuracy: 0.5234 - val_f1_metric: 0.4336\n",
      "Epoch 11/20\n",
      "32/32 [==============================] - 2s 69ms/step - loss: 0.9518 - accuracy: 0.5233 - f1_metric: 0.4657 - val_loss: 0.9561 - val_accuracy: 0.5180 - val_f1_metric: 0.4772\n",
      "Epoch 12/20\n",
      "32/32 [==============================] - 2s 78ms/step - loss: 0.9495 - accuracy: 0.5289 - f1_metric: 0.4694 - val_loss: 0.9509 - val_accuracy: 0.5272 - val_f1_metric: 0.4711\n",
      "Epoch 13/20\n",
      "32/32 [==============================] - 2s 70ms/step - loss: 0.9483 - accuracy: 0.5279 - f1_metric: 0.4746 - val_loss: 0.9503 - val_accuracy: 0.5323 - val_f1_metric: 0.4746\n",
      "Epoch 14/20\n",
      "32/32 [==============================] - 2s 71ms/step - loss: 0.9482 - accuracy: 0.5226 - f1_metric: 0.4688 - val_loss: 0.9483 - val_accuracy: 0.5313 - val_f1_metric: 0.4720\n",
      "Epoch 15/20\n",
      "32/32 [==============================] - 2s 77ms/step - loss: 0.9479 - accuracy: 0.5294 - f1_metric: 0.4643 - val_loss: 0.9490 - val_accuracy: 0.5282 - val_f1_metric: 0.4803\n",
      "Epoch 16/20\n",
      "32/32 [==============================] - 2s 71ms/step - loss: 0.9479 - accuracy: 0.5276 - f1_metric: 0.4672 - val_loss: 0.9482 - val_accuracy: 0.5358 - val_f1_metric: 0.4860\n",
      "Epoch 17/20\n",
      "32/32 [==============================] - 3s 80ms/step - loss: 0.9503 - accuracy: 0.5236 - f1_metric: 0.4801 - val_loss: 0.9624 - val_accuracy: 0.5192 - val_f1_metric: 0.4343\n",
      "Epoch 18/20\n",
      "32/32 [==============================] - 2s 78ms/step - loss: 0.9462 - accuracy: 0.5261 - f1_metric: 0.4716 - val_loss: 0.9519 - val_accuracy: 0.5224 - val_f1_metric: 0.4800\n",
      "Epoch 19/20\n",
      "32/32 [==============================] - 2s 71ms/step - loss: 0.9441 - accuracy: 0.5284 - f1_metric: 0.4719 - val_loss: 0.9461 - val_accuracy: 0.5285 - val_f1_metric: 0.4865\n",
      "Epoch 20/20\n",
      "32/32 [==============================] - 2s 78ms/step - loss: 0.9430 - accuracy: 0.5322 - f1_metric: 0.4722 - val_loss: 0.9458 - val_accuracy: 0.5399 - val_f1_metric: 0.4756\n"
     ]
    }
   ],
   "source": [
    "neurons1 = 12\n",
    "neurons2 = 7\n",
    "def nn_cl_fun():\n",
    "\topt = Adam(learning_rate = 0.01)\n",
    "\tnn = Sequential()\n",
    "\tnn.add(Dense(neurons1, input_shape=(16, ), activation='sigmoid'))\n",
    "\tnn.add(Dense(neurons2, activation='sigmoid'))\n",
    "\tnn.add(Dense(3, activation='softmax'))\n",
    "\tnn.compile(loss='categorical_crossentropy', optimizer=opt, metrics=['accuracy', f1_metric], run_eagerly=True)\n",
    "\treturn nn\n",
    "\n",
    "nn1 = KerasClassifier(build_fn=nn_cl_fun, verbose=1)\n",
    "history = nn1.fit(X_train, y_train, verbose=1, epochs=20, batch_size=400, validation_data=(X_val, pd.get_dummies(y_val)))"
   ]
  },
  {
   "cell_type": "markdown",
   "metadata": {
    "id": "3NVqcb23bV-n"
   },
   "source": [
    "#### Reporting on the original test data"
   ]
  },
  {
   "cell_type": "code",
   "execution_count": 34,
   "metadata": {
    "colab": {
     "base_uri": "https://localhost:8080/",
     "height": 0
    },
    "id": "mZBOj_oXFRF8",
    "outputId": "6112329d-9461-4296-f563-ebcc79657183"
   },
   "outputs": [
    {
     "name": "stdout",
     "output_type": "stream",
     "text": [
      "82/82 [==============================] - 0s 2ms/step\n",
      "Accuracy:  0.522;     Classification Error:  0.478\n",
      "Classwise precision:  [0.26209048 0.2848723  0.72041522]\n",
      "Weighted precision:  0.561\n",
      "Macro precision:  0.422\n",
      "Micro precision:  0.522\n",
      "Classwise recall:  [0.31284916 0.37564767 0.62260766]\n",
      "Macro recall:  0.437\n",
      "Micro recall:  0.522\n",
      "Macro f1 score:  0.426\n",
      "Micro f1 score:  0.522\n",
      "Weighted f1 score:  0.538\n"
     ]
    }
   ],
   "source": [
    "y_pred = nn1.predict(X_test)\n",
    "from sklearn.metrics import accuracy_score, precision_score, recall_score, roc_auc_score, f1_score\n",
    "from sklearn.metrics import confusion_matrix, classification_report\n",
    "\n",
    "print(\"Accuracy: \", round(accuracy_score(y_test, y_pred), 3), end=';     ')\n",
    "print(\"Classification Error: \", round(1-accuracy_score(y_test, y_pred), 3))\n",
    "# the scores for each class\n",
    "print(\"Classwise precision: \", precision_score(y_test, y_pred, average=None, zero_division=0)) \n",
    "# calculated for each label and a support-weighted mean is taken\n",
    "print(\"Weighted precision: \", round(precision_score(y_test, y_pred, average='weighted', zero_division=0), 3))\n",
    "# calculated for each label and an unweighted mean is taken\n",
    "print(\"Macro precision: \", round(precision_score(y_test, y_pred, average='macro', zero_division=0), 3))\n",
    "# calculated globally by counting the total TPs, FNs and FPs\n",
    "print(\"Micro precision: \", round(precision_score(y_test, y_pred, average='micro', zero_division=0), 3))\n",
    "# the scores for each class\n",
    "print(\"Classwise recall: \", recall_score(y_test, y_pred, average=None)) \n",
    "# calculated for each label and an unweighted mean is taken\n",
    "print(\"Macro recall: \", round(recall_score(y_test, y_pred, average='macro'), 3))\n",
    "# calculated globally by counting the total TPs, FNs and FPs\n",
    "print(\"Micro recall: \", round(recall_score(y_test, y_pred, average='micro'), 3))\n",
    "\n",
    "# calculated for each label and an unweighted mean is taken\n",
    "print(\"Macro f1 score: \", round(f1_score(y_test, y_pred, average='macro'), 3))\n",
    "# calculated globally by counting the total TPs, FNs and FPs\n",
    "print(\"Micro f1 score: \", round(f1_score(y_test, y_pred, average='micro'), 3))\n",
    "# calculated for each label and a support-weighted mean is taken\n",
    "print(\"Weighted f1 score: \", round(f1_score(y_test, y_pred, average='weighted'), 3))"
   ]
  },
  {
   "cell_type": "markdown",
   "metadata": {
    "id": "-rHCfBDmbdz4"
   },
   "source": [
    "#### Loss & f1-score curves for upsampled training & validation sets"
   ]
  },
  {
   "cell_type": "code",
   "execution_count": 35,
   "metadata": {
    "colab": {
     "base_uri": "https://localhost:8080/",
     "height": 295
    },
    "id": "qy-2kUt2FhdB",
    "outputId": "50461fc4-0ee6-485b-859d-9c72e204fade"
   },
   "outputs": [
    {
     "data": {
      "image/png": "[encoded data removed]",
      "text/plain": [
       "<Figure size 432x288 with 1 Axes>"
      ]
     },
     "metadata": {
      "needs_background": "light"
     },
     "output_type": "display_data"
    }
   ],
   "source": [
    "history_dict = history.history\n",
    "\n",
    "loss_values = history_dict['loss']\n",
    "val_loss_values = history_dict['val_loss']\n",
    "\n",
    "epochs = range(1, len(loss_values) + 1)\n",
    "\n",
    "plt.plot(epochs, loss_values, 'bo', label='Training loss')\n",
    "plt.plot(epochs, val_loss_values, 'b', label='Validation loss')\n",
    "plt.title('Training and validation loss')\n",
    "plt.xlabel('Epochs')\n",
    "plt.ylabel('Loss')\n",
    "plt.legend()\n",
    "\n",
    "plt.show()"
   ]
  },
  {
   "cell_type": "code",
   "execution_count": 36,
   "metadata": {
    "colab": {
     "base_uri": "https://localhost:8080/",
     "height": 295
    },
    "id": "X3_p5tcmFiNw",
    "outputId": "f00493fd-2507-47e6-d432-d6a15022d00c"
   },
   "outputs": [
    {
     "data": {
      "image/png": "[encoded data removed]",
      "text/plain": [
       "<Figure size 432x288 with 1 Axes>"
      ]
     },
     "metadata": {
      "needs_background": "light"
     },
     "output_type": "display_data"
    }
   ],
   "source": [
    "history_dict = history.history\n",
    "\n",
    "loss_values = history_dict['f1_metric']\n",
    "val_loss_values = history_dict['val_f1_metric']\n",
    "\n",
    "epochs = range(1, len(loss_values) + 1)\n",
    "\n",
    "plt.plot(epochs, loss_values, 'r', label='Training f1 score')\n",
    "plt.plot(epochs, val_loss_values, 'b', label='Validation f1 score')\n",
    "plt.title('Training and validation f1 score')\n",
    "plt.xlabel('Epochs')\n",
    "plt.ylabel('f1 score')\n",
    "plt.legend()\n",
    "\n",
    "plt.show()"
   ]
  },
  {
   "cell_type": "markdown",
   "metadata": {
    "id": "ah9fgb8pbn2x"
   },
   "source": [
    "#### ROC-AUC curve"
   ]
  },
  {
   "cell_type": "code",
   "execution_count": 37,
   "metadata": {
    "colab": {
     "base_uri": "https://localhost:8080/",
     "height": 312
    },
    "id": "Qv1B-NZgFmSQ",
    "outputId": "53c7455f-36a2-4ad9-a4e7-5fc52e6d0bf1"
   },
   "outputs": [
    {
     "data": {
      "image/png": "[encoded data removed]",
      "text/plain": [
       "<Figure size 432x288 with 1 Axes>"
      ]
     },
     "metadata": {
      "needs_background": "light"
     },
     "output_type": "display_data"
    },
    {
     "data": {
      "text/plain": [
       "<Figure size 1080x720 with 0 Axes>"
      ]
     },
     "metadata": {},
     "output_type": "display_data"
    }
   ],
   "source": [
    "# Code taken from: https://stackoverflow.com/questions/25009284/how-to-plot-roc-curve-in-python\n",
    "# This code binarises the 3 class (Eg. Class 0 --> [0, 0, 0]; Class 1 --> [0, 1, 0], ...) and then graphs the roc.\n",
    "\n",
    "from sklearn.preprocessing import label_binarize\n",
    "from sklearn.metrics import roc_curve\n",
    "\n",
    "# Binarize data for getting AUC \n",
    "y_test_bin = label_binarize(y_test, classes=range(3)) \n",
    "y_pred_bin = label_binarize(y_pred, classes=range(3))\n",
    "\n",
    "# Calculate FP , TP rate\n",
    "fpr, tpr, threshold = roc_curve(y_test_bin.ravel(), y_pred_bin.ravel())\n",
    "\n",
    "# Get AUC , \n",
    "auc = roc_auc_score(y_test_bin, y_pred_bin, average='micro', multi_class='ovr')\n",
    " \n",
    "#create ROC curve\n",
    "plt.plot(fpr,tpr , label= f\"AUC = {auc}\" , )\n",
    "plt.ylabel('True Positive Rate')\n",
    "plt.xlabel('False Positive Rate')\n",
    "plt.xlim([0.0, 1.0])\n",
    "plt.ylim([0.0, 1.0]) \n",
    "plt.title('ROC')\n",
    "plt.legend(loc=7)\n",
    "plt.figure(figsize = [15, 10])\n",
    "\n",
    "plt.show()"
   ]
  },
  {
   "cell_type": "code",
   "execution_count": 39,
   "metadata": {
    "colab": {
     "base_uri": "https://localhost:8080/",
     "height": 0
    },
    "id": "eIrl6x-Nbt0Z",
    "outputId": "48f0fd0b-1850-4267-ec0a-cf6ba614f64d"
   },
   "outputs": [
    {
     "data": {
      "text/plain": [
       "{0, 1, 2}"
      ]
     },
     "execution_count": 39,
     "metadata": {},
     "output_type": "execute_result"
    }
   ],
   "source": [
    "set(y_pred)"
   ]
  },
  {
   "cell_type": "markdown",
   "metadata": {
    "id": "fSXqb7xtbsLy"
   },
   "source": [
    "Even though the evaluation metrics are poorer than the previous model, previously, the model predicted all the test instances to one class. The variation was not fetched by the model. Now, the predictions contain representative from all the classes.\n",
    "\n",
    "Overall, if fine tuned more and experimented with deeper model architectures, this upsampled data could produce a better model than the ones with imbalanced data."
   ]
  },
  {
   "cell_type": "markdown",
   "metadata": {
    "id": "2Q3-VkwVYIKS"
   },
   "source": [
    "**References**\n",
    "\n",
    "* https://stackoverflow.com/questions/50003595/earlystopping-is-ignoring-my-custom-metrics-defined-keras-model\n",
    "\n",
    "* https://machinelearningmastery.com/how-to-stop-training-deep-neural-networks-at-the-right-time-using-early-stopping/\n",
    "\n",
    "* https://machinelearningmastery.com/multi-class-classification-tutorial-keras-deep-learning-library/\n",
    "\n",
    "* https://www.analyticsvidhya.com/blog/2021/05/tuning-the-hyperparameters-and-layers-of-neural-network-deep-learning/\n",
    "\n",
    "* https://stackoverflow.com/questions/25009284/how-to-plot-roc-curve-in-python"
   ]
  }
 ],
 "metadata": {
  "colab": {
   "provenance": []
  },
  "kernelspec": {
   "display_name": "base",
   "language": "python",
   "name": "python3"
  },
  "language_info": {
   "codemirror_mode": {
    "name": "ipython",
    "version": 3
   },
   "file_extension": ".py",
   "mimetype": "text/x-python",
   "name": "python",
   "nbconvert_exporter": "python",
   "pygments_lexer": "ipython3",
   "version": "3.8.8 (default, Apr 13 2021, 15:08:03) [MSC v.1916 64 bit (AMD64)]"
  },
  "vscode": {
   "interpreter": {
    "hash": "452b90bea1dc56bb7abd92e2828b74e7b1bfd708fd58372070ca854e487506c8"
   }
  }
 },
 "nbformat": 4,
 "nbformat_minor": 1
}
